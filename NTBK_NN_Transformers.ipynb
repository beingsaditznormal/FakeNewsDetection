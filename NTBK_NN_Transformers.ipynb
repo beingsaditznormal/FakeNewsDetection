{
 "cells": [
  {
   "cell_type": "code",
   "execution_count": 1,
   "id": "ba96e6ae",
   "metadata": {},
   "outputs": [
    {
     "name": "stdout",
     "output_type": "stream",
     "text": [
      "(44898, 384) (44898,)\n"
     ]
    }
   ],
   "source": [
    "import numpy as np\n",
    "from pymongo import MongoClient\n",
    "\n",
    "client = MongoClient(\"mongodb://localhost:27017/\")\n",
    "coll = client[\"News\"][\"features_transf\"]\n",
    "\n",
    "X_list, y_list = [], []\n",
    "for d in coll.find({}, {\"_id\":0}).sort(\"idx\", 1):\n",
    "    X_list.extend(d[\"X\"])\n",
    "    y_list.extend(d[\"y\"])\n",
    "X_rec = np.array(X_list, dtype=np.float32)\n",
    "y_rec = np.array(y_list)\n",
    "print(X_rec.shape, y_rec.shape)"
   ]
  },
  {
   "cell_type": "code",
   "execution_count": 2,
   "id": "673ece11",
   "metadata": {},
   "outputs": [
    {
     "data": {
      "text/plain": [
       "array([[-0.00571335, -0.01181866,  0.11246178, ..., -0.02056177,\n",
       "        -0.01550724,  0.04333217],\n",
       "       [-0.03696502, -0.01012629,  0.01049643, ...,  0.01222438,\n",
       "         0.09800622, -0.08014852],\n",
       "       [-0.04835157,  0.00254504, -0.08660771, ..., -0.05290084,\n",
       "        -0.01847824, -0.02700369],\n",
       "       ...,\n",
       "       [ 0.0706904 ,  0.01349849, -0.06759915, ..., -0.03579082,\n",
       "         0.04324223, -0.06018719],\n",
       "       [ 0.01697215, -0.050737  , -0.02502686, ..., -0.08321066,\n",
       "        -0.04254831, -0.05337545],\n",
       "       [-0.05448975, -0.00725761, -0.04342892, ..., -0.116878  ,\n",
       "        -0.03769731,  0.03240921]], dtype=float32)"
      ]
     },
     "execution_count": 2,
     "metadata": {},
     "output_type": "execute_result"
    }
   ],
   "source": [
    "X_rec"
   ]
  },
  {
   "cell_type": "code",
   "execution_count": 3,
   "id": "2f35dab6",
   "metadata": {},
   "outputs": [
    {
     "data": {
      "text/plain": [
       "array([1, 1, 1, ..., 0, 0, 0])"
      ]
     },
     "execution_count": 3,
     "metadata": {},
     "output_type": "execute_result"
    }
   ],
   "source": [
    "y_rec"
   ]
  },
  {
   "cell_type": "code",
   "execution_count": 4,
   "id": "2437d00c",
   "metadata": {},
   "outputs": [
    {
     "name": "stdout",
     "output_type": "stream",
     "text": [
      "Shape X: (44898, 384) dtype: float32\n",
      "Shape y: (44898,) dtype: int64\n"
     ]
    }
   ],
   "source": [
    "import numpy as np\n",
    "import tensorflow as tf\n",
    "from tensorflow import keras\n",
    "from tensorflow.keras import layers\n",
    "\n",
    "# Riproducibilità\n",
    "np.random.seed(42)\n",
    "tf.random.set_seed(42)\n",
    "\n",
    "print(\"Shape X:\", X_rec.shape, \"dtype:\", X_rec.dtype)\n",
    "print(\"Shape y:\", y_rec.shape, \"dtype:\", y_rec.dtype)\n"
   ]
  },
  {
   "cell_type": "code",
   "execution_count": 5,
   "id": "1188c934",
   "metadata": {},
   "outputs": [
    {
     "name": "stdout",
     "output_type": "stream",
     "text": [
      "Train: (31428, 384) Val: (6735, 384) Test: (6735, 384)\n",
      "class_weight: {0: 1.0481590181430096, 1: 0.9560720369919689}\n"
     ]
    }
   ],
   "source": [
    "from sklearn.model_selection import train_test_split\n",
    "from sklearn.utils.class_weight import compute_class_weight\n",
    "\n",
    "# Etichette: da stringhe a int\n",
    "y = (y_rec.astype(str) == '1').astype(int)   # 1=fake, 0=vera\n",
    "X = X_rec.astype(np.float32)\n",
    "\n",
    "# Split stratificato: 70% train, 15% val, 15% test\n",
    "X_train, X_temp, y_train, y_temp = train_test_split(\n",
    "    X, y, test_size=0.30, stratify=y, random_state=42\n",
    ")\n",
    "X_val, X_test, y_val, y_test = train_test_split(\n",
    "    X_temp, y_temp, test_size=0.50, stratify=y_temp, random_state=42\n",
    ")\n",
    "\n",
    "print(\"Train:\", X_train.shape, \"Val:\", X_val.shape, \"Test:\", X_test.shape)\n",
    "\n",
    "# Class weights (per gestire squilibrio)\n",
    "classes = np.unique(y_train)\n",
    "class_weights = compute_class_weight(\"balanced\", classes=classes, y=y_train)\n",
    "class_weight = {int(c): float(w) for c, w in zip(classes, class_weights)}\n",
    "print(\"class_weight:\", class_weight)\n"
   ]
  },
  {
   "cell_type": "code",
   "execution_count": 6,
   "id": "271687e9",
   "metadata": {},
   "outputs": [
    {
     "data": {
      "text/html": [
       "<pre style=\"white-space:pre;overflow-x:auto;line-height:normal;font-family:Menlo,'DejaVu Sans Mono',consolas,'Courier New',monospace\"><span style=\"font-weight: bold\">Model: \"functional\"</span>\n",
       "</pre>\n"
      ],
      "text/plain": [
       "\u001b[1mModel: \"functional\"\u001b[0m\n"
      ]
     },
     "metadata": {},
     "output_type": "display_data"
    },
    {
     "data": {
      "text/html": [
       "<pre style=\"white-space:pre;overflow-x:auto;line-height:normal;font-family:Menlo,'DejaVu Sans Mono',consolas,'Courier New',monospace\">┏━━━━━━━━━━━━━━━━━━━━━━━━━━━━━━━━━┳━━━━━━━━━━━━━━━━━━━━━━━━┳━━━━━━━━━━━━━━━┓\n",
       "┃<span style=\"font-weight: bold\"> Layer (type)                    </span>┃<span style=\"font-weight: bold\"> Output Shape           </span>┃<span style=\"font-weight: bold\">       Param # </span>┃\n",
       "┡━━━━━━━━━━━━━━━━━━━━━━━━━━━━━━━━━╇━━━━━━━━━━━━━━━━━━━━━━━━╇━━━━━━━━━━━━━━━┩\n",
       "│ dense_features (<span style=\"color: #0087ff; text-decoration-color: #0087ff\">InputLayer</span>)     │ (<span style=\"color: #00d7ff; text-decoration-color: #00d7ff\">None</span>, <span style=\"color: #00af00; text-decoration-color: #00af00\">384</span>)            │             <span style=\"color: #00af00; text-decoration-color: #00af00\">0</span> │\n",
       "├─────────────────────────────────┼────────────────────────┼───────────────┤\n",
       "│ batch_normalization             │ (<span style=\"color: #00d7ff; text-decoration-color: #00d7ff\">None</span>, <span style=\"color: #00af00; text-decoration-color: #00af00\">384</span>)            │         <span style=\"color: #00af00; text-decoration-color: #00af00\">1,536</span> │\n",
       "│ (<span style=\"color: #0087ff; text-decoration-color: #0087ff\">BatchNormalization</span>)            │                        │               │\n",
       "├─────────────────────────────────┼────────────────────────┼───────────────┤\n",
       "│ dense (<span style=\"color: #0087ff; text-decoration-color: #0087ff\">Dense</span>)                   │ (<span style=\"color: #00d7ff; text-decoration-color: #00d7ff\">None</span>, <span style=\"color: #00af00; text-decoration-color: #00af00\">256</span>)            │        <span style=\"color: #00af00; text-decoration-color: #00af00\">98,560</span> │\n",
       "├─────────────────────────────────┼────────────────────────┼───────────────┤\n",
       "│ dropout (<span style=\"color: #0087ff; text-decoration-color: #0087ff\">Dropout</span>)               │ (<span style=\"color: #00d7ff; text-decoration-color: #00d7ff\">None</span>, <span style=\"color: #00af00; text-decoration-color: #00af00\">256</span>)            │             <span style=\"color: #00af00; text-decoration-color: #00af00\">0</span> │\n",
       "├─────────────────────────────────┼────────────────────────┼───────────────┤\n",
       "│ dense_1 (<span style=\"color: #0087ff; text-decoration-color: #0087ff\">Dense</span>)                 │ (<span style=\"color: #00d7ff; text-decoration-color: #00d7ff\">None</span>, <span style=\"color: #00af00; text-decoration-color: #00af00\">128</span>)            │        <span style=\"color: #00af00; text-decoration-color: #00af00\">32,896</span> │\n",
       "├─────────────────────────────────┼────────────────────────┼───────────────┤\n",
       "│ dropout_1 (<span style=\"color: #0087ff; text-decoration-color: #0087ff\">Dropout</span>)             │ (<span style=\"color: #00d7ff; text-decoration-color: #00d7ff\">None</span>, <span style=\"color: #00af00; text-decoration-color: #00af00\">128</span>)            │             <span style=\"color: #00af00; text-decoration-color: #00af00\">0</span> │\n",
       "├─────────────────────────────────┼────────────────────────┼───────────────┤\n",
       "│ dense_2 (<span style=\"color: #0087ff; text-decoration-color: #0087ff\">Dense</span>)                 │ (<span style=\"color: #00d7ff; text-decoration-color: #00d7ff\">None</span>, <span style=\"color: #00af00; text-decoration-color: #00af00\">1</span>)              │           <span style=\"color: #00af00; text-decoration-color: #00af00\">129</span> │\n",
       "└─────────────────────────────────┴────────────────────────┴───────────────┘\n",
       "</pre>\n"
      ],
      "text/plain": [
       "┏━━━━━━━━━━━━━━━━━━━━━━━━━━━━━━━━━┳━━━━━━━━━━━━━━━━━━━━━━━━┳━━━━━━━━━━━━━━━┓\n",
       "┃\u001b[1m \u001b[0m\u001b[1mLayer (type)                   \u001b[0m\u001b[1m \u001b[0m┃\u001b[1m \u001b[0m\u001b[1mOutput Shape          \u001b[0m\u001b[1m \u001b[0m┃\u001b[1m \u001b[0m\u001b[1m      Param #\u001b[0m\u001b[1m \u001b[0m┃\n",
       "┡━━━━━━━━━━━━━━━━━━━━━━━━━━━━━━━━━╇━━━━━━━━━━━━━━━━━━━━━━━━╇━━━━━━━━━━━━━━━┩\n",
       "│ dense_features (\u001b[38;5;33mInputLayer\u001b[0m)     │ (\u001b[38;5;45mNone\u001b[0m, \u001b[38;5;34m384\u001b[0m)            │             \u001b[38;5;34m0\u001b[0m │\n",
       "├─────────────────────────────────┼────────────────────────┼───────────────┤\n",
       "│ batch_normalization             │ (\u001b[38;5;45mNone\u001b[0m, \u001b[38;5;34m384\u001b[0m)            │         \u001b[38;5;34m1,536\u001b[0m │\n",
       "│ (\u001b[38;5;33mBatchNormalization\u001b[0m)            │                        │               │\n",
       "├─────────────────────────────────┼────────────────────────┼───────────────┤\n",
       "│ dense (\u001b[38;5;33mDense\u001b[0m)                   │ (\u001b[38;5;45mNone\u001b[0m, \u001b[38;5;34m256\u001b[0m)            │        \u001b[38;5;34m98,560\u001b[0m │\n",
       "├─────────────────────────────────┼────────────────────────┼───────────────┤\n",
       "│ dropout (\u001b[38;5;33mDropout\u001b[0m)               │ (\u001b[38;5;45mNone\u001b[0m, \u001b[38;5;34m256\u001b[0m)            │             \u001b[38;5;34m0\u001b[0m │\n",
       "├─────────────────────────────────┼────────────────────────┼───────────────┤\n",
       "│ dense_1 (\u001b[38;5;33mDense\u001b[0m)                 │ (\u001b[38;5;45mNone\u001b[0m, \u001b[38;5;34m128\u001b[0m)            │        \u001b[38;5;34m32,896\u001b[0m │\n",
       "├─────────────────────────────────┼────────────────────────┼───────────────┤\n",
       "│ dropout_1 (\u001b[38;5;33mDropout\u001b[0m)             │ (\u001b[38;5;45mNone\u001b[0m, \u001b[38;5;34m128\u001b[0m)            │             \u001b[38;5;34m0\u001b[0m │\n",
       "├─────────────────────────────────┼────────────────────────┼───────────────┤\n",
       "│ dense_2 (\u001b[38;5;33mDense\u001b[0m)                 │ (\u001b[38;5;45mNone\u001b[0m, \u001b[38;5;34m1\u001b[0m)              │           \u001b[38;5;34m129\u001b[0m │\n",
       "└─────────────────────────────────┴────────────────────────┴───────────────┘\n"
      ]
     },
     "metadata": {},
     "output_type": "display_data"
    },
    {
     "data": {
      "text/html": [
       "<pre style=\"white-space:pre;overflow-x:auto;line-height:normal;font-family:Menlo,'DejaVu Sans Mono',consolas,'Courier New',monospace\"><span style=\"font-weight: bold\"> Total params: </span><span style=\"color: #00af00; text-decoration-color: #00af00\">133,121</span> (520.00 KB)\n",
       "</pre>\n"
      ],
      "text/plain": [
       "\u001b[1m Total params: \u001b[0m\u001b[38;5;34m133,121\u001b[0m (520.00 KB)\n"
      ]
     },
     "metadata": {},
     "output_type": "display_data"
    },
    {
     "data": {
      "text/html": [
       "<pre style=\"white-space:pre;overflow-x:auto;line-height:normal;font-family:Menlo,'DejaVu Sans Mono',consolas,'Courier New',monospace\"><span style=\"font-weight: bold\"> Trainable params: </span><span style=\"color: #00af00; text-decoration-color: #00af00\">132,353</span> (517.00 KB)\n",
       "</pre>\n"
      ],
      "text/plain": [
       "\u001b[1m Trainable params: \u001b[0m\u001b[38;5;34m132,353\u001b[0m (517.00 KB)\n"
      ]
     },
     "metadata": {},
     "output_type": "display_data"
    },
    {
     "data": {
      "text/html": [
       "<pre style=\"white-space:pre;overflow-x:auto;line-height:normal;font-family:Menlo,'DejaVu Sans Mono',consolas,'Courier New',monospace\"><span style=\"font-weight: bold\"> Non-trainable params: </span><span style=\"color: #00af00; text-decoration-color: #00af00\">768</span> (3.00 KB)\n",
       "</pre>\n"
      ],
      "text/plain": [
       "\u001b[1m Non-trainable params: \u001b[0m\u001b[38;5;34m768\u001b[0m (3.00 KB)\n"
      ]
     },
     "metadata": {},
     "output_type": "display_data"
    }
   ],
   "source": [
    "def build_mlp(input_dim, hidden=(256, 128), dropout=0.30, l2=1e-4, lr=1e-3):\n",
    "    inputs = keras.Input(shape=(input_dim,), name=\"dense_features\")\n",
    "    x = layers.BatchNormalization()(inputs)\n",
    "\n",
    "    x = layers.Dense(hidden[0], activation=\"relu\",\n",
    "                     kernel_regularizer=keras.regularizers.l2(l2))(x)\n",
    "    x = layers.Dropout(dropout)(x)\n",
    "\n",
    "    x = layers.Dense(hidden[1], activation=\"relu\",\n",
    "                     kernel_regularizer=keras.regularizers.l2(l2))(x)\n",
    "    x = layers.Dropout(dropout)(x)\n",
    "\n",
    "    outputs = layers.Dense(1, activation=\"sigmoid\")(x)\n",
    "\n",
    "    model = keras.Model(inputs, outputs)\n",
    "    model.compile(\n",
    "        optimizer=keras.optimizers.Adam(learning_rate=lr),\n",
    "        loss=\"binary_crossentropy\",\n",
    "        metrics=[\n",
    "            keras.metrics.BinaryAccuracy(name=\"accuracy\"),\n",
    "            keras.metrics.Precision(name=\"precision\"),\n",
    "            keras.metrics.Recall(name=\"recall\"),\n",
    "            keras.metrics.AUC(name=\"auc\")\n",
    "        ]\n",
    "    )\n",
    "    return model\n",
    "\n",
    "model = build_mlp(input_dim=X.shape[1])\n",
    "model.summary()\n"
   ]
  },
  {
   "cell_type": "code",
   "execution_count": 7,
   "id": "269bacbe",
   "metadata": {},
   "outputs": [
    {
     "name": "stdout",
     "output_type": "stream",
     "text": [
      "Epoch 1/25\n",
      "\u001b[1m123/123\u001b[0m \u001b[32m━━━━━━━━━━━━━━━━━━━━\u001b[0m\u001b[37m\u001b[0m \u001b[1m2s\u001b[0m 9ms/step - accuracy: 0.8601 - auc: 0.9293 - loss: 0.3531 - precision: 0.8725 - recall: 0.8621 - val_accuracy: 0.8635 - val_auc: 0.9932 - val_loss: 0.5140 - val_precision: 0.7943 - val_recall: 0.9974 - learning_rate: 0.0010\n",
      "Epoch 2/25\n",
      "\u001b[1m123/123\u001b[0m \u001b[32m━━━━━━━━━━━━━━━━━━━━\u001b[0m\u001b[37m\u001b[0m \u001b[1m1s\u001b[0m 6ms/step - accuracy: 0.9586 - auc: 0.9919 - loss: 0.1567 - precision: 0.9619 - recall: 0.9596 - val_accuracy: 0.9360 - val_auc: 0.9954 - val_loss: 0.3541 - val_precision: 0.8948 - val_recall: 0.9946 - learning_rate: 0.0010\n",
      "Epoch 3/25\n",
      "\u001b[1m123/123\u001b[0m \u001b[32m━━━━━━━━━━━━━━━━━━━━\u001b[0m\u001b[37m\u001b[0m \u001b[1m1s\u001b[0m 5ms/step - accuracy: 0.9680 - auc: 0.9951 - loss: 0.1306 - precision: 0.9713 - recall: 0.9680 - val_accuracy: 0.9684 - val_auc: 0.9962 - val_loss: 0.2053 - val_precision: 0.9512 - val_recall: 0.9903 - learning_rate: 0.0010\n",
      "Epoch 4/25\n",
      "\u001b[1m123/123\u001b[0m \u001b[32m━━━━━━━━━━━━━━━━━━━━\u001b[0m\u001b[37m\u001b[0m \u001b[1m1s\u001b[0m 5ms/step - accuracy: 0.9736 - auc: 0.9967 - loss: 0.1146 - precision: 0.9771 - recall: 0.9729 - val_accuracy: 0.9755 - val_auc: 0.9967 - val_loss: 0.1253 - val_precision: 0.9664 - val_recall: 0.9875 - learning_rate: 0.0010\n",
      "Epoch 5/25\n",
      "\u001b[1m123/123\u001b[0m \u001b[32m━━━━━━━━━━━━━━━━━━━━\u001b[0m\u001b[37m\u001b[0m \u001b[1m1s\u001b[0m 6ms/step - accuracy: 0.9788 - auc: 0.9979 - loss: 0.0987 - precision: 0.9805 - recall: 0.9793 - val_accuracy: 0.9776 - val_auc: 0.9964 - val_loss: 0.1091 - val_precision: 0.9749 - val_recall: 0.9824 - learning_rate: 0.0010\n",
      "Epoch 6/25\n",
      "\u001b[1m123/123\u001b[0m \u001b[32m━━━━━━━━━━━━━━━━━━━━\u001b[0m\u001b[37m\u001b[0m \u001b[1m1s\u001b[0m 6ms/step - accuracy: 0.9831 - auc: 0.9980 - loss: 0.0900 - precision: 0.9839 - recall: 0.9840 - val_accuracy: 0.9774 - val_auc: 0.9963 - val_loss: 0.1092 - val_precision: 0.9752 - val_recall: 0.9818 - learning_rate: 0.0010\n",
      "Epoch 7/25\n",
      "\u001b[1m123/123\u001b[0m \u001b[32m━━━━━━━━━━━━━━━━━━━━\u001b[0m\u001b[37m\u001b[0m \u001b[1m1s\u001b[0m 6ms/step - accuracy: 0.9846 - auc: 0.9988 - loss: 0.0817 - precision: 0.9865 - recall: 0.9843 - val_accuracy: 0.9780 - val_auc: 0.9956 - val_loss: 0.1127 - val_precision: 0.9741 - val_recall: 0.9841 - learning_rate: 0.0010\n",
      "Epoch 8/25\n",
      "\u001b[1m123/123\u001b[0m \u001b[32m━━━━━━━━━━━━━━━━━━━━\u001b[0m\u001b[37m\u001b[0m \u001b[1m1s\u001b[0m 5ms/step - accuracy: 0.9874 - auc: 0.9989 - loss: 0.0749 - precision: 0.9883 - recall: 0.9878 - val_accuracy: 0.9794 - val_auc: 0.9958 - val_loss: 0.1076 - val_precision: 0.9747 - val_recall: 0.9861 - learning_rate: 5.0000e-04\n",
      "Epoch 9/25\n",
      "\u001b[1m123/123\u001b[0m \u001b[32m━━━━━━━━━━━━━━━━━━━━\u001b[0m\u001b[37m\u001b[0m \u001b[1m1s\u001b[0m 6ms/step - accuracy: 0.9915 - auc: 0.9995 - loss: 0.0645 - precision: 0.9921 - recall: 0.9917 - val_accuracy: 0.9791 - val_auc: 0.9961 - val_loss: 0.1039 - val_precision: 0.9801 - val_recall: 0.9798 - learning_rate: 5.0000e-04\n",
      "Epoch 10/25\n",
      "\u001b[1m123/123\u001b[0m \u001b[32m━━━━━━━━━━━━━━━━━━━━\u001b[0m\u001b[37m\u001b[0m \u001b[1m1s\u001b[0m 5ms/step - accuracy: 0.9926 - auc: 0.9996 - loss: 0.0594 - precision: 0.9935 - recall: 0.9924 - val_accuracy: 0.9805 - val_auc: 0.9949 - val_loss: 0.1048 - val_precision: 0.9777 - val_recall: 0.9852 - learning_rate: 5.0000e-04\n",
      "Epoch 11/25\n",
      "\u001b[1m123/123\u001b[0m \u001b[32m━━━━━━━━━━━━━━━━━━━━\u001b[0m\u001b[37m\u001b[0m \u001b[1m1s\u001b[0m 6ms/step - accuracy: 0.9933 - auc: 0.9997 - loss: 0.0575 - precision: 0.9929 - recall: 0.9945 - val_accuracy: 0.9801 - val_auc: 0.9946 - val_loss: 0.1088 - val_precision: 0.9772 - val_recall: 0.9850 - learning_rate: 5.0000e-04\n",
      "Epoch 12/25\n",
      "\u001b[1m123/123\u001b[0m \u001b[32m━━━━━━━━━━━━━━━━━━━━\u001b[0m\u001b[37m\u001b[0m \u001b[1m1s\u001b[0m 5ms/step - accuracy: 0.9936 - auc: 0.9997 - loss: 0.0553 - precision: 0.9940 - recall: 0.9938 - val_accuracy: 0.9800 - val_auc: 0.9948 - val_loss: 0.1066 - val_precision: 0.9780 - val_recall: 0.9838 - learning_rate: 2.5000e-04\n"
     ]
    }
   ],
   "source": [
    "early = keras.callbacks.EarlyStopping(\n",
    "    monitor=\"val_loss\", patience=3, restore_best_weights=True\n",
    ")\n",
    "reduce = keras.callbacks.ReduceLROnPlateau(\n",
    "    monitor=\"val_loss\", factor=0.5, patience=2, min_lr=1e-6\n",
    ")\n",
    "\n",
    "history = model.fit(\n",
    "    X_train, y_train,\n",
    "    validation_data=(X_val, y_val),\n",
    "    epochs=25,\n",
    "    batch_size=256,\n",
    "    callbacks=[early, reduce],\n",
    "    class_weight=class_weight,   # rimuovi se bilanciate\n",
    "    verbose=1\n",
    ")\n"
   ]
  },
  {
   "cell_type": "code",
   "execution_count": 8,
   "id": "e20cd018",
   "metadata": {},
   "outputs": [
    {
     "name": "stdout",
     "output_type": "stream",
     "text": [
      "\u001b[1m211/211\u001b[0m \u001b[32m━━━━━━━━━━━━━━━━━━━━\u001b[0m\u001b[37m\u001b[0m \u001b[1m0s\u001b[0m 1ms/step\n",
      "== Confusion matrix @0.5 ==\n",
      "[[3138   74]\n",
      " [  75 3448]]\n",
      "\n",
      "== Classification report ==\n",
      "              precision    recall  f1-score   support\n",
      "\n",
      "           0      0.977     0.977     0.977      3212\n",
      "           1      0.979     0.979     0.979      3523\n",
      "\n",
      "    accuracy                          0.978      6735\n",
      "   macro avg      0.978     0.978     0.978      6735\n",
      "weighted avg      0.978     0.978     0.978      6735\n",
      "\n",
      "ROC-AUC: 0.9978390095472945\n",
      "\u001b[1m211/211\u001b[0m \u001b[32m━━━━━━━━━━━━━━━━━━━━\u001b[0m\u001b[37m\u001b[0m \u001b[1m0s\u001b[0m 947us/step\n",
      "Best threshold (val): 0.33450034\n",
      "\n",
      "== Report con soglia ottimizzata ==\n",
      "              precision    recall  f1-score   support\n",
      "\n",
      "           0      0.983     0.971     0.977      3212\n",
      "           1      0.974     0.985     0.979      3523\n",
      "\n",
      "    accuracy                          0.978      6735\n",
      "   macro avg      0.978     0.978     0.978      6735\n",
      "weighted avg      0.978     0.978     0.978      6735\n",
      "\n"
     ]
    }
   ],
   "source": [
    "from sklearn.metrics import classification_report, confusion_matrix, roc_auc_score, precision_recall_curve\n",
    "\n",
    "# Predizioni probabilistiche\n",
    "probs = model.predict(X_test).ravel()\n",
    "\n",
    "# Default threshold 0.5\n",
    "preds = (probs >= 0.5).astype(int)\n",
    "print(\"== Confusion matrix @0.5 ==\")\n",
    "print(confusion_matrix(y_test, preds))\n",
    "print(\"\\n== Classification report ==\")\n",
    "print(classification_report(y_test, preds, digits=3))\n",
    "print(\"ROC-AUC:\", roc_auc_score(y_test, probs))\n",
    "\n",
    "# Soglia che massimizza F1 (su validation set)\n",
    "val_probs = model.predict(X_val).ravel()\n",
    "prec, rec, thr = precision_recall_curve(y_val, val_probs)\n",
    "f1 = 2*prec*rec/(prec+rec+1e-8)\n",
    "best_idx = np.nanargmax(f1)\n",
    "best_thr = thr[best_idx] if best_idx < len(thr) else 0.5\n",
    "print(\"Best threshold (val):\", best_thr)\n",
    "\n",
    "pred_best = (probs >= best_thr).astype(int)\n",
    "print(\"\\n== Report con soglia ottimizzata ==\")\n",
    "print(classification_report(y_test, pred_best, digits=3))\n"
   ]
  },
  {
   "cell_type": "code",
   "execution_count": 9,
   "id": "5834078d",
   "metadata": {},
   "outputs": [
    {
     "data": {
      "image/png": "[encoded data removed]",
      "text/plain": [
       "<Figure size 1200x500 with 2 Axes>"
      ]
     },
     "metadata": {},
     "output_type": "display_data"
    }
   ],
   "source": [
    "# =========================================\n",
    "# Andamento Accuracy e Loss per epoca\n",
    "# =========================================\n",
    "import matplotlib.pyplot as plt\n",
    "\n",
    "plt.figure(figsize=(12,5))\n",
    "\n",
    "# Accuracy\n",
    "plt.subplot(1,2,1)\n",
    "plt.plot(history.history['accuracy'], label='Train Accuracy')\n",
    "plt.plot(history.history['val_accuracy'], label='Validation Accuracy')\n",
    "plt.xlabel('Epochs')\n",
    "plt.ylabel('Accuracy')\n",
    "plt.legend()\n",
    "plt.title('Accuracy per Epoch')\n",
    "\n",
    "# Loss\n",
    "plt.subplot(1,2,2)\n",
    "plt.plot(history.history['loss'], label='Train Loss')\n",
    "plt.plot(history.history['val_loss'], label='Validation Loss')\n",
    "plt.xlabel('Epochs')\n",
    "plt.ylabel('Loss')\n",
    "plt.legend()\n",
    "plt.title('Loss per Epoch')\n",
    "\n",
    "plt.tight_layout()\n",
    "plt.show()\n"
   ]
  },
  {
   "cell_type": "markdown",
   "id": "fefae3ad",
   "metadata": {},
   "source": [
    "1. Accuracy\n",
    "\n",
    "All’inizio la train accuracy parte dal ~91% e la validation accuracy addirittura più bassa (~86%).\n",
    "\n",
    "In poche epoche, entrambe crescono rapidamente: la validation supera il 97–98% già entro la terza-quarta epoca.\n",
    "\n",
    "Dopo la quinta epoca la curva di validation si stabilizza attorno al 98%, mentre quella di training continua a crescere leggermente fino a sfiorare il 99.5%.\n",
    "\n",
    "Questo divario è piccolo (circa 1.5%), segno che il modello generalizza bene ma sta iniziando a “specializzarsi” un po’ troppo sui dati di training → segnale di inizio overfitting.\n",
    "\n",
    "2. Loss\n",
    "\n",
    "La train loss scende regolarmente da ~0.25 a <0.05: il modello riduce costantemente l’errore sui dati che vede.\n",
    "\n",
    "La validation loss cala rapidamente da ~0.5 a ~0.1 nelle prime epoche, ma poi smette di migliorare e resta piatta (o con leggerissime oscillazioni).\n",
    "\n",
    "Questo plateau è tipico quando il modello ha già estratto tutto il segnale utile dai dati: ulteriori epoche non portano miglioramenti sulla generalizzazione.\n",
    "\n",
    "3. Cosa ci insegnano questi grafici\n",
    "\n",
    "SBERT embeddings: il fatto che accuracy e loss partano già da valori molto alti conferma che le embedding di SBERT forniscono una rappresentazione del testo estremamente informativa. In altre parole, la rete non deve “imparare da zero” ma solo adattarsi a separare classi in uno spazio già ben organizzato.\n",
    "\n",
    "Plateau precoce: il modello impara quasi tutto nelle prime 3–5 epoche. Questo ci insegna che, con embedding potenti, non serve addestrare a lungo → early stopping è la scelta giusta.\n",
    "\n",
    "Overfitting contenuto: la piccola differenza tra train e validation è fisiologica. In un contesto didattico, questo è l’esempio perfetto per mostrare la differenza tra “underfitting” (modello troppo debole), “buona generalizzazione” (fase centrale di questi grafici) e “inizio overfitting” (quando il train continua a migliorare ma la validation non più).\n",
    "\n",
    "4. Messaggio agli studenti\n",
    "\n",
    "Questi grafici mostrano come embedding di qualità + rete semplice possano produrre performance eccellenti in poche epoche.\n",
    "La lezione didattica è duplice:\n",
    "\n",
    "Non serve sempre un modello complesso: quando le feature sono potenti (come SBERT), bastano poche epoche e una rete leggera.\n",
    "\n",
    "Bisogna sempre monitorare validation loss e accuracy: il plateau ci dice chiaramente quando fermarci per evitare addestramento inutile o overfitting."
   ]
  },
  {
   "cell_type": "markdown",
   "id": "a008661f",
   "metadata": {},
   "source": [
    "“L’andamento di accuracy e loss mostra che la rete neurale, addestrata su embedding SBERT, raggiunge rapidamente un’elevata capacità predittiva: la validation accuracy si stabilizza intorno al 98% dopo poche epoche, mentre la train accuracy continua a crescere leggermente, segnalando un overfitting minimo. L’andamento conferma l’efficacia delle embedding SBERT e l’importanza di fermare l’addestramento una volta raggiunto il plateau.”"
   ]
  },
  {
   "cell_type": "code",
   "execution_count": 22,
   "id": "3abae8df",
   "metadata": {},
   "outputs": [
    {
     "data": {
      "image/png": "[encoded data removed]",
      "text/plain": [
       "<Figure size 640x480 with 1 Axes>"
      ]
     },
     "metadata": {},
     "output_type": "display_data"
    },
    {
     "data": {
      "image/png": "[encoded data removed]",
      "text/plain": [
       "<Figure size 640x480 with 1 Axes>"
      ]
     },
     "metadata": {},
     "output_type": "display_data"
    }
   ],
   "source": [
    "import matplotlib.pyplot as plt\n",
    "from sklearn.metrics import roc_curve, average_precision_score\n",
    "\n",
    "# ROC\n",
    "fpr, tpr, _ = roc_curve(y_test, probs)\n",
    "plt.plot(fpr, tpr, label=f\"ROC (AUC={roc_auc_score(y_test, probs):.3f})\")\n",
    "plt.plot([0,1],[0,1],\"--\")\n",
    "plt.xlabel(\"FPR\")\n",
    "plt.ylabel(\"TPR\")\n",
    "plt.title(\"ROC curve\")\n",
    "plt.legend()\n",
    "plt.show()\n",
    "\n",
    "# PR\n",
    "ap = average_precision_score(y_test, probs)\n",
    "pr_prec, pr_rec, _ = precision_recall_curve(y_test, probs)\n",
    "plt.plot(pr_rec, pr_prec, label=f\"PR (AP={ap:.3f})\")\n",
    "plt.xlabel(\"Recall\")\n",
    "plt.ylabel(\"Precision\")\n",
    "plt.title(\"Precision-Recall curve\")\n",
    "plt.legend()\n",
    "plt.show()\n"
   ]
  },
  {
   "cell_type": "markdown",
   "id": "f1e546c9",
   "metadata": {},
   "source": [
    "1. ROC curve (Receiver Operating Characteristic)\n",
    "\n",
    "L’asse X rappresenta il False Positive Rate (FPR) e l’asse Y il True Positive Rate (TPR).\n",
    "\n",
    "La curva blu sale quasi verticalmente verso l’alto e rimane aderente al bordo superiore del grafico: questo significa che il modello ottiene molti veri positivi mantenendo pochissimi falsi positivi.\n",
    "\n",
    "L’AUC = 0.997 è praticamente perfetto: in media, il modello distingue correttamente tra una notizia vera e una fake il 99.7% delle volte, indipendentemente dalla soglia di decisione.\n",
    "\n",
    "La linea arancione tratteggiata rappresenta un classificatore casuale: il fatto che la curva sia molto distante da essa conferma l’elevata capacità discriminante del modello.\n",
    "\n",
    "2. Precision–Recall curve\n",
    "\n",
    "Qui l’asse X è il Recall (quanti fake vengono correttamente trovati) e l’asse Y la Precision (quanti dei casi classificati come fake sono davvero fake).\n",
    "\n",
    "La curva rimane altissima e quasi piatta fino a valori di recall molto vicini a 1. Solo nell’ultimo tratto, quando si cerca di catturare il 100% dei casi, la precision cala rapidamente: un comportamento normale, perché aumentando la sensibilità si pagano alcuni falsi positivi.\n",
    "\n",
    "L’AP (Average Precision) = 0.997, anch’esso altissimo, indica che il modello mantiene un equilibrio eccellente tra precision e recall lungo tutte le soglie.\n",
    "\n",
    "3. Interpretazione didattica\n",
    "\n",
    "Questi grafici insieme ci dicono che il modello è altamente efficace: non solo distingue bene le classi in senso generale (ROC), ma lo fa mantenendo contemporaneamente valori elevatissimi di precision e recall (PR).\n",
    "\n",
    "Per gli studenti è importante capire che la ROC curve può apparire molto buona anche su dataset sbilanciati, mentre la Precision–Recall curve fornisce una visione più realistica della performance quando la classe positiva è rara. Il fatto che entrambe siano vicine al valore massimo dà una forte conferma della robustezza del modello.\n",
    "\n",
    "Tuttavia, valori così perfetti devono sempre essere presi con cautela: potrebbero riflettere un dataset relativamente facile da separare o la presenza di data leakage. È fondamentale verificare che il test set sia indipendente e rappresentativo.\n",
    "\n",
    "4. Messaggio agli studenti\n",
    "\n",
    "ROC curve: ci mostra che il modello distingue con grande precisione i due tipi di notizie, con un margine enorme rispetto al caso casuale.\n",
    "\n",
    "Precision–Recall curve: ci dice che non solo classifica bene, ma lo fa senza sacrificare precisione o richiamo.\n",
    "\n",
    "Insieme, le due curve mostrano un modello quasi perfetto: un esempio ideale per capire come combinare più metriche per valutare un classificatore in modo completo."
   ]
  },
  {
   "cell_type": "markdown",
   "id": "60f89175",
   "metadata": {},
   "source": [
    "“Le curve ROC e Precision–Recall evidenziano un modello con capacità discriminante quasi perfetta: sia l’AUC che l’AP raggiungono 0.997. La ROC mostra che il classificatore mantiene un tasso elevatissimo di veri positivi con pochi falsi positivi, mentre la PR conferma un equilibrio quasi ideale tra precision e recall lungo tutte le soglie. Risultati così alti richiedono comunque una verifica per escludere overfitting o data leakage.”"
   ]
  },
  {
   "cell_type": "code",
   "execution_count": 10,
   "id": "92240a70",
   "metadata": {},
   "outputs": [
    {
     "name": "stdout",
     "output_type": "stream",
     "text": [
      "              precision    recall  f1-score   support\n",
      "\n",
      "           0      0.983     0.971     0.977      3212\n",
      "           1      0.974     0.985     0.979      3523\n",
      "\n",
      "    accuracy                          0.978      6735\n",
      "   macro avg      0.978     0.978     0.978      6735\n",
      "weighted avg      0.978     0.978     0.978      6735\n",
      "\n"
     ]
    }
   ],
   "source": [
    "print(classification_report(y_test, pred_best, digits=3))"
   ]
  },
  {
   "cell_type": "code",
   "execution_count": 11,
   "id": "e5b1e8b9",
   "metadata": {},
   "outputs": [],
   "source": [
    "from sklearn.metrics import classification_report\n",
    "import pandas as pd\n",
    "\n",
    "# Supponiamo di avere y_true e y_pred (reti neurali, soglia 0.5 o best_thr)\n",
    "report = classification_report(y_test, pred_best, digits=3, output_dict=True)\n",
    "\n",
    "# Nel report troviamo già 'accuracy' come singolo valore,\n",
    "# e precision/recall/f1 sotto le chiavi 'weighted avg' o 'macro avg'\n",
    "acc  = report['accuracy']\n",
    "prec = report['macro avg']['precision']\n",
    "rec  = report['macro avg']['recall']\n",
    "f1   = report['macro avg']['f1-score']\n",
    "\n",
    "# Costruiamo il dizionario per la NN\n",
    "nn_metrics = {\n",
    "    \"model\": \"NeuralNetwork\",\n",
    "    \"accuracy\": acc,\n",
    "    \"precision\": prec,\n",
    "    \"recall\": rec,\n",
    "    \"f1\": f1\n",
    "}\n",
    "\n",
    "nn_df = pd.DataFrame([nn_metrics])\n",
    "\n"
   ]
  },
  {
   "cell_type": "code",
   "execution_count": 12,
   "id": "f88ac7ba",
   "metadata": {},
   "outputs": [
    {
     "data": {
      "application/vnd.microsoft.datawrangler.viewer.v0+json": {
       "columns": [
        {
         "name": "index",
         "rawType": "int64",
         "type": "integer"
        },
        {
         "name": "model",
         "rawType": "object",
         "type": "string"
        },
        {
         "name": "accuracy",
         "rawType": "float64",
         "type": "float"
        },
        {
         "name": "precision",
         "rawType": "float64",
         "type": "float"
        },
        {
         "name": "recall",
         "rawType": "float64",
         "type": "float"
        },
        {
         "name": "f1",
         "rawType": "float64",
         "type": "float"
        }
       ],
       "ref": "d3130c4a-c8fa-45f7-8bfb-7659bae33774",
       "rows": [
        [
         "0",
         "NeuralNetwork",
         "0.9780252412769117",
         "0.9782968891072211",
         "0.9777034495605996",
         "0.9779653940100038"
        ]
       ],
       "shape": {
        "columns": 5,
        "rows": 1
       }
      },
      "text/html": [
       "<div>\n",
       "<style scoped>\n",
       "    .dataframe tbody tr th:only-of-type {\n",
       "        vertical-align: middle;\n",
       "    }\n",
       "\n",
       "    .dataframe tbody tr th {\n",
       "        vertical-align: top;\n",
       "    }\n",
       "\n",
       "    .dataframe thead th {\n",
       "        text-align: right;\n",
       "    }\n",
       "</style>\n",
       "<table border=\"1\" class=\"dataframe\">\n",
       "  <thead>\n",
       "    <tr style=\"text-align: right;\">\n",
       "      <th></th>\n",
       "      <th>model</th>\n",
       "      <th>accuracy</th>\n",
       "      <th>precision</th>\n",
       "      <th>recall</th>\n",
       "      <th>f1</th>\n",
       "    </tr>\n",
       "  </thead>\n",
       "  <tbody>\n",
       "    <tr>\n",
       "      <th>0</th>\n",
       "      <td>NeuralNetwork</td>\n",
       "      <td>0.978025</td>\n",
       "      <td>0.978297</td>\n",
       "      <td>0.977703</td>\n",
       "      <td>0.977965</td>\n",
       "    </tr>\n",
       "  </tbody>\n",
       "</table>\n",
       "</div>"
      ],
      "text/plain": [
       "           model  accuracy  precision    recall        f1\n",
       "0  NeuralNetwork  0.978025   0.978297  0.977703  0.977965"
      ]
     },
     "execution_count": 12,
     "metadata": {},
     "output_type": "execute_result"
    }
   ],
   "source": [
    "nn_df"
   ]
  },
  {
   "cell_type": "code",
   "execution_count": 13,
   "id": "d1967278",
   "metadata": {},
   "outputs": [
    {
     "data": {
      "application/vnd.microsoft.datawrangler.viewer.v0+json": {
       "columns": [
        {
         "name": "index",
         "rawType": "int64",
         "type": "integer"
        },
        {
         "name": "model",
         "rawType": "object",
         "type": "string"
        },
        {
         "name": "accuracy",
         "rawType": "float64",
         "type": "float"
        },
        {
         "name": "precision",
         "rawType": "float64",
         "type": "float"
        },
        {
         "name": "recall",
         "rawType": "float64",
         "type": "float"
        },
        {
         "name": "f1",
         "rawType": "float64",
         "type": "float"
        }
       ],
       "ref": "b98c227e-6cd3-4fda-a92c-404b65624be2",
       "rows": [
        [
         "0",
         "LogReg",
         "0.970045",
         "0.972264",
         "0.9704",
         "0.971331"
        ],
        [
         "1",
         "LinearSVM",
         "0.969822",
         "0.972252",
         "0.969974",
         "0.971112"
        ],
        [
         "2",
         "RandomForest",
         "0.926615",
         "0.921839",
         "0.93931",
         "0.930493"
        ],
        [
         "3",
         "KNN",
         "0.895212",
         "0.932106",
         "0.862436",
         "0.895919"
        ],
        [
         "4",
         "GaussianNB",
         "0.869154",
         "0.8769",
         "0.872232",
         "0.87456"
        ],
        [
         "5",
         "DecisionTree",
         "0.830401",
         "0.820311",
         "0.865204",
         "0.84216"
        ]
       ],
       "shape": {
        "columns": 5,
        "rows": 6
       }
      },
      "text/html": [
       "<div>\n",
       "<style scoped>\n",
       "    .dataframe tbody tr th:only-of-type {\n",
       "        vertical-align: middle;\n",
       "    }\n",
       "\n",
       "    .dataframe tbody tr th {\n",
       "        vertical-align: top;\n",
       "    }\n",
       "\n",
       "    .dataframe thead th {\n",
       "        text-align: right;\n",
       "    }\n",
       "</style>\n",
       "<table border=\"1\" class=\"dataframe\">\n",
       "  <thead>\n",
       "    <tr style=\"text-align: right;\">\n",
       "      <th></th>\n",
       "      <th>model</th>\n",
       "      <th>accuracy</th>\n",
       "      <th>precision</th>\n",
       "      <th>recall</th>\n",
       "      <th>f1</th>\n",
       "    </tr>\n",
       "  </thead>\n",
       "  <tbody>\n",
       "    <tr>\n",
       "      <th>0</th>\n",
       "      <td>LogReg</td>\n",
       "      <td>0.970045</td>\n",
       "      <td>0.972264</td>\n",
       "      <td>0.970400</td>\n",
       "      <td>0.971331</td>\n",
       "    </tr>\n",
       "    <tr>\n",
       "      <th>1</th>\n",
       "      <td>LinearSVM</td>\n",
       "      <td>0.969822</td>\n",
       "      <td>0.972252</td>\n",
       "      <td>0.969974</td>\n",
       "      <td>0.971112</td>\n",
       "    </tr>\n",
       "    <tr>\n",
       "      <th>2</th>\n",
       "      <td>RandomForest</td>\n",
       "      <td>0.926615</td>\n",
       "      <td>0.921839</td>\n",
       "      <td>0.939310</td>\n",
       "      <td>0.930493</td>\n",
       "    </tr>\n",
       "    <tr>\n",
       "      <th>3</th>\n",
       "      <td>KNN</td>\n",
       "      <td>0.895212</td>\n",
       "      <td>0.932106</td>\n",
       "      <td>0.862436</td>\n",
       "      <td>0.895919</td>\n",
       "    </tr>\n",
       "    <tr>\n",
       "      <th>4</th>\n",
       "      <td>GaussianNB</td>\n",
       "      <td>0.869154</td>\n",
       "      <td>0.876900</td>\n",
       "      <td>0.872232</td>\n",
       "      <td>0.874560</td>\n",
       "    </tr>\n",
       "    <tr>\n",
       "      <th>5</th>\n",
       "      <td>DecisionTree</td>\n",
       "      <td>0.830401</td>\n",
       "      <td>0.820311</td>\n",
       "      <td>0.865204</td>\n",
       "      <td>0.842160</td>\n",
       "    </tr>\n",
       "  </tbody>\n",
       "</table>\n",
       "</div>"
      ],
      "text/plain": [
       "          model  accuracy  precision    recall        f1\n",
       "0        LogReg  0.970045   0.972264  0.970400  0.971331\n",
       "1     LinearSVM  0.969822   0.972252  0.969974  0.971112\n",
       "2  RandomForest  0.926615   0.921839  0.939310  0.930493\n",
       "3           KNN  0.895212   0.932106  0.862436  0.895919\n",
       "4    GaussianNB  0.869154   0.876900  0.872232  0.874560\n",
       "5  DecisionTree  0.830401   0.820311  0.865204  0.842160"
      ]
     },
     "execution_count": 13,
     "metadata": {},
     "output_type": "execute_result"
    }
   ],
   "source": [
    "import pandas as pd\n",
    "\n",
    "data = {\n",
    "    \"model\": [\"LogReg\", \"LinearSVM\", \"RandomForest\", \"KNN\", \"GaussianNB\", \"DecisionTree\"],\n",
    "    \"accuracy\": [0.970045, 0.969822, 0.926615, 0.895212, 0.869154, 0.830401],\n",
    "    \"precision\": [0.972264, 0.972252, 0.921839, 0.932106, 0.876900, 0.820311],\n",
    "    \"recall\": [0.970400, 0.969974, 0.939310, 0.862436, 0.872232, 0.865204],\n",
    "    \"f1\": [0.971331, 0.971112, 0.930493, 0.895919, 0.874560, 0.842160]\n",
    "}\n",
    "\n",
    "dfNONN = pd.DataFrame(data)\n",
    "dfNONN\n"
   ]
  },
  {
   "cell_type": "code",
   "execution_count": 14,
   "id": "5797de15",
   "metadata": {},
   "outputs": [
    {
     "data": {
      "application/vnd.microsoft.datawrangler.viewer.v0+json": {
       "columns": [
        {
         "name": "index",
         "rawType": "int64",
         "type": "integer"
        },
        {
         "name": "model",
         "rawType": "object",
         "type": "string"
        },
        {
         "name": "accuracy",
         "rawType": "float64",
         "type": "float"
        },
        {
         "name": "precision",
         "rawType": "float64",
         "type": "float"
        },
        {
         "name": "recall",
         "rawType": "float64",
         "type": "float"
        },
        {
         "name": "f1",
         "rawType": "float64",
         "type": "float"
        }
       ],
       "ref": "c518b843-b391-48ce-b7a3-adec61ad8dff",
       "rows": [
        [
         "0",
         "LogReg",
         "0.970045",
         "0.972264",
         "0.9704",
         "0.971331"
        ],
        [
         "1",
         "LinearSVM",
         "0.969822",
         "0.972252",
         "0.969974",
         "0.971112"
        ],
        [
         "2",
         "RandomForest",
         "0.926615",
         "0.921839",
         "0.93931",
         "0.930493"
        ],
        [
         "3",
         "KNN",
         "0.895212",
         "0.932106",
         "0.862436",
         "0.895919"
        ],
        [
         "4",
         "GaussianNB",
         "0.869154",
         "0.8769",
         "0.872232",
         "0.87456"
        ],
        [
         "5",
         "DecisionTree",
         "0.830401",
         "0.820311",
         "0.865204",
         "0.84216"
        ],
        [
         "6",
         "NeuralNetwork",
         "0.9780252412769117",
         "0.9782968891072211",
         "0.9777034495605996",
         "0.9779653940100038"
        ]
       ],
       "shape": {
        "columns": 5,
        "rows": 7
       }
      },
      "text/html": [
       "<div>\n",
       "<style scoped>\n",
       "    .dataframe tbody tr th:only-of-type {\n",
       "        vertical-align: middle;\n",
       "    }\n",
       "\n",
       "    .dataframe tbody tr th {\n",
       "        vertical-align: top;\n",
       "    }\n",
       "\n",
       "    .dataframe thead th {\n",
       "        text-align: right;\n",
       "    }\n",
       "</style>\n",
       "<table border=\"1\" class=\"dataframe\">\n",
       "  <thead>\n",
       "    <tr style=\"text-align: right;\">\n",
       "      <th></th>\n",
       "      <th>model</th>\n",
       "      <th>accuracy</th>\n",
       "      <th>precision</th>\n",
       "      <th>recall</th>\n",
       "      <th>f1</th>\n",
       "    </tr>\n",
       "  </thead>\n",
       "  <tbody>\n",
       "    <tr>\n",
       "      <th>0</th>\n",
       "      <td>LogReg</td>\n",
       "      <td>0.970045</td>\n",
       "      <td>0.972264</td>\n",
       "      <td>0.970400</td>\n",
       "      <td>0.971331</td>\n",
       "    </tr>\n",
       "    <tr>\n",
       "      <th>1</th>\n",
       "      <td>LinearSVM</td>\n",
       "      <td>0.969822</td>\n",
       "      <td>0.972252</td>\n",
       "      <td>0.969974</td>\n",
       "      <td>0.971112</td>\n",
       "    </tr>\n",
       "    <tr>\n",
       "      <th>2</th>\n",
       "      <td>RandomForest</td>\n",
       "      <td>0.926615</td>\n",
       "      <td>0.921839</td>\n",
       "      <td>0.939310</td>\n",
       "      <td>0.930493</td>\n",
       "    </tr>\n",
       "    <tr>\n",
       "      <th>3</th>\n",
       "      <td>KNN</td>\n",
       "      <td>0.895212</td>\n",
       "      <td>0.932106</td>\n",
       "      <td>0.862436</td>\n",
       "      <td>0.895919</td>\n",
       "    </tr>\n",
       "    <tr>\n",
       "      <th>4</th>\n",
       "      <td>GaussianNB</td>\n",
       "      <td>0.869154</td>\n",
       "      <td>0.876900</td>\n",
       "      <td>0.872232</td>\n",
       "      <td>0.874560</td>\n",
       "    </tr>\n",
       "    <tr>\n",
       "      <th>5</th>\n",
       "      <td>DecisionTree</td>\n",
       "      <td>0.830401</td>\n",
       "      <td>0.820311</td>\n",
       "      <td>0.865204</td>\n",
       "      <td>0.842160</td>\n",
       "    </tr>\n",
       "    <tr>\n",
       "      <th>6</th>\n",
       "      <td>NeuralNetwork</td>\n",
       "      <td>0.978025</td>\n",
       "      <td>0.978297</td>\n",
       "      <td>0.977703</td>\n",
       "      <td>0.977965</td>\n",
       "    </tr>\n",
       "  </tbody>\n",
       "</table>\n",
       "</div>"
      ],
      "text/plain": [
       "           model  accuracy  precision    recall        f1\n",
       "0         LogReg  0.970045   0.972264  0.970400  0.971331\n",
       "1      LinearSVM  0.969822   0.972252  0.969974  0.971112\n",
       "2   RandomForest  0.926615   0.921839  0.939310  0.930493\n",
       "3            KNN  0.895212   0.932106  0.862436  0.895919\n",
       "4     GaussianNB  0.869154   0.876900  0.872232  0.874560\n",
       "5   DecisionTree  0.830401   0.820311  0.865204  0.842160\n",
       "6  NeuralNetwork  0.978025   0.978297  0.977703  0.977965"
      ]
     },
     "execution_count": 14,
     "metadata": {},
     "output_type": "execute_result"
    }
   ],
   "source": [
    "results_df = pd.concat([dfNONN, nn_df], ignore_index=True)\n",
    "results_df.style.format({\n",
    "    \"accuracy\": \"{:.4f}\",\n",
    "    \"precision\": \"{:.4f}\",\n",
    "    \"recall\": \"{:.4f}\",\n",
    "    \"f1\": \"{:.4f}\"\n",
    "})\n",
    "\n",
    "results_df\n"
   ]
  },
  {
   "cell_type": "code",
   "execution_count": 15,
   "id": "8d967662",
   "metadata": {},
   "outputs": [],
   "source": [
    "results_df_rounded = results_df.round(4)\n"
   ]
  },
  {
   "cell_type": "code",
   "execution_count": 16,
   "id": "37d9ec72",
   "metadata": {},
   "outputs": [
    {
     "data": {
      "application/vnd.microsoft.datawrangler.viewer.v0+json": {
       "columns": [
        {
         "name": "index",
         "rawType": "int64",
         "type": "integer"
        },
        {
         "name": "model",
         "rawType": "object",
         "type": "string"
        },
        {
         "name": "accuracy",
         "rawType": "float64",
         "type": "float"
        },
        {
         "name": "precision",
         "rawType": "float64",
         "type": "float"
        },
        {
         "name": "recall",
         "rawType": "float64",
         "type": "float"
        },
        {
         "name": "f1",
         "rawType": "float64",
         "type": "float"
        }
       ],
       "ref": "d27fd928-b593-42e3-8319-e94e6a0d11a7",
       "rows": [
        [
         "0",
         "LogReg",
         "0.97",
         "0.9723",
         "0.9704",
         "0.9713"
        ],
        [
         "1",
         "LinearSVM",
         "0.9698",
         "0.9723",
         "0.97",
         "0.9711"
        ],
        [
         "2",
         "RandomForest",
         "0.9266",
         "0.9218",
         "0.9393",
         "0.9305"
        ],
        [
         "3",
         "KNN",
         "0.8952",
         "0.9321",
         "0.8624",
         "0.8959"
        ],
        [
         "4",
         "GaussianNB",
         "0.8692",
         "0.8769",
         "0.8722",
         "0.8746"
        ],
        [
         "5",
         "DecisionTree",
         "0.8304",
         "0.8203",
         "0.8652",
         "0.8422"
        ],
        [
         "6",
         "NeuralNetwork",
         "0.978",
         "0.9783",
         "0.9777",
         "0.978"
        ]
       ],
       "shape": {
        "columns": 5,
        "rows": 7
       }
      },
      "text/html": [
       "<div>\n",
       "<style scoped>\n",
       "    .dataframe tbody tr th:only-of-type {\n",
       "        vertical-align: middle;\n",
       "    }\n",
       "\n",
       "    .dataframe tbody tr th {\n",
       "        vertical-align: top;\n",
       "    }\n",
       "\n",
       "    .dataframe thead th {\n",
       "        text-align: right;\n",
       "    }\n",
       "</style>\n",
       "<table border=\"1\" class=\"dataframe\">\n",
       "  <thead>\n",
       "    <tr style=\"text-align: right;\">\n",
       "      <th></th>\n",
       "      <th>model</th>\n",
       "      <th>accuracy</th>\n",
       "      <th>precision</th>\n",
       "      <th>recall</th>\n",
       "      <th>f1</th>\n",
       "    </tr>\n",
       "  </thead>\n",
       "  <tbody>\n",
       "    <tr>\n",
       "      <th>0</th>\n",
       "      <td>LogReg</td>\n",
       "      <td>0.9700</td>\n",
       "      <td>0.9723</td>\n",
       "      <td>0.9704</td>\n",
       "      <td>0.9713</td>\n",
       "    </tr>\n",
       "    <tr>\n",
       "      <th>1</th>\n",
       "      <td>LinearSVM</td>\n",
       "      <td>0.9698</td>\n",
       "      <td>0.9723</td>\n",
       "      <td>0.9700</td>\n",
       "      <td>0.9711</td>\n",
       "    </tr>\n",
       "    <tr>\n",
       "      <th>2</th>\n",
       "      <td>RandomForest</td>\n",
       "      <td>0.9266</td>\n",
       "      <td>0.9218</td>\n",
       "      <td>0.9393</td>\n",
       "      <td>0.9305</td>\n",
       "    </tr>\n",
       "    <tr>\n",
       "      <th>3</th>\n",
       "      <td>KNN</td>\n",
       "      <td>0.8952</td>\n",
       "      <td>0.9321</td>\n",
       "      <td>0.8624</td>\n",
       "      <td>0.8959</td>\n",
       "    </tr>\n",
       "    <tr>\n",
       "      <th>4</th>\n",
       "      <td>GaussianNB</td>\n",
       "      <td>0.8692</td>\n",
       "      <td>0.8769</td>\n",
       "      <td>0.8722</td>\n",
       "      <td>0.8746</td>\n",
       "    </tr>\n",
       "    <tr>\n",
       "      <th>5</th>\n",
       "      <td>DecisionTree</td>\n",
       "      <td>0.8304</td>\n",
       "      <td>0.8203</td>\n",
       "      <td>0.8652</td>\n",
       "      <td>0.8422</td>\n",
       "    </tr>\n",
       "    <tr>\n",
       "      <th>6</th>\n",
       "      <td>NeuralNetwork</td>\n",
       "      <td>0.9780</td>\n",
       "      <td>0.9783</td>\n",
       "      <td>0.9777</td>\n",
       "      <td>0.9780</td>\n",
       "    </tr>\n",
       "  </tbody>\n",
       "</table>\n",
       "</div>"
      ],
      "text/plain": [
       "           model  accuracy  precision  recall      f1\n",
       "0         LogReg    0.9700     0.9723  0.9704  0.9713\n",
       "1      LinearSVM    0.9698     0.9723  0.9700  0.9711\n",
       "2   RandomForest    0.9266     0.9218  0.9393  0.9305\n",
       "3            KNN    0.8952     0.9321  0.8624  0.8959\n",
       "4     GaussianNB    0.8692     0.8769  0.8722  0.8746\n",
       "5   DecisionTree    0.8304     0.8203  0.8652  0.8422\n",
       "6  NeuralNetwork    0.9780     0.9783  0.9777  0.9780"
      ]
     },
     "execution_count": 16,
     "metadata": {},
     "output_type": "execute_result"
    }
   ],
   "source": [
    "results_df_rounded"
   ]
  },
  {
   "cell_type": "code",
   "execution_count": 17,
   "id": "2fa1504e",
   "metadata": {},
   "outputs": [],
   "source": [
    "results_df_rounded.to_csv(r\"C:\\Users\\DAVIDEPEDRETTI\\Desktop\\NLP_news\\Transformers_Metrics.csv\")"
   ]
  }
 ],
 "metadata": {
  "kernelspec": {
   "display_name": "AMBIENTE1",
   "language": "python",
   "name": "python3"
  },
  "language_info": {
   "codemirror_mode": {
    "name": "ipython",
    "version": 3
   },
   "file_extension": ".py",
   "mimetype": "text/x-python",
   "name": "python",
   "nbconvert_exporter": "python",
   "pygments_lexer": "ipython3",
   "version": "3.11.9"
  }
 },
 "nbformat": 4,
 "nbformat_minor": 5
}
