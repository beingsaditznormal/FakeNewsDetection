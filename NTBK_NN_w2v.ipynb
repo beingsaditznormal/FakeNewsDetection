{
 "cells": [
  {
   "cell_type": "code",
   "execution_count": 13,
   "id": "ba96e6ae",
   "metadata": {},
   "outputs": [
    {
     "name": "stdout",
     "output_type": "stream",
     "text": [
      "(44182, 100) (44182,)\n"
     ]
    }
   ],
   "source": [
    "import numpy as np\n",
    "from pymongo import MongoClient\n",
    "\n",
    "client = MongoClient(\"mongodb://localhost:27017/\")\n",
    "coll = client[\"News\"][\"features2_w2v\"]\n",
    "\n",
    "X_list, y_list = [], []\n",
    "for d in coll.find({}, {\"_id\":0}).sort(\"idx\", 1):\n",
    "    X_list.extend(d[\"X\"])\n",
    "    y_list.extend(d[\"y\"])\n",
    "X_rec = np.array(X_list, dtype=np.float32)\n",
    "y_rec = np.array(y_list)\n",
    "print(X_rec.shape, y_rec.shape)"
   ]
  },
  {
   "cell_type": "code",
   "execution_count": 14,
   "id": "673ece11",
   "metadata": {},
   "outputs": [
    {
     "data": {
      "text/plain": [
       "array([[-0.14576551,  0.20846634,  0.19916436, ...,  0.07032482,\n",
       "         0.04025758, -0.32057312],\n",
       "       [-0.07765286,  0.15813601,  0.34665048, ...,  0.03394436,\n",
       "        -0.00245274, -0.36184576],\n",
       "       [ 0.00100248,  0.08843064,  0.20083056, ...,  0.12334862,\n",
       "         0.02798297, -0.3715067 ],\n",
       "       ...,\n",
       "       [-0.19437018,  0.26075804,  0.26103425, ...,  0.01103982,\n",
       "         0.07664921, -0.3617203 ],\n",
       "       [-0.30282566,  0.25800672,  0.32357222, ..., -0.09570906,\n",
       "         0.13183808, -0.418988  ],\n",
       "       [-0.33571106,  0.31191632,  0.28925517, ...,  0.01730149,\n",
       "         0.11054684, -0.4036947 ]], dtype=float32)"
      ]
     },
     "execution_count": 14,
     "metadata": {},
     "output_type": "execute_result"
    }
   ],
   "source": [
    "X_rec"
   ]
  },
  {
   "cell_type": "code",
   "execution_count": 15,
   "id": "2f35dab6",
   "metadata": {},
   "outputs": [
    {
     "data": {
      "text/plain": [
       "array(['1', '1', '1', ..., '0', '0', '0'], dtype='<U1')"
      ]
     },
     "execution_count": 15,
     "metadata": {},
     "output_type": "execute_result"
    }
   ],
   "source": [
    "y_rec"
   ]
  },
  {
   "cell_type": "code",
   "execution_count": 16,
   "id": "2437d00c",
   "metadata": {},
   "outputs": [
    {
     "name": "stdout",
     "output_type": "stream",
     "text": [
      "Shape X: (44182, 100) dtype: float32\n",
      "Shape y: (44182,) dtype: <U1\n"
     ]
    }
   ],
   "source": [
    "import numpy as np\n",
    "import tensorflow as tf\n",
    "from tensorflow import keras\n",
    "from tensorflow.keras import layers\n",
    "\n",
    "# Riproducibilità\n",
    "np.random.seed(42)\n",
    "tf.random.set_seed(42)\n",
    "\n",
    "print(\"Shape X:\", X_rec.shape, \"dtype:\", X_rec.dtype)\n",
    "print(\"Shape y:\", y_rec.shape, \"dtype:\", y_rec.dtype)\n"
   ]
  },
  {
   "cell_type": "code",
   "execution_count": 17,
   "id": "1188c934",
   "metadata": {},
   "outputs": [
    {
     "name": "stdout",
     "output_type": "stream",
     "text": [
      "Train: (30927, 100) Val: (6627, 100) Test: (6628, 100)\n",
      "class_weight: {0: 1.0315189113468082, 1: 0.9703501506024096}\n"
     ]
    }
   ],
   "source": [
    "from sklearn.model_selection import train_test_split\n",
    "from sklearn.utils.class_weight import compute_class_weight\n",
    "\n",
    "# Etichette: da stringhe a int\n",
    "y = (y_rec.astype(str) == '1').astype(int)   # 1=fake, 0=vera\n",
    "X = X_rec.astype(np.float32)\n",
    "\n",
    "# Split stratificato: 70% train, 15% val, 15% test\n",
    "X_train, X_temp, y_train, y_temp = train_test_split(\n",
    "    X, y, test_size=0.30, stratify=y, random_state=42\n",
    ")\n",
    "X_val, X_test, y_val, y_test = train_test_split(\n",
    "    X_temp, y_temp, test_size=0.50, stratify=y_temp, random_state=42\n",
    ")\n",
    "\n",
    "print(\"Train:\", X_train.shape, \"Val:\", X_val.shape, \"Test:\", X_test.shape)\n",
    "\n",
    "# Class weights (per gestire squilibrio)\n",
    "classes = np.unique(y_train)\n",
    "class_weights = compute_class_weight(\"balanced\", classes=classes, y=y_train)\n",
    "class_weight = {int(c): float(w) for c, w in zip(classes, class_weights)}\n",
    "print(\"class_weight:\", class_weight)\n"
   ]
  },
  {
   "cell_type": "code",
   "execution_count": 18,
   "id": "271687e9",
   "metadata": {},
   "outputs": [
    {
     "data": {
      "text/html": [
       "<pre style=\"white-space:pre;overflow-x:auto;line-height:normal;font-family:Menlo,'DejaVu Sans Mono',consolas,'Courier New',monospace\"><span style=\"font-weight: bold\">Model: \"functional_1\"</span>\n",
       "</pre>\n"
      ],
      "text/plain": [
       "\u001b[1mModel: \"functional_1\"\u001b[0m\n"
      ]
     },
     "metadata": {},
     "output_type": "display_data"
    },
    {
     "data": {
      "text/html": [
       "<pre style=\"white-space:pre;overflow-x:auto;line-height:normal;font-family:Menlo,'DejaVu Sans Mono',consolas,'Courier New',monospace\">┏━━━━━━━━━━━━━━━━━━━━━━━━━━━━━━━━━┳━━━━━━━━━━━━━━━━━━━━━━━━┳━━━━━━━━━━━━━━━┓\n",
       "┃<span style=\"font-weight: bold\"> Layer (type)                    </span>┃<span style=\"font-weight: bold\"> Output Shape           </span>┃<span style=\"font-weight: bold\">       Param # </span>┃\n",
       "┡━━━━━━━━━━━━━━━━━━━━━━━━━━━━━━━━━╇━━━━━━━━━━━━━━━━━━━━━━━━╇━━━━━━━━━━━━━━━┩\n",
       "│ dense_features (<span style=\"color: #0087ff; text-decoration-color: #0087ff\">InputLayer</span>)     │ (<span style=\"color: #00d7ff; text-decoration-color: #00d7ff\">None</span>, <span style=\"color: #00af00; text-decoration-color: #00af00\">100</span>)            │             <span style=\"color: #00af00; text-decoration-color: #00af00\">0</span> │\n",
       "├─────────────────────────────────┼────────────────────────┼───────────────┤\n",
       "│ batch_normalization_1           │ (<span style=\"color: #00d7ff; text-decoration-color: #00d7ff\">None</span>, <span style=\"color: #00af00; text-decoration-color: #00af00\">100</span>)            │           <span style=\"color: #00af00; text-decoration-color: #00af00\">400</span> │\n",
       "│ (<span style=\"color: #0087ff; text-decoration-color: #0087ff\">BatchNormalization</span>)            │                        │               │\n",
       "├─────────────────────────────────┼────────────────────────┼───────────────┤\n",
       "│ dense_3 (<span style=\"color: #0087ff; text-decoration-color: #0087ff\">Dense</span>)                 │ (<span style=\"color: #00d7ff; text-decoration-color: #00d7ff\">None</span>, <span style=\"color: #00af00; text-decoration-color: #00af00\">256</span>)            │        <span style=\"color: #00af00; text-decoration-color: #00af00\">25,856</span> │\n",
       "├─────────────────────────────────┼────────────────────────┼───────────────┤\n",
       "│ dropout_2 (<span style=\"color: #0087ff; text-decoration-color: #0087ff\">Dropout</span>)             │ (<span style=\"color: #00d7ff; text-decoration-color: #00d7ff\">None</span>, <span style=\"color: #00af00; text-decoration-color: #00af00\">256</span>)            │             <span style=\"color: #00af00; text-decoration-color: #00af00\">0</span> │\n",
       "├─────────────────────────────────┼────────────────────────┼───────────────┤\n",
       "│ dense_4 (<span style=\"color: #0087ff; text-decoration-color: #0087ff\">Dense</span>)                 │ (<span style=\"color: #00d7ff; text-decoration-color: #00d7ff\">None</span>, <span style=\"color: #00af00; text-decoration-color: #00af00\">128</span>)            │        <span style=\"color: #00af00; text-decoration-color: #00af00\">32,896</span> │\n",
       "├─────────────────────────────────┼────────────────────────┼───────────────┤\n",
       "│ dropout_3 (<span style=\"color: #0087ff; text-decoration-color: #0087ff\">Dropout</span>)             │ (<span style=\"color: #00d7ff; text-decoration-color: #00d7ff\">None</span>, <span style=\"color: #00af00; text-decoration-color: #00af00\">128</span>)            │             <span style=\"color: #00af00; text-decoration-color: #00af00\">0</span> │\n",
       "├─────────────────────────────────┼────────────────────────┼───────────────┤\n",
       "│ dense_5 (<span style=\"color: #0087ff; text-decoration-color: #0087ff\">Dense</span>)                 │ (<span style=\"color: #00d7ff; text-decoration-color: #00d7ff\">None</span>, <span style=\"color: #00af00; text-decoration-color: #00af00\">1</span>)              │           <span style=\"color: #00af00; text-decoration-color: #00af00\">129</span> │\n",
       "└─────────────────────────────────┴────────────────────────┴───────────────┘\n",
       "</pre>\n"
      ],
      "text/plain": [
       "┏━━━━━━━━━━━━━━━━━━━━━━━━━━━━━━━━━┳━━━━━━━━━━━━━━━━━━━━━━━━┳━━━━━━━━━━━━━━━┓\n",
       "┃\u001b[1m \u001b[0m\u001b[1mLayer (type)                   \u001b[0m\u001b[1m \u001b[0m┃\u001b[1m \u001b[0m\u001b[1mOutput Shape          \u001b[0m\u001b[1m \u001b[0m┃\u001b[1m \u001b[0m\u001b[1m      Param #\u001b[0m\u001b[1m \u001b[0m┃\n",
       "┡━━━━━━━━━━━━━━━━━━━━━━━━━━━━━━━━━╇━━━━━━━━━━━━━━━━━━━━━━━━╇━━━━━━━━━━━━━━━┩\n",
       "│ dense_features (\u001b[38;5;33mInputLayer\u001b[0m)     │ (\u001b[38;5;45mNone\u001b[0m, \u001b[38;5;34m100\u001b[0m)            │             \u001b[38;5;34m0\u001b[0m │\n",
       "├─────────────────────────────────┼────────────────────────┼───────────────┤\n",
       "│ batch_normalization_1           │ (\u001b[38;5;45mNone\u001b[0m, \u001b[38;5;34m100\u001b[0m)            │           \u001b[38;5;34m400\u001b[0m │\n",
       "│ (\u001b[38;5;33mBatchNormalization\u001b[0m)            │                        │               │\n",
       "├─────────────────────────────────┼────────────────────────┼───────────────┤\n",
       "│ dense_3 (\u001b[38;5;33mDense\u001b[0m)                 │ (\u001b[38;5;45mNone\u001b[0m, \u001b[38;5;34m256\u001b[0m)            │        \u001b[38;5;34m25,856\u001b[0m │\n",
       "├─────────────────────────────────┼────────────────────────┼───────────────┤\n",
       "│ dropout_2 (\u001b[38;5;33mDropout\u001b[0m)             │ (\u001b[38;5;45mNone\u001b[0m, \u001b[38;5;34m256\u001b[0m)            │             \u001b[38;5;34m0\u001b[0m │\n",
       "├─────────────────────────────────┼────────────────────────┼───────────────┤\n",
       "│ dense_4 (\u001b[38;5;33mDense\u001b[0m)                 │ (\u001b[38;5;45mNone\u001b[0m, \u001b[38;5;34m128\u001b[0m)            │        \u001b[38;5;34m32,896\u001b[0m │\n",
       "├─────────────────────────────────┼────────────────────────┼───────────────┤\n",
       "│ dropout_3 (\u001b[38;5;33mDropout\u001b[0m)             │ (\u001b[38;5;45mNone\u001b[0m, \u001b[38;5;34m128\u001b[0m)            │             \u001b[38;5;34m0\u001b[0m │\n",
       "├─────────────────────────────────┼────────────────────────┼───────────────┤\n",
       "│ dense_5 (\u001b[38;5;33mDense\u001b[0m)                 │ (\u001b[38;5;45mNone\u001b[0m, \u001b[38;5;34m1\u001b[0m)              │           \u001b[38;5;34m129\u001b[0m │\n",
       "└─────────────────────────────────┴────────────────────────┴───────────────┘\n"
      ]
     },
     "metadata": {},
     "output_type": "display_data"
    },
    {
     "data": {
      "text/html": [
       "<pre style=\"white-space:pre;overflow-x:auto;line-height:normal;font-family:Menlo,'DejaVu Sans Mono',consolas,'Courier New',monospace\"><span style=\"font-weight: bold\"> Total params: </span><span style=\"color: #00af00; text-decoration-color: #00af00\">59,281</span> (231.57 KB)\n",
       "</pre>\n"
      ],
      "text/plain": [
       "\u001b[1m Total params: \u001b[0m\u001b[38;5;34m59,281\u001b[0m (231.57 KB)\n"
      ]
     },
     "metadata": {},
     "output_type": "display_data"
    },
    {
     "data": {
      "text/html": [
       "<pre style=\"white-space:pre;overflow-x:auto;line-height:normal;font-family:Menlo,'DejaVu Sans Mono',consolas,'Courier New',monospace\"><span style=\"font-weight: bold\"> Trainable params: </span><span style=\"color: #00af00; text-decoration-color: #00af00\">59,081</span> (230.79 KB)\n",
       "</pre>\n"
      ],
      "text/plain": [
       "\u001b[1m Trainable params: \u001b[0m\u001b[38;5;34m59,081\u001b[0m (230.79 KB)\n"
      ]
     },
     "metadata": {},
     "output_type": "display_data"
    },
    {
     "data": {
      "text/html": [
       "<pre style=\"white-space:pre;overflow-x:auto;line-height:normal;font-family:Menlo,'DejaVu Sans Mono',consolas,'Courier New',monospace\"><span style=\"font-weight: bold\"> Non-trainable params: </span><span style=\"color: #00af00; text-decoration-color: #00af00\">200</span> (800.00 B)\n",
       "</pre>\n"
      ],
      "text/plain": [
       "\u001b[1m Non-trainable params: \u001b[0m\u001b[38;5;34m200\u001b[0m (800.00 B)\n"
      ]
     },
     "metadata": {},
     "output_type": "display_data"
    }
   ],
   "source": [
    "def build_mlp(input_dim, hidden=(256, 128), dropout=0.30, l2=1e-4, lr=1e-3):\n",
    "    inputs = keras.Input(shape=(input_dim,), name=\"dense_features\")\n",
    "    x = layers.BatchNormalization()(inputs)\n",
    "\n",
    "    x = layers.Dense(hidden[0], activation=\"relu\",\n",
    "                     kernel_regularizer=keras.regularizers.l2(l2))(x)\n",
    "    x = layers.Dropout(dropout)(x)\n",
    "\n",
    "    x = layers.Dense(hidden[1], activation=\"relu\",\n",
    "                     kernel_regularizer=keras.regularizers.l2(l2))(x)\n",
    "    x = layers.Dropout(dropout)(x)\n",
    "\n",
    "    outputs = layers.Dense(1, activation=\"sigmoid\")(x)\n",
    "\n",
    "    model = keras.Model(inputs, outputs)\n",
    "    model.compile(\n",
    "        optimizer=keras.optimizers.Adam(learning_rate=lr),\n",
    "        loss=\"binary_crossentropy\",\n",
    "        metrics=[\n",
    "            keras.metrics.BinaryAccuracy(name=\"accuracy\"),\n",
    "            keras.metrics.Precision(name=\"precision\"),\n",
    "            keras.metrics.Recall(name=\"recall\"),\n",
    "            keras.metrics.AUC(name=\"auc\")\n",
    "        ]\n",
    "    )\n",
    "    return model\n",
    "\n",
    "model = build_mlp(input_dim=X.shape[1])\n",
    "model.summary()\n"
   ]
  },
  {
   "cell_type": "code",
   "execution_count": 19,
   "id": "269bacbe",
   "metadata": {},
   "outputs": [
    {
     "name": "stdout",
     "output_type": "stream",
     "text": [
      "Epoch 1/25\n",
      "\u001b[1m121/121\u001b[0m \u001b[32m━━━━━━━━━━━━━━━━━━━━\u001b[0m\u001b[37m\u001b[0m \u001b[1m8s\u001b[0m 24ms/step - accuracy: 0.8805 - auc: 0.9443 - loss: 0.3043 - precision: 0.8868 - recall: 0.8882 - val_accuracy: 0.9439 - val_auc: 0.9917 - val_loss: 0.3947 - val_precision: 0.9792 - val_recall: 0.9104 - learning_rate: 0.0010\n",
      "Epoch 2/25\n",
      "\u001b[1m121/121\u001b[0m \u001b[32m━━━━━━━━━━━━━━━━━━━━\u001b[0m\u001b[37m\u001b[0m \u001b[1m4s\u001b[0m 14ms/step - accuracy: 0.9569 - auc: 0.9919 - loss: 0.1413 - precision: 0.9618 - recall: 0.9546 - val_accuracy: 0.9650 - val_auc: 0.9943 - val_loss: 0.2555 - val_precision: 0.9772 - val_recall: 0.9543 - learning_rate: 0.0010\n",
      "Epoch 3/25\n",
      "\u001b[1m121/121\u001b[0m \u001b[32m━━━━━━━━━━━━━━━━━━━━\u001b[0m\u001b[37m\u001b[0m \u001b[1m2s\u001b[0m 16ms/step - accuracy: 0.9653 - auc: 0.9944 - loss: 0.1194 - precision: 0.9690 - recall: 0.9638 - val_accuracy: 0.9680 - val_auc: 0.9952 - val_loss: 0.1642 - val_precision: 0.9726 - val_recall: 0.9652 - learning_rate: 0.0010\n",
      "Epoch 4/25\n",
      "\u001b[1m121/121\u001b[0m \u001b[32m━━━━━━━━━━━━━━━━━━━━\u001b[0m\u001b[37m\u001b[0m \u001b[1m2s\u001b[0m 13ms/step - accuracy: 0.9674 - auc: 0.9949 - loss: 0.1138 - precision: 0.9715 - recall: 0.9653 - val_accuracy: 0.9710 - val_auc: 0.9957 - val_loss: 0.1181 - val_precision: 0.9733 - val_recall: 0.9704 - learning_rate: 0.0010\n",
      "Epoch 5/25\n",
      "\u001b[1m121/121\u001b[0m \u001b[32m━━━━━━━━━━━━━━━━━━━━\u001b[0m\u001b[37m\u001b[0m \u001b[1m1s\u001b[0m 12ms/step - accuracy: 0.9699 - auc: 0.9958 - loss: 0.1041 - precision: 0.9745 - recall: 0.9672 - val_accuracy: 0.9730 - val_auc: 0.9958 - val_loss: 0.1061 - val_precision: 0.9728 - val_recall: 0.9748 - learning_rate: 0.0010\n",
      "Epoch 6/25\n",
      "\u001b[1m121/121\u001b[0m \u001b[32m━━━━━━━━━━━━━━━━━━━━\u001b[0m\u001b[37m\u001b[0m \u001b[1m3s\u001b[0m 24ms/step - accuracy: 0.9736 - auc: 0.9967 - loss: 0.0957 - precision: 0.9772 - recall: 0.9717 - val_accuracy: 0.9722 - val_auc: 0.9959 - val_loss: 0.1029 - val_precision: 0.9720 - val_recall: 0.9742 - learning_rate: 0.0010\n",
      "Epoch 7/25\n",
      "\u001b[1m121/121\u001b[0m \u001b[32m━━━━━━━━━━━━━━━━━━━━\u001b[0m\u001b[37m\u001b[0m \u001b[1m5s\u001b[0m 43ms/step - accuracy: 0.9740 - auc: 0.9967 - loss: 0.0938 - precision: 0.9778 - recall: 0.9718 - val_accuracy: 0.9727 - val_auc: 0.9959 - val_loss: 0.1010 - val_precision: 0.9720 - val_recall: 0.9751 - learning_rate: 0.0010\n",
      "Epoch 8/25\n",
      "\u001b[1m121/121\u001b[0m \u001b[32m━━━━━━━━━━━━━━━━━━━━\u001b[0m\u001b[37m\u001b[0m \u001b[1m3s\u001b[0m 27ms/step - accuracy: 0.9777 - auc: 0.9971 - loss: 0.0867 - precision: 0.9815 - recall: 0.9753 - val_accuracy: 0.9740 - val_auc: 0.9960 - val_loss: 0.0995 - val_precision: 0.9734 - val_recall: 0.9763 - learning_rate: 0.0010\n",
      "Epoch 9/25\n",
      "\u001b[1m121/121\u001b[0m \u001b[32m━━━━━━━━━━━━━━━━━━━━\u001b[0m\u001b[37m\u001b[0m \u001b[1m2s\u001b[0m 15ms/step - accuracy: 0.9779 - auc: 0.9973 - loss: 0.0836 - precision: 0.9815 - recall: 0.9757 - val_accuracy: 0.9725 - val_auc: 0.9957 - val_loss: 0.1028 - val_precision: 0.9676 - val_recall: 0.9795 - learning_rate: 0.0010\n",
      "Epoch 10/25\n",
      "\u001b[1m121/121\u001b[0m \u001b[32m━━━━━━━━━━━━━━━━━━━━\u001b[0m\u001b[37m\u001b[0m \u001b[1m2s\u001b[0m 15ms/step - accuracy: 0.9772 - auc: 0.9975 - loss: 0.0815 - precision: 0.9802 - recall: 0.9757 - val_accuracy: 0.9733 - val_auc: 0.9958 - val_loss: 0.0998 - val_precision: 0.9701 - val_recall: 0.9783 - learning_rate: 0.0010\n",
      "Epoch 11/25\n",
      "\u001b[1m121/121\u001b[0m \u001b[32m━━━━━━━━━━━━━━━━━━━━\u001b[0m\u001b[37m\u001b[0m \u001b[1m2s\u001b[0m 14ms/step - accuracy: 0.9814 - auc: 0.9981 - loss: 0.0730 - precision: 0.9836 - recall: 0.9804 - val_accuracy: 0.9736 - val_auc: 0.9961 - val_loss: 0.0986 - val_precision: 0.9688 - val_recall: 0.9804 - learning_rate: 5.0000e-04\n",
      "Epoch 12/25\n",
      "\u001b[1m121/121\u001b[0m \u001b[32m━━━━━━━━━━━━━━━━━━━━\u001b[0m\u001b[37m\u001b[0m \u001b[1m2s\u001b[0m 13ms/step - accuracy: 0.9822 - auc: 0.9984 - loss: 0.0700 - precision: 0.9840 - recall: 0.9816 - val_accuracy: 0.9731 - val_auc: 0.9957 - val_loss: 0.1001 - val_precision: 0.9676 - val_recall: 0.9807 - learning_rate: 5.0000e-04\n",
      "Epoch 13/25\n",
      "\u001b[1m121/121\u001b[0m \u001b[32m━━━━━━━━━━━━━━━━━━━━\u001b[0m\u001b[37m\u001b[0m \u001b[1m2s\u001b[0m 12ms/step - accuracy: 0.9826 - auc: 0.9984 - loss: 0.0683 - precision: 0.9851 - recall: 0.9811 - val_accuracy: 0.9734 - val_auc: 0.9961 - val_loss: 0.0986 - val_precision: 0.9693 - val_recall: 0.9795 - learning_rate: 5.0000e-04\n",
      "Epoch 14/25\n",
      "\u001b[1m121/121\u001b[0m \u001b[32m━━━━━━━━━━━━━━━━━━━━\u001b[0m\u001b[37m\u001b[0m \u001b[1m2s\u001b[0m 13ms/step - accuracy: 0.9842 - auc: 0.9987 - loss: 0.0643 - precision: 0.9861 - recall: 0.9833 - val_accuracy: 0.9762 - val_auc: 0.9961 - val_loss: 0.0953 - val_precision: 0.9758 - val_recall: 0.9780 - learning_rate: 2.5000e-04\n",
      "Epoch 15/25\n",
      "\u001b[1m121/121\u001b[0m \u001b[32m━━━━━━━━━━━━━━━━━━━━\u001b[0m\u001b[37m\u001b[0m \u001b[1m2s\u001b[0m 13ms/step - accuracy: 0.9844 - auc: 0.9987 - loss: 0.0640 - precision: 0.9860 - recall: 0.9838 - val_accuracy: 0.9768 - val_auc: 0.9959 - val_loss: 0.0949 - val_precision: 0.9761 - val_recall: 0.9789 - learning_rate: 2.5000e-04\n",
      "Epoch 16/25\n",
      "\u001b[1m121/121\u001b[0m \u001b[32m━━━━━━━━━━━━━━━━━━━━\u001b[0m\u001b[37m\u001b[0m \u001b[1m2s\u001b[0m 12ms/step - accuracy: 0.9857 - auc: 0.9990 - loss: 0.0602 - precision: 0.9873 - recall: 0.9850 - val_accuracy: 0.9759 - val_auc: 0.9957 - val_loss: 0.0954 - val_precision: 0.9744 - val_recall: 0.9789 - learning_rate: 2.5000e-04\n",
      "Epoch 17/25\n",
      "\u001b[1m121/121\u001b[0m \u001b[32m━━━━━━━━━━━━━━━━━━━━\u001b[0m\u001b[37m\u001b[0m \u001b[1m2s\u001b[0m 14ms/step - accuracy: 0.9845 - auc: 0.9989 - loss: 0.0599 - precision: 0.9852 - recall: 0.9850 - val_accuracy: 0.9759 - val_auc: 0.9958 - val_loss: 0.0957 - val_precision: 0.9744 - val_recall: 0.9789 - learning_rate: 2.5000e-04\n",
      "Epoch 18/25\n",
      "\u001b[1m121/121\u001b[0m \u001b[32m━━━━━━━━━━━━━━━━━━━━\u001b[0m\u001b[37m\u001b[0m \u001b[1m2s\u001b[0m 13ms/step - accuracy: 0.9860 - auc: 0.9988 - loss: 0.0599 - precision: 0.9879 - recall: 0.9849 - val_accuracy: 0.9763 - val_auc: 0.9955 - val_loss: 0.0960 - val_precision: 0.9780 - val_recall: 0.9760 - learning_rate: 1.2500e-04\n"
     ]
    }
   ],
   "source": [
    "early = keras.callbacks.EarlyStopping(\n",
    "    monitor=\"val_loss\", patience=3, restore_best_weights=True\n",
    ")\n",
    "reduce = keras.callbacks.ReduceLROnPlateau(\n",
    "    monitor=\"val_loss\", factor=0.5, patience=2, min_lr=1e-6\n",
    ")\n",
    "\n",
    "history = model.fit(\n",
    "    X_train, y_train,\n",
    "    validation_data=(X_val, y_val),\n",
    "    epochs=25,\n",
    "    batch_size=256,\n",
    "    callbacks=[early, reduce],\n",
    "    class_weight=class_weight,   # rimuovi se bilanciate\n",
    "    verbose=1\n",
    ")\n"
   ]
  },
  {
   "cell_type": "code",
   "execution_count": 20,
   "id": "e20cd018",
   "metadata": {},
   "outputs": [
    {
     "name": "stdout",
     "output_type": "stream",
     "text": [
      "\u001b[1m208/208\u001b[0m \u001b[32m━━━━━━━━━━━━━━━━━━━━\u001b[0m\u001b[37m\u001b[0m \u001b[1m1s\u001b[0m 4ms/step\n",
      "== Confusion matrix @0.5 ==\n",
      "[[3132   81]\n",
      " [  81 3334]]\n",
      "\n",
      "== Classification report ==\n",
      "              precision    recall  f1-score   support\n",
      "\n",
      "           0      0.975     0.975     0.975      3213\n",
      "           1      0.976     0.976     0.976      3415\n",
      "\n",
      "    accuracy                          0.976      6628\n",
      "   macro avg      0.976     0.976     0.976      6628\n",
      "weighted avg      0.976     0.976     0.976      6628\n",
      "\n",
      "ROC-AUC: 0.9967286084760894\n",
      "\u001b[1m208/208\u001b[0m \u001b[32m━━━━━━━━━━━━━━━━━━━━\u001b[0m\u001b[37m\u001b[0m \u001b[1m1s\u001b[0m 3ms/step\n",
      "Best threshold (val): 0.4925838\n",
      "\n",
      "== Report con soglia ottimizzata ==\n",
      "              precision    recall  f1-score   support\n",
      "\n",
      "           0      0.975     0.974     0.974      3213\n",
      "           1      0.975     0.976     0.976      3415\n",
      "\n",
      "    accuracy                          0.975      6628\n",
      "   macro avg      0.975     0.975     0.975      6628\n",
      "weighted avg      0.975     0.975     0.975      6628\n",
      "\n"
     ]
    }
   ],
   "source": [
    "from sklearn.metrics import classification_report, confusion_matrix, roc_auc_score, precision_recall_curve\n",
    "\n",
    "# Predizioni probabilistiche\n",
    "probs = model.predict(X_test).ravel()\n",
    "\n",
    "# Default threshold 0.5\n",
    "preds = (probs >= 0.5).astype(int)\n",
    "print(\"== Confusion matrix @0.5 ==\")\n",
    "print(confusion_matrix(y_test, preds))\n",
    "print(\"\\n== Classification report ==\")\n",
    "print(classification_report(y_test, preds, digits=3))\n",
    "print(\"ROC-AUC:\", roc_auc_score(y_test, probs))\n",
    "\n",
    "# Soglia che massimizza F1 (su validation set)\n",
    "val_probs = model.predict(X_val).ravel()\n",
    "prec, rec, thr = precision_recall_curve(y_val, val_probs)\n",
    "f1 = 2*prec*rec/(prec+rec+1e-8)\n",
    "best_idx = np.nanargmax(f1)\n",
    "best_thr = thr[best_idx] if best_idx < len(thr) else 0.5\n",
    "print(\"Best threshold (val):\", best_thr)\n",
    "\n",
    "pred_best = (probs >= best_thr).astype(int)\n",
    "print(\"\\n== Report con soglia ottimizzata ==\")\n",
    "print(classification_report(y_test, pred_best, digits=3))\n"
   ]
  },
  {
   "cell_type": "code",
   "execution_count": 21,
   "id": "5834078d",
   "metadata": {},
   "outputs": [
    {
     "data": {
      "image/png": "[encoded data removed]",
      "text/plain": [
       "<Figure size 1200x500 with 2 Axes>"
      ]
     },
     "metadata": {},
     "output_type": "display_data"
    }
   ],
   "source": [
    "# =========================================\n",
    "# Andamento Accuracy e Loss per epoca\n",
    "# =========================================\n",
    "import matplotlib.pyplot as plt\n",
    "\n",
    "plt.figure(figsize=(12,5))\n",
    "\n",
    "# Accuracy\n",
    "plt.subplot(1,2,1)\n",
    "plt.plot(history.history['accuracy'], label='Train Accuracy')\n",
    "plt.plot(history.history['val_accuracy'], label='Validation Accuracy')\n",
    "plt.xlabel('Epochs')\n",
    "plt.ylabel('Accuracy')\n",
    "plt.legend()\n",
    "plt.title('Accuracy per Epoch')\n",
    "\n",
    "# Loss\n",
    "plt.subplot(1,2,2)\n",
    "plt.plot(history.history['loss'], label='Train Loss')\n",
    "plt.plot(history.history['val_loss'], label='Validation Loss')\n",
    "plt.xlabel('Epochs')\n",
    "plt.ylabel('Loss')\n",
    "plt.legend()\n",
    "plt.title('Loss per Epoch')\n",
    "\n",
    "plt.tight_layout()\n",
    "plt.show()\n"
   ]
  },
  {
   "cell_type": "markdown",
   "id": "fefae3ad",
   "metadata": {},
   "source": [
    "1. Accuracy\n",
    "\n",
    "All’inizio l’accuratezza di training parte intorno al 93%, mentre quella di validation è leggermente più alta (≈94.5%). Questo succede spesso quando il modello ha dropout/regolarizzazione attivi: in training è penalizzato, mentre la validation (dove il dropout è spento) appare inizialmente migliore.\n",
    "\n",
    "Dopo poche epoche entrambe le curve crescono in parallelo: il training raggiunge quasi il 99%, mentre la validation si stabilizza intorno al 97.5%–97.7%.\n",
    "\n",
    "La distanza tra train e validation rimane limitata (≈1.5%): indice che il modello sta generalizzando bene, con un overfitting contenuto.\n",
    "\n",
    "2. Loss\n",
    "\n",
    "La loss di training cala in modo regolare da ≈0.21 a meno di 0.06: significa che il modello riduce progressivamente l’errore sui dati che vede durante l’addestramento.\n",
    "\n",
    "La loss di validation scende rapidamente da ≈0.40 a ≈0.10 già entro le prime 3–5 epoche e poi si stabilizza, senza crescere in modo significativo.\n",
    "\n",
    "Questo è un buon segnale: non osserviamo divergenze forti (che sarebbero tipiche di un overfitting serio).\n",
    "\n",
    "3. Interpretazione didattica\n",
    "\n",
    "Prime epoche → forte apprendimento dei pattern di base, con miglioramento rapido sia in training che in validation.\n",
    "\n",
    "Epoche successive → il modello continua a migliorare sul training, ma sulla validation si osserva un plateau: sta imparando dettagli specifici del training set che non si traducono in veri guadagni di generalizzazione.\n",
    "\n",
    "Il gap moderato train/val è fisiologico e accettabile, soprattutto in un problema con embedding ricchi come questo.\n",
    "\n",
    "4. Messaggio agli studenti\n",
    "\n",
    "Questi grafici ci insegnano tre cose fondamentali:\n",
    "\n",
    "Il modello impara davvero: vediamo una crescita stabile dell’accuracy e una riduzione della loss, non è solo rumore.\n",
    "\n",
    "Il validation set è cruciale: ci mostra quando il modello smette di migliorare realmente; in questo caso dopo circa 6–8 epoche.\n",
    "\n",
    "Early Stopping: una tecnica come l’early stopping avrebbe potuto fermare l’allenamento in quel punto, evitando epoche extra senza reale beneficio."
   ]
  },
  {
   "cell_type": "markdown",
   "id": "a008661f",
   "metadata": {},
   "source": [
    "“L’andamento di accuracy e loss mostra un apprendimento stabile: l’accuratezza di training cresce fino al 99% mentre quella di validazione si stabilizza intorno al 97.5%, con un divario limitato che segnala un overfitting contenuto. La loss di validazione raggiunge rapidamente un plateau dopo poche epoche, indicando che un early stopping avrebbe potuto arrestare l’allenamento senza perdita di performance.”"
   ]
  },
  {
   "cell_type": "code",
   "execution_count": 22,
   "id": "3abae8df",
   "metadata": {},
   "outputs": [
    {
     "data": {
      "image/png": "[encoded data removed]",
      "text/plain": [
       "<Figure size 640x480 with 1 Axes>"
      ]
     },
     "metadata": {},
     "output_type": "display_data"
    },
    {
     "data": {
      "image/png": "[encoded data removed]",
      "text/plain": [
       "<Figure size 640x480 with 1 Axes>"
      ]
     },
     "metadata": {},
     "output_type": "display_data"
    }
   ],
   "source": [
    "import matplotlib.pyplot as plt\n",
    "from sklearn.metrics import roc_curve, average_precision_score\n",
    "\n",
    "# ROC\n",
    "fpr, tpr, _ = roc_curve(y_test, probs)\n",
    "plt.plot(fpr, tpr, label=f\"ROC (AUC={roc_auc_score(y_test, probs):.3f})\")\n",
    "plt.plot([0,1],[0,1],\"--\")\n",
    "plt.xlabel(\"FPR\")\n",
    "plt.ylabel(\"TPR\")\n",
    "plt.title(\"ROC curve\")\n",
    "plt.legend()\n",
    "plt.show()\n",
    "\n",
    "# PR\n",
    "ap = average_precision_score(y_test, probs)\n",
    "pr_prec, pr_rec, _ = precision_recall_curve(y_test, probs)\n",
    "plt.plot(pr_rec, pr_prec, label=f\"PR (AP={ap:.3f})\")\n",
    "plt.xlabel(\"Recall\")\n",
    "plt.ylabel(\"Precision\")\n",
    "plt.title(\"Precision-Recall curve\")\n",
    "plt.legend()\n",
    "plt.show()\n"
   ]
  },
  {
   "cell_type": "markdown",
   "id": "f1e546c9",
   "metadata": {},
   "source": [
    "1. Curva ROC (Receiver Operating Characteristic)\n",
    "\n",
    "La curva blu rappresenta la capacità del modello di distinguere tra le classi (fake vs real) al variare della soglia di decisione.\n",
    "\n",
    "L’asse X è il False Positive Rate (FPR) e l’asse Y è il True Positive Rate (TPR).\n",
    "\n",
    "La curva sale immediatamente verso l’alto e rimane aderente al bordo sinistro e superiore del grafico: questo indica che il modello riesce ad avere TPR molto alto con FPR molto basso.\n",
    "\n",
    "L’AUC è 0.997, praticamente perfetto: significa che il modello distingue correttamente una notizia vera da una fake il 99.7% delle volte indipendentemente dalla soglia scelta.\n",
    "\n",
    "2. Curva Precision–Recall\n",
    "\n",
    "La Precision-Recall è particolarmente utile quando le classi sono sbilanciate, perché ci mostra come il modello bilancia la capacità di riconoscere correttamente i fake (recall) senza introdurre troppi falsi positivi (precision).\n",
    "\n",
    "Vediamo che la curva rimane vicina al valore massimo (precision ≈ 1, recall ≈ 1) per quasi tutto l’intervallo. Solo quando il recall si avvicina al 100% la precision cala leggermente, come è normale.\n",
    "\n",
    "L’Average Precision (AP) è 0.997, segno che il modello riesce quasi sempre a mantenere sia alta precision che recall contemporaneamente.\n",
    "\n",
    "3. Interpretazione didattica\n",
    "\n",
    "I due grafici insieme ci mostrano che il modello è estremamente efficace: sia in termini di separazione globale delle classi (ROC), sia in termini di compromesso precision–recall (PR).\n",
    "\n",
    "Risultati così alti possono significare due cose:\n",
    "\n",
    "Il modello è davvero molto buono perché le embedding contengono informazioni altamente discriminanti.\n",
    "\n",
    "Oppure il dataset è relativamente “facile” da separare o esiste un rischio di data leakage (informazioni nel train che aiutano troppo sul test).\n",
    "\n",
    "Come data scientist, davanti a risultati quasi perfetti bisogna sempre essere prudenti e verificare la qualità e l’indipendenza dei dati di validazione/test.\n",
    "\n",
    "4. Messaggio agli studenti\n",
    "\n",
    "La ROC curve ci dice: “il modello distingue benissimo le due classi in senso generale”.\n",
    "\n",
    "La Precision-Recall curve aggiunge: “e non lo fa barando: mantiene allo stesso tempo recall e precision quasi perfetti”.\n",
    "\n",
    "Insieme, questi grafici ci mostrano un modello altamente performante e ci ricordano l’importanza di usare metriche complementari per avere un quadro completo delle performance."
   ]
  },
  {
   "cell_type": "markdown",
   "id": "60f89175",
   "metadata": {},
   "source": [
    "Le curve ROC e Precision–Recall confermano l’elevata capacità discriminante del modello, con valori di AUC e AP pari a 0.997. La ROC mostra che il classificatore mantiene un alto tasso di veri positivi con pochi falsi positivi, mentre la PR evidenzia che precision e recall restano quasi perfetti lungo tutto l’intervallo. Questi risultati indicano un modello estremamente efficace, sebbene sia necessaria cautela per escludere fenomeni di data leakage o overfitting.”"
   ]
  },
  {
   "cell_type": "code",
   "execution_count": 25,
   "id": "92240a70",
   "metadata": {},
   "outputs": [
    {
     "name": "stdout",
     "output_type": "stream",
     "text": [
      "              precision    recall  f1-score   support\n",
      "\n",
      "           0      0.975     0.974     0.974      3213\n",
      "           1      0.975     0.976     0.976      3415\n",
      "\n",
      "    accuracy                          0.975      6628\n",
      "   macro avg      0.975     0.975     0.975      6628\n",
      "weighted avg      0.975     0.975     0.975      6628\n",
      "\n"
     ]
    }
   ],
   "source": [
    "print(classification_report(y_test, pred_best, digits=3))"
   ]
  },
  {
   "cell_type": "code",
   "execution_count": 27,
   "id": "e5b1e8b9",
   "metadata": {},
   "outputs": [],
   "source": [
    "from sklearn.metrics import classification_report\n",
    "import pandas as pd\n",
    "\n",
    "# Supponiamo di avere y_true e y_pred (reti neurali, soglia 0.5 o best_thr)\n",
    "report = classification_report(y_test, pred_best, digits=3, output_dict=True)\n",
    "\n",
    "# Nel report troviamo già 'accuracy' come singolo valore,\n",
    "# e precision/recall/f1 sotto le chiavi 'weighted avg' o 'macro avg'\n",
    "acc  = report['accuracy']\n",
    "prec = report['macro avg']['precision']\n",
    "rec  = report['macro avg']['recall']\n",
    "f1   = report['macro avg']['f1-score']\n",
    "\n",
    "# Costruiamo il dizionario per la NN\n",
    "nn_metrics = {\n",
    "    \"model\": \"NeuralNetwork\",\n",
    "    \"accuracy\": acc,\n",
    "    \"precision\": prec,\n",
    "    \"recall\": rec,\n",
    "    \"f1\": f1\n",
    "}\n",
    "\n",
    "nn_df = pd.DataFrame([nn_metrics])\n",
    "\n"
   ]
  },
  {
   "cell_type": "code",
   "execution_count": 28,
   "id": "f88ac7ba",
   "metadata": {},
   "outputs": [
    {
     "data": {
      "application/vnd.microsoft.datawrangler.viewer.v0+json": {
       "columns": [
        {
         "name": "index",
         "rawType": "int64",
         "type": "integer"
        },
        {
         "name": "model",
         "rawType": "object",
         "type": "string"
        },
        {
         "name": "accuracy",
         "rawType": "float64",
         "type": "float"
        },
        {
         "name": "precision",
         "rawType": "float64",
         "type": "float"
        },
        {
         "name": "recall",
         "rawType": "float64",
         "type": "float"
        },
        {
         "name": "f1",
         "rawType": "float64",
         "type": "float"
        }
       ],
       "ref": "deeb654f-7efb-4e0b-8f40-c2f4d2785839",
       "rows": [
        [
         "0",
         "NeuralNetwork",
         "0.9751056125528063",
         "0.9750952899164949",
         "0.9750686609441239",
         "0.9750817751012291"
        ]
       ],
       "shape": {
        "columns": 5,
        "rows": 1
       }
      },
      "text/html": [
       "<div>\n",
       "<style scoped>\n",
       "    .dataframe tbody tr th:only-of-type {\n",
       "        vertical-align: middle;\n",
       "    }\n",
       "\n",
       "    .dataframe tbody tr th {\n",
       "        vertical-align: top;\n",
       "    }\n",
       "\n",
       "    .dataframe thead th {\n",
       "        text-align: right;\n",
       "    }\n",
       "</style>\n",
       "<table border=\"1\" class=\"dataframe\">\n",
       "  <thead>\n",
       "    <tr style=\"text-align: right;\">\n",
       "      <th></th>\n",
       "      <th>model</th>\n",
       "      <th>accuracy</th>\n",
       "      <th>precision</th>\n",
       "      <th>recall</th>\n",
       "      <th>f1</th>\n",
       "    </tr>\n",
       "  </thead>\n",
       "  <tbody>\n",
       "    <tr>\n",
       "      <th>0</th>\n",
       "      <td>NeuralNetwork</td>\n",
       "      <td>0.975106</td>\n",
       "      <td>0.975095</td>\n",
       "      <td>0.975069</td>\n",
       "      <td>0.975082</td>\n",
       "    </tr>\n",
       "  </tbody>\n",
       "</table>\n",
       "</div>"
      ],
      "text/plain": [
       "           model  accuracy  precision    recall        f1\n",
       "0  NeuralNetwork  0.975106   0.975095  0.975069  0.975082"
      ]
     },
     "execution_count": 28,
     "metadata": {},
     "output_type": "execute_result"
    }
   ],
   "source": [
    "nn_df"
   ]
  },
  {
   "cell_type": "code",
   "execution_count": 29,
   "id": "d1967278",
   "metadata": {},
   "outputs": [],
   "source": [
    "dataNONN = {\n",
    "    \"model\": [\"LogReg\", \"LinearSVM\", \"RandomForest\", \"GaussianNB\", \"DecisionTree\", \"KNN\"],\n",
    "    \"accuracy\": [0.957112, 0.957791, 0.961412, 0.900192, 0.916487, 0.938101],\n",
    "    \"precision\": [0.956984, 0.957691, 0.961391, 0.900058, 0.917366, 0.938387],\n",
    "    \"recall\": [0.957277, 0.957845, 0.961359, 0.900189, 0.915839, 0.938720],\n",
    "    \"f1\": [0.957087, 0.957759, 0.961375, 0.900116, 0.916285, 0.938097],\n",
    "}\n",
    "\n",
    "dfNONN = pd.DataFrame(dataNONN)"
   ]
  },
  {
   "cell_type": "code",
   "execution_count": 36,
   "id": "5797de15",
   "metadata": {},
   "outputs": [
    {
     "data": {
      "application/vnd.microsoft.datawrangler.viewer.v0+json": {
       "columns": [
        {
         "name": "index",
         "rawType": "int64",
         "type": "integer"
        },
        {
         "name": "model",
         "rawType": "object",
         "type": "string"
        },
        {
         "name": "accuracy",
         "rawType": "float64",
         "type": "float"
        },
        {
         "name": "precision",
         "rawType": "float64",
         "type": "float"
        },
        {
         "name": "recall",
         "rawType": "float64",
         "type": "float"
        },
        {
         "name": "f1",
         "rawType": "float64",
         "type": "float"
        }
       ],
       "ref": "41a37db4-5d7a-4409-8973-2ab06bec862c",
       "rows": [
        [
         "0",
         "LogReg",
         "0.957112",
         "0.956984",
         "0.957277",
         "0.957087"
        ],
        [
         "1",
         "LinearSVM",
         "0.957791",
         "0.957691",
         "0.957845",
         "0.957759"
        ],
        [
         "2",
         "RandomForest",
         "0.961412",
         "0.961391",
         "0.961359",
         "0.961375"
        ],
        [
         "3",
         "GaussianNB",
         "0.900192",
         "0.900058",
         "0.900189",
         "0.900116"
        ],
        [
         "4",
         "DecisionTree",
         "0.916487",
         "0.917366",
         "0.915839",
         "0.916285"
        ],
        [
         "5",
         "KNN",
         "0.938101",
         "0.938387",
         "0.93872",
         "0.938097"
        ],
        [
         "6",
         "NeuralNetwork",
         "0.9751056125528063",
         "0.9750952899164949",
         "0.9750686609441239",
         "0.9750817751012291"
        ]
       ],
       "shape": {
        "columns": 5,
        "rows": 7
       }
      },
      "text/html": [
       "<div>\n",
       "<style scoped>\n",
       "    .dataframe tbody tr th:only-of-type {\n",
       "        vertical-align: middle;\n",
       "    }\n",
       "\n",
       "    .dataframe tbody tr th {\n",
       "        vertical-align: top;\n",
       "    }\n",
       "\n",
       "    .dataframe thead th {\n",
       "        text-align: right;\n",
       "    }\n",
       "</style>\n",
       "<table border=\"1\" class=\"dataframe\">\n",
       "  <thead>\n",
       "    <tr style=\"text-align: right;\">\n",
       "      <th></th>\n",
       "      <th>model</th>\n",
       "      <th>accuracy</th>\n",
       "      <th>precision</th>\n",
       "      <th>recall</th>\n",
       "      <th>f1</th>\n",
       "    </tr>\n",
       "  </thead>\n",
       "  <tbody>\n",
       "    <tr>\n",
       "      <th>0</th>\n",
       "      <td>LogReg</td>\n",
       "      <td>0.957</td>\n",
       "      <td>0.957</td>\n",
       "      <td>0.957</td>\n",
       "      <td>0.957</td>\n",
       "    </tr>\n",
       "    <tr>\n",
       "      <th>1</th>\n",
       "      <td>LinearSVM</td>\n",
       "      <td>0.958</td>\n",
       "      <td>0.958</td>\n",
       "      <td>0.958</td>\n",
       "      <td>0.958</td>\n",
       "    </tr>\n",
       "    <tr>\n",
       "      <th>2</th>\n",
       "      <td>RandomForest</td>\n",
       "      <td>0.961</td>\n",
       "      <td>0.961</td>\n",
       "      <td>0.961</td>\n",
       "      <td>0.961</td>\n",
       "    </tr>\n",
       "    <tr>\n",
       "      <th>3</th>\n",
       "      <td>GaussianNB</td>\n",
       "      <td>0.900</td>\n",
       "      <td>0.900</td>\n",
       "      <td>0.900</td>\n",
       "      <td>0.900</td>\n",
       "    </tr>\n",
       "    <tr>\n",
       "      <th>4</th>\n",
       "      <td>DecisionTree</td>\n",
       "      <td>0.916</td>\n",
       "      <td>0.917</td>\n",
       "      <td>0.916</td>\n",
       "      <td>0.916</td>\n",
       "    </tr>\n",
       "    <tr>\n",
       "      <th>5</th>\n",
       "      <td>KNN</td>\n",
       "      <td>0.938</td>\n",
       "      <td>0.938</td>\n",
       "      <td>0.939</td>\n",
       "      <td>0.938</td>\n",
       "    </tr>\n",
       "    <tr>\n",
       "      <th>6</th>\n",
       "      <td>NeuralNetwork</td>\n",
       "      <td>0.975</td>\n",
       "      <td>0.975</td>\n",
       "      <td>0.975</td>\n",
       "      <td>0.975</td>\n",
       "    </tr>\n",
       "  </tbody>\n",
       "</table>\n",
       "</div>"
      ],
      "text/plain": [
       "           model  accuracy  precision  recall    f1\n",
       "0         LogReg     0.957      0.957   0.957 0.957\n",
       "1      LinearSVM     0.958      0.958   0.958 0.958\n",
       "2   RandomForest     0.961      0.961   0.961 0.961\n",
       "3     GaussianNB     0.900      0.900   0.900 0.900\n",
       "4   DecisionTree     0.916      0.917   0.916 0.916\n",
       "5            KNN     0.938      0.938   0.939 0.938\n",
       "6  NeuralNetwork     0.975      0.975   0.975 0.975"
      ]
     },
     "execution_count": 36,
     "metadata": {},
     "output_type": "execute_result"
    }
   ],
   "source": [
    "results_df = pd.concat([dfNONN, nn_df], ignore_index=True)\n",
    "results_df.style.format({\n",
    "    \"accuracy\": \"{:.4f}\",\n",
    "    \"precision\": \"{:.4f}\",\n",
    "    \"recall\": \"{:.4f}\",\n",
    "    \"f1\": \"{:.4f}\"\n",
    "})\n",
    "\n",
    "results_df\n"
   ]
  },
  {
   "cell_type": "code",
   "execution_count": 37,
   "id": "8d967662",
   "metadata": {},
   "outputs": [],
   "source": [
    "results_df_rounded = results_df.round(4)\n"
   ]
  },
  {
   "cell_type": "code",
   "execution_count": 38,
   "id": "37d9ec72",
   "metadata": {},
   "outputs": [
    {
     "data": {
      "application/vnd.microsoft.datawrangler.viewer.v0+json": {
       "columns": [
        {
         "name": "index",
         "rawType": "int64",
         "type": "integer"
        },
        {
         "name": "model",
         "rawType": "object",
         "type": "string"
        },
        {
         "name": "accuracy",
         "rawType": "float64",
         "type": "float"
        },
        {
         "name": "precision",
         "rawType": "float64",
         "type": "float"
        },
        {
         "name": "recall",
         "rawType": "float64",
         "type": "float"
        },
        {
         "name": "f1",
         "rawType": "float64",
         "type": "float"
        }
       ],
       "ref": "cb6f8ceb-7e57-4f15-ac6b-22f73b0b3d86",
       "rows": [
        [
         "0",
         "LogReg",
         "0.9571",
         "0.957",
         "0.9573",
         "0.9571"
        ],
        [
         "1",
         "LinearSVM",
         "0.9578",
         "0.9577",
         "0.9578",
         "0.9578"
        ],
        [
         "2",
         "RandomForest",
         "0.9614",
         "0.9614",
         "0.9614",
         "0.9614"
        ],
        [
         "3",
         "GaussianNB",
         "0.9002",
         "0.9001",
         "0.9002",
         "0.9001"
        ],
        [
         "4",
         "DecisionTree",
         "0.9165",
         "0.9174",
         "0.9158",
         "0.9163"
        ],
        [
         "5",
         "KNN",
         "0.9381",
         "0.9384",
         "0.9387",
         "0.9381"
        ],
        [
         "6",
         "NeuralNetwork",
         "0.9751",
         "0.9751",
         "0.9751",
         "0.9751"
        ]
       ],
       "shape": {
        "columns": 5,
        "rows": 7
       }
      },
      "text/html": [
       "<div>\n",
       "<style scoped>\n",
       "    .dataframe tbody tr th:only-of-type {\n",
       "        vertical-align: middle;\n",
       "    }\n",
       "\n",
       "    .dataframe tbody tr th {\n",
       "        vertical-align: top;\n",
       "    }\n",
       "\n",
       "    .dataframe thead th {\n",
       "        text-align: right;\n",
       "    }\n",
       "</style>\n",
       "<table border=\"1\" class=\"dataframe\">\n",
       "  <thead>\n",
       "    <tr style=\"text-align: right;\">\n",
       "      <th></th>\n",
       "      <th>model</th>\n",
       "      <th>accuracy</th>\n",
       "      <th>precision</th>\n",
       "      <th>recall</th>\n",
       "      <th>f1</th>\n",
       "    </tr>\n",
       "  </thead>\n",
       "  <tbody>\n",
       "    <tr>\n",
       "      <th>0</th>\n",
       "      <td>LogReg</td>\n",
       "      <td>0.957</td>\n",
       "      <td>0.957</td>\n",
       "      <td>0.957</td>\n",
       "      <td>0.957</td>\n",
       "    </tr>\n",
       "    <tr>\n",
       "      <th>1</th>\n",
       "      <td>LinearSVM</td>\n",
       "      <td>0.958</td>\n",
       "      <td>0.958</td>\n",
       "      <td>0.958</td>\n",
       "      <td>0.958</td>\n",
       "    </tr>\n",
       "    <tr>\n",
       "      <th>2</th>\n",
       "      <td>RandomForest</td>\n",
       "      <td>0.961</td>\n",
       "      <td>0.961</td>\n",
       "      <td>0.961</td>\n",
       "      <td>0.961</td>\n",
       "    </tr>\n",
       "    <tr>\n",
       "      <th>3</th>\n",
       "      <td>GaussianNB</td>\n",
       "      <td>0.900</td>\n",
       "      <td>0.900</td>\n",
       "      <td>0.900</td>\n",
       "      <td>0.900</td>\n",
       "    </tr>\n",
       "    <tr>\n",
       "      <th>4</th>\n",
       "      <td>DecisionTree</td>\n",
       "      <td>0.916</td>\n",
       "      <td>0.917</td>\n",
       "      <td>0.916</td>\n",
       "      <td>0.916</td>\n",
       "    </tr>\n",
       "    <tr>\n",
       "      <th>5</th>\n",
       "      <td>KNN</td>\n",
       "      <td>0.938</td>\n",
       "      <td>0.938</td>\n",
       "      <td>0.939</td>\n",
       "      <td>0.938</td>\n",
       "    </tr>\n",
       "    <tr>\n",
       "      <th>6</th>\n",
       "      <td>NeuralNetwork</td>\n",
       "      <td>0.975</td>\n",
       "      <td>0.975</td>\n",
       "      <td>0.975</td>\n",
       "      <td>0.975</td>\n",
       "    </tr>\n",
       "  </tbody>\n",
       "</table>\n",
       "</div>"
      ],
      "text/plain": [
       "           model  accuracy  precision  recall    f1\n",
       "0         LogReg     0.957      0.957   0.957 0.957\n",
       "1      LinearSVM     0.958      0.958   0.958 0.958\n",
       "2   RandomForest     0.961      0.961   0.961 0.961\n",
       "3     GaussianNB     0.900      0.900   0.900 0.900\n",
       "4   DecisionTree     0.916      0.917   0.916 0.916\n",
       "5            KNN     0.938      0.938   0.939 0.938\n",
       "6  NeuralNetwork     0.975      0.975   0.975 0.975"
      ]
     },
     "execution_count": 38,
     "metadata": {},
     "output_type": "execute_result"
    }
   ],
   "source": [
    "results_df_rounded"
   ]
  },
  {
   "cell_type": "code",
   "execution_count": 40,
   "id": "2fa1504e",
   "metadata": {},
   "outputs": [],
   "source": [
    "results_df_rounded.to_csv(r\"C:\\Users\\DAVIDEPEDRETTI\\Desktop\\NLP_news\\Word2Vect_Metrics.csv\")"
   ]
  }
 ],
 "metadata": {
  "kernelspec": {
   "display_name": "AMBIENTE1",
   "language": "python",
   "name": "python3"
  },
  "language_info": {
   "codemirror_mode": {
    "name": "ipython",
    "version": 3
   },
   "file_extension": ".py",
   "mimetype": "text/x-python",
   "name": "python",
   "nbconvert_exporter": "python",
   "pygments_lexer": "ipython3",
   "version": "3.11.9"
  }
 },
 "nbformat": 4,
 "nbformat_minor": 5
}
