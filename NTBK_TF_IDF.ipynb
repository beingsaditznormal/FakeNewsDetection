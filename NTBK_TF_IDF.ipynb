{
 "cells": [
  {
   "cell_type": "code",
   "execution_count": 1,
   "id": "3a32ea64",
   "metadata": {},
   "outputs": [
    {
     "name": "stdout",
     "output_type": "stream",
     "text": [
      "(44898, 6)\n"
     ]
    },
    {
     "data": {
      "application/vnd.microsoft.datawrangler.viewer.v0+json": {
       "columns": [
        {
         "name": "index",
         "rawType": "int64",
         "type": "integer"
        },
        {
         "name": "title",
         "rawType": "object",
         "type": "string"
        },
        {
         "name": "text",
         "rawType": "object",
         "type": "string"
        },
        {
         "name": "state",
         "rawType": "object",
         "type": "string"
        },
        {
         "name": "clean",
         "rawType": "object",
         "type": "string"
        },
        {
         "name": "tokens",
         "rawType": "object",
         "type": "unknown"
        },
        {
         "name": "lemmas",
         "rawType": "object",
         "type": "unknown"
        }
       ],
       "ref": "3e89ea42-cd27-46c9-b673-46aa7774e466",
       "rows": [
        [
         "0",
         " Donald Trump Sends Out Embarrassing New Year’s Eve Message; This is Disturbing",
         "Donald Trump just couldn t wish all Americans a Happy New Year and leave it at that. Instead, he had to give a shout out to his enemies, haters and  the very dishonest fake news media.  The former reality show star had just one job to do and he couldn t do it. As our Country rapidly grows stronger and smarter, I want to wish all of my friends, supporters, enemies, haters, and even the very dishonest Fake News Media, a Happy and Healthy New Year,  President Angry Pants tweeted.  2018 will be a great year for America! As our Country rapidly grows stronger and smarter, I want to wish all of my friends, supporters, enemies, haters, and even the very dishonest Fake News Media, a Happy and Healthy New Year. 2018 will be a great year for America!  Donald J. Trump (@realDonaldTrump) December 31, 2017Trump s tweet went down about as welll as you d expect.What kind of president sends a New Year s greeting like this despicable, petty, infantile gibberish? Only Trump! His lack of decency won t even allow him to rise above the gutter long enough to wish the American citizens a happy new year!  Bishop Talbert Swan (@TalbertSwan) December 31, 2017no one likes you  Calvin (@calvinstowell) December 31, 2017Your impeachment would make 2018 a great year for America, but I ll also accept regaining control of Congress.  Miranda Yaver (@mirandayaver) December 31, 2017Do you hear yourself talk? When you have to include that many people that hate you you have to wonder? Why do the they all hate me?  Alan Sandoval (@AlanSandoval13) December 31, 2017Who uses the word Haters in a New Years wish??  Marlene (@marlene399) December 31, 2017You can t just say happy new year?  Koren pollitt (@Korencarpenter) December 31, 2017Here s Trump s New Year s Eve tweet from 2016.Happy New Year to all, including to my many enemies and those who have fought me and lost so badly they just don t know what to do. Love!  Donald J. Trump (@realDonaldTrump) December 31, 2016This is nothing new for Trump. He s been doing this for years.Trump has directed messages to his  enemies  and  haters  for New Year s, Easter, Thanksgiving, and the anniversary of 9/11. pic.twitter.com/4FPAe2KypA  Daniel Dale (@ddale8) December 31, 2017Trump s holiday tweets are clearly not presidential.How long did he work at Hallmark before becoming President?  Steven Goodine (@SGoodine) December 31, 2017He s always been like this . . . the only difference is that in the last few years, his filter has been breaking down.  Roy Schulze (@thbthttt) December 31, 2017Who, apart from a teenager uses the term haters?  Wendy (@WendyWhistles) December 31, 2017he s a fucking 5 year old  Who Knows (@rainyday80) December 31, 2017So, to all the people who voted for this a hole thinking he would change once he got into power, you were wrong! 70-year-old men don t change and now he s a year older.Photo by Andrew Burton/Getty Images.",
         "1",
         "donald trump just couldn t wish all americans a happy new year and leave it at that. instead, he had to give a shout out to his enemies, haters and the very dishonest fake news media. the former reality show star had just one job to do and he couldn t do it. as our country rapidly grows stronger and smarter, i want to wish all of my friends, supporters, enemies, haters, and even the very dishonest fake news media, a happy and healthy new year, president angry pants tweeted. will be a great year for america! as our country rapidly grows stronger and smarter, i want to wish all of my friends, supporters, enemies, haters, and even the very dishonest fake news media, a happy and healthy new year. will be a great year for america! donald j. trump ( ) december , trump s tweet went down about as welll as you d expect.what kind of president sends a new year s greeting like this despicable, petty, infantile gibberish? only trump! his lack of decency won t even allow him to rise above the gutter long enough to wish the american citizens a happy new year! bishop talbert swan ( ) december , no one likes you calvin ( ) december , your impeachment would make a great year for america, but i ll also accept regaining control of congress. miranda yaver ( ) december , do you hear yourself talk? when you have to include that many people that hate you you have to wonder? why do the they all hate me? alan sandoval ( ) december , who uses the word haters in a new years wish?? marlene ( ) december , you can t just say happy new year? koren pollitt ( ) december , here s trump s new year s eve tweet from .happy new year to all, including to my many enemies and those who have fought me and lost so badly they just don t know what to do. love! donald j. trump ( ) december , this is nothing new for trump. he s been doing this for years.trump has directed messages to his enemies and haters for new year s, easter, thanksgiving, and the anniversary of / . pic.twitter.com/ fpae kypa daniel dale ( ) december , trump s holiday tweets are clearly not presidential.how long did he work at hallmark before becoming president? steven goodine ( ) december , he s always been like this . . . the only difference is that in the last few years, his filter has been breaking down. roy schulze ( ) december , who, apart from a teenager uses the term haters? wendy ( ) december , he s a fucking year old who knows ( ) december , so, to all the people who voted for this a hole thinking he would change once he got into power, you were wrong! -year-old men don t change and now he s a year older.photo by andrew burton/getty images.",
         "['donald', 'trump', 'wish', 'americans', 'happy', 'new', 'year', 'leave', 'instead', 'give', 'shout', 'enemies', 'haters', 'dishonest', 'fake', 'news', 'media', 'former', 'reality', 'show', 'star', 'one', 'job', 'country', 'rapidly', 'grows', 'stronger', 'smarter', 'want', 'wish', 'friends', 'supporters', 'enemies', 'haters', 'even', 'dishonest', 'fake', 'news', 'media', 'happy', 'healthy', 'new', 'year', 'president', 'angry', 'pants', 'tweeted', 'great', 'year', 'america', 'country', 'rapidly', 'grows', 'stronger', 'smarter', 'want', 'wish', 'friends', 'supporters', 'enemies', 'haters', 'even', 'dishonest', 'fake', 'news', 'media', 'happy', 'healthy', 'new', 'year', 'great', 'year', 'america', 'donald', 'trump', 'december', 'trump', 'tweet', 'went', 'welll', 'expect', 'kind', 'president', 'sends', 'new', 'year', 'greeting', 'like', 'despicable', 'petty', 'infantile', 'gibberish', 'trump', 'lack', 'decency', 'even', 'allow', 'rise', 'gutter', 'long', 'enough', 'wish', 'american', 'citizens', 'happy', 'new', 'year', 'bishop', 'talbert', 'swan', 'december', 'one', 'likes', 'calvin', 'december', 'impeachment', 'would', 'make', 'great', 'year', 'america', 'also', 'accept', 'regaining', 'control', 'congress', 'miranda', 'yaver', 'december', 'hear', 'talk', 'include', 'many', 'people', 'hate', 'wonder', 'hate', 'alan', 'sandoval', 'december', 'uses', 'word', 'haters', 'new', 'years', 'wish', 'marlene', 'december', 'say', 'happy', 'new', 'year', 'koren', 'pollitt', 'december', 'trump', 'new', 'year', 'eve', 'tweet', 'happy', 'new', 'year', 'including', 'many', 'enemies', 'fought', 'lost', 'badly', 'know', 'love', 'donald', 'trump', 'december', 'nothing', 'new', 'trump', 'years', 'trump', 'directed', 'messages', 'enemies', 'haters', 'new', 'year', 'easter', 'thanksgiving', 'anniversary', 'pic', 'twitter', 'com', 'fpae', 'kypa', 'daniel', 'dale', 'december', 'trump', 'holiday', 'tweets', 'clearly', 'not', 'presidential', 'long', 'work', 'hallmark', 'becoming', 'president', 'steven', 'goodine', 'december', 'always', 'like', 'difference', 'last', 'years', 'filter', 'breaking', 'roy', 'schulze', 'december', 'apart', 'teenager', 'uses', 'term', 'haters', 'wendy', 'december', 'fucking', 'year', 'old', 'knows', 'december', 'people', 'voted', 'hole', 'thinking', 'would', 'change', 'got', 'power', 'wrong', 'year', 'old', 'men', 'change', 'year', 'older', 'photo', 'andrew', 'burton', 'getty', 'images']",
         "['donald', 'trump', 'wish', 'american', 'happy', 'new', 'year', 'leave', 'instead', 'give', 'shout', 'enemy', 'hater', 'dishonest', 'fake', 'news', 'medium', 'former', 'reality', 'show', 'star', 'one', 'job', 'country', 'rapidly', 'grow', 'strong', 'smarter', 'want', 'wish', 'friend', 'supporter', 'enemies', 'hater', 'even', 'dishonest', 'fake', 'news', 'medium', 'happy', 'healthy', 'new', 'year', 'president', 'angry', 'pant', 'tweet', 'great', 'year', 'america', 'country', 'rapidly', 'grow', 'strong', 'smarter', 'want', 'wish', 'friend', 'supporter', 'enemies', 'hater', 'even', 'dishonest', 'fake', 'news', 'medium', 'happy', 'healthy', 'new', 'year', 'great', 'year', 'america', 'donald', 'trump', 'december', 'trump', 'tweet', 'go', 'welll', 'expect', 'kind', 'president', 'send', 'new', 'year', 'greet', 'like', 'despicable', 'petty', 'infantile', 'gibberish', 'trump', 'lack', 'decency', 'even', 'allow', 'rise', 'gutter', 'long', 'enough', 'wish', 'american', 'citizen', 'happy', 'new', 'year', 'bishop', 'talbert', 'swan', 'december', 'one', 'like', 'calvin', 'december', 'impeachment', 'would', 'make', 'great', 'year', 'america', 'also', 'accept', 'regain', 'control', 'congress', 'miranda', 'yaver', 'december', 'hear', 'talk', 'include', 'many', 'people', 'hate', 'wonder', 'hate', 'alan', 'sandoval', 'december', 'use', 'word', 'hater', 'new', 'year', 'wish', 'marlene', 'december', 'say', 'happy', 'new', 'year', 'koren', 'pollitt', 'december', 'trump', 'new', 'year', 'eve', 'tweet', 'happy', 'new', 'year', 'include', 'many', 'enemy', 'fight', 'lose', 'badly', 'know', 'love', 'donald', 'trump', 'december', 'nothing', 'new', 'trump', 'year', 'trump', 'direct', 'message', 'enemy', 'hater', 'new', 'year', 'easter', 'thanksgiving', 'anniversary', 'pic', 'twitter', 'com', 'fpae', 'kypa', 'daniel', 'dale', 'december', 'trump', 'holiday', 'tweet', 'clearly', 'not', 'presidential', 'long', 'work', 'hallmark', 'become', 'president', 'steven', 'goodine', 'december', 'always', 'like', 'difference', 'last', 'year', 'filter', 'break', 'roy', 'schulze', 'december', 'apart', 'teenager', 'uses', 'term', 'hater', 'wendy', 'december', 'fucking', 'year', 'old', 'know', 'december', 'people', 'vote', 'hole', 'thinking', 'would', 'change', 'get', 'power', 'wrong', 'year', 'old', 'men', 'change', 'year', 'older', 'photo', 'andrew', 'burton', 'getty', 'image']"
        ],
        [
         "1",
         " Drunk Bragging Trump Staffer Started Russian Collusion Investigation",
         "House Intelligence Committee Chairman Devin Nunes is going to have a bad day. He s been under the assumption, like many of us, that the Christopher Steele-dossier was what prompted the Russia investigation so he s been lashing out at the Department of Justice and the FBI in order to protect Trump. As it happens, the dossier is not what started the investigation, according to documents obtained by the New York Times.Former Trump campaign adviser George Papadopoulos was drunk in a wine bar when he revealed knowledge of Russian opposition research on Hillary Clinton.On top of that, Papadopoulos wasn t just a covfefe boy for Trump, as his administration has alleged. He had a much larger role, but none so damning as being a drunken fool in a wine bar. Coffee boys  don t help to arrange a New York meeting between Trump and President Abdel Fattah el-Sisi of Egypt two months before the election. It was known before that the former aide set up meetings with world leaders for Trump, but team Trump ran with him being merely a coffee boy.In May 2016, Papadopoulos revealed to Australian diplomat Alexander Downer that Russian officials were shopping around possible dirt on then-Democratic presidential nominee Hillary Clinton. Exactly how much Mr. Papadopoulos said that night at the Kensington Wine Rooms with the Australian, Alexander Downer, is unclear,  the report states.  But two months later, when leaked Democratic emails began appearing online, Australian officials passed the information about Mr. Papadopoulos to their American counterparts, according to four current and former American and foreign officials with direct knowledge of the Australians  role. Papadopoulos pleaded guilty to lying to the F.B.I. and is now a cooperating witness with Special Counsel Robert Mueller s team.This isn t a presidency. It s a badly scripted reality TV show.Photo by Win McNamee/Getty Images.",
         "1",
         "house intelligence committee chairman devin nunes is going to have a bad day. he s been under the assumption, like many of us, that the christopher steele-dossier was what prompted the russia investigation so he s been lashing out at the department of justice and the fbi in order to protect trump. as it happens, the dossier is not what started the investigation, according to documents obtained by the new york times.former trump campaign adviser george papadopoulos was drunk in a wine bar when he revealed knowledge of russian opposition research on hillary clinton.on top of that, papadopoulos wasn t just a covfefe boy for trump, as his administration has alleged. he had a much larger role, but none so damning as being a drunken fool in a wine bar. coffee boys don t help to arrange a new york meeting between trump and president abdel fattah el-sisi of egypt two months before the election. it was known before that the former aide set up meetings with world leaders for trump, but team trump ran with him being merely a coffee boy.in may , papadopoulos revealed to australian diplomat alexander downer that russian officials were shopping around possible dirt on then-democratic presidential nominee hillary clinton. exactly how much mr. papadopoulos said that night at the kensington wine rooms with the australian, alexander downer, is unclear, the report states. but two months later, when leaked democratic emails began appearing online, australian officials passed the information about mr. papadopoulos to their american counterparts, according to four current and former american and foreign officials with direct knowledge of the australians role. papadopoulos pleaded guilty to lying to the f.b.i. and is now a cooperating witness with special counsel robert mueller s team.this isn t a presidency. it s a badly scripted reality tv show.photo by win mcnamee/getty images.",
         "['house', 'intelligence', 'committee', 'chairman', 'devin', 'nunes', 'going', 'bad', 'day', 'assumption', 'like', 'many', 'christopher', 'steele', 'dossier', 'prompted', 'russia', 'investigation', 'lashing', 'department', 'justice', 'fbi', 'order', 'protect', 'trump', 'happens', 'dossier', 'not', 'started', 'investigation', 'according', 'documents', 'obtained', 'new', 'york', 'times', 'former', 'trump', 'campaign', 'adviser', 'george', 'papadopoulos', 'drunk', 'wine', 'bar', 'revealed', 'knowledge', 'russian', 'opposition', 'research', 'hillary', 'clinton', 'top', 'papadopoulos', 'covfefe', 'boy', 'trump', 'administration', 'alleged', 'much', 'larger', 'role', 'none', 'damning', 'drunken', 'fool', 'wine', 'bar', 'coffee', 'boys', 'help', 'arrange', 'new', 'york', 'meeting', 'trump', 'president', 'abdel', 'fattah', 'sisi', 'egypt', 'two', 'months', 'election', 'known', 'former', 'aide', 'set', 'meetings', 'world', 'leaders', 'trump', 'team', 'trump', 'ran', 'merely', 'coffee', 'boy', 'may', 'papadopoulos', 'revealed', 'australian', 'diplomat', 'alexander', 'downer', 'russian', 'officials', 'shopping', 'around', 'possible', 'dirt', 'democratic', 'presidential', 'nominee', 'hillary', 'clinton', 'exactly', 'much', 'papadopoulos', 'said', 'night', 'kensington', 'wine', 'rooms', 'australian', 'alexander', 'downer', 'unclear', 'report', 'states', 'two', 'months', 'later', 'leaked', 'democratic', 'emails', 'began', 'appearing', 'online', 'australian', 'officials', 'passed', 'information', 'papadopoulos', 'american', 'counterparts', 'according', 'four', 'current', 'former', 'american', 'foreign', 'officials', 'direct', 'knowledge', 'australians', 'role', 'papadopoulos', 'pleaded', 'guilty', 'lying', 'cooperating', 'witness', 'special', 'counsel', 'robert', 'mueller', 'team', 'presidency', 'badly', 'scripted', 'reality', 'show', 'photo', 'win', 'mcnamee', 'getty', 'images']",
         "['house', 'intelligence', 'committee', 'chairman', 'devin', 'nunes', 'go', 'bad', 'day', 'assumption', 'like', 'many', 'christopher', 'steele', 'dossier', 'prompt', 'russia', 'investigation', 'lash', 'department', 'justice', 'fbi', 'order', 'protect', 'trump', 'happens', 'dossier', 'not', 'start', 'investigation', 'accord', 'document', 'obtain', 'new', 'york', 'time', 'former', 'trump', 'campaign', 'adviser', 'george', 'papadopoulos', 'drunk', 'wine', 'bar', 'reveal', 'knowledge', 'russian', 'opposition', 'research', 'hillary', 'clinton', 'top', 'papadopoulos', 'covfefe', 'boy', 'trump', 'administration', 'allege', 'much', 'large', 'role', 'none', 'damn', 'drunken', 'fool', 'wine', 'bar', 'coffee', 'boys', 'help', 'arrange', 'new', 'york', 'meeting', 'trump', 'president', 'abdel', 'fattah', 'sisi', 'egypt', 'two', 'month', 'election', 'know', 'former', 'aide', 'set', 'meeting', 'world', 'leader', 'trump', 'team', 'trump', 'run', 'merely', 'coffee', 'boy', 'may', 'papadopoulos', 'revealed', 'australian', 'diplomat', 'alexander', 'downer', 'russian', 'official', 'shop', 'around', 'possible', 'dirt', 'democratic', 'presidential', 'nominee', 'hillary', 'clinton', 'exactly', 'much', 'papadopoulos', 'say', 'night', 'kensington', 'wine', 'room', 'australian', 'alexander', 'downer', 'unclear', 'report', 'state', 'two', 'month', 'later', 'leak', 'democratic', 'email', 'begin', 'appear', 'online', 'australian', 'official', 'pass', 'information', 'papadopoulos', 'american', 'counterpart', 'accord', 'four', 'current', 'former', 'american', 'foreign', 'official', 'direct', 'knowledge', 'australian', 'role', 'papadopoulos', 'plead', 'guilty', 'lie', 'cooperate', 'witness', 'special', 'counsel', 'robert', 'mueller', 'team', 'presidency', 'badly', 'script', 'reality', 'show', 'photo', 'win', 'mcnamee', 'getty', 'image']"
        ]
       ],
       "shape": {
        "columns": 6,
        "rows": 2
       }
      },
      "text/html": [
       "<div>\n",
       "<style scoped>\n",
       "    .dataframe tbody tr th:only-of-type {\n",
       "        vertical-align: middle;\n",
       "    }\n",
       "\n",
       "    .dataframe tbody tr th {\n",
       "        vertical-align: top;\n",
       "    }\n",
       "\n",
       "    .dataframe thead th {\n",
       "        text-align: right;\n",
       "    }\n",
       "</style>\n",
       "<table border=\"1\" class=\"dataframe\">\n",
       "  <thead>\n",
       "    <tr style=\"text-align: right;\">\n",
       "      <th></th>\n",
       "      <th>title</th>\n",
       "      <th>text</th>\n",
       "      <th>state</th>\n",
       "      <th>clean</th>\n",
       "      <th>tokens</th>\n",
       "      <th>lemmas</th>\n",
       "    </tr>\n",
       "  </thead>\n",
       "  <tbody>\n",
       "    <tr>\n",
       "      <th>0</th>\n",
       "      <td>Donald Trump Sends Out Embarrassing New Year’...</td>\n",
       "      <td>Donald Trump just couldn t wish all Americans ...</td>\n",
       "      <td>1</td>\n",
       "      <td>donald trump just couldn t wish all americans ...</td>\n",
       "      <td>[donald, trump, wish, americans, happy, new, y...</td>\n",
       "      <td>[donald, trump, wish, american, happy, new, ye...</td>\n",
       "    </tr>\n",
       "    <tr>\n",
       "      <th>1</th>\n",
       "      <td>Drunk Bragging Trump Staffer Started Russian ...</td>\n",
       "      <td>House Intelligence Committee Chairman Devin Nu...</td>\n",
       "      <td>1</td>\n",
       "      <td>house intelligence committee chairman devin nu...</td>\n",
       "      <td>[house, intelligence, committee, chairman, dev...</td>\n",
       "      <td>[house, intelligence, committee, chairman, dev...</td>\n",
       "    </tr>\n",
       "  </tbody>\n",
       "</table>\n",
       "</div>"
      ],
      "text/plain": [
       "                                               title  \\\n",
       "0   Donald Trump Sends Out Embarrassing New Year’...   \n",
       "1   Drunk Bragging Trump Staffer Started Russian ...   \n",
       "\n",
       "                                                text state  \\\n",
       "0  Donald Trump just couldn t wish all Americans ...     1   \n",
       "1  House Intelligence Committee Chairman Devin Nu...     1   \n",
       "\n",
       "                                               clean  \\\n",
       "0  donald trump just couldn t wish all americans ...   \n",
       "1  house intelligence committee chairman devin nu...   \n",
       "\n",
       "                                              tokens  \\\n",
       "0  [donald, trump, wish, americans, happy, new, y...   \n",
       "1  [house, intelligence, committee, chairman, dev...   \n",
       "\n",
       "                                              lemmas  \n",
       "0  [donald, trump, wish, american, happy, new, ye...  \n",
       "1  [house, intelligence, committee, chairman, dev...  "
      ]
     },
     "execution_count": 1,
     "metadata": {},
     "output_type": "execute_result"
    }
   ],
   "source": [
    "from pymongo import MongoClient\n",
    "import pandas as pd\n",
    "\n",
    "MONGO_URI = \"mongodb://localhost:27017/\"\n",
    "DB_NAME   = \"News\"\n",
    "COLL_NAME = \"rawData\"     \n",
    "LABEL_COL = \"state\"      \n",
    "\n",
    "client = MongoClient(MONGO_URI)\n",
    "coll = client[DB_NAME][COLL_NAME]\n",
    "\n",
    "# Ignoro \"Unnamed: 0\" direttamente in projection\n",
    "FIELDS = {\n",
    "    \"_id\": 0, \"title\": 1, \"text\": 1, \"clean\": 1,\n",
    "    \"tokens\": 1, \"lemmas\": 1, LABEL_COL: 1\n",
    "}\n",
    "docs = list(coll.find({}, FIELDS))\n",
    "df = pd.DataFrame(docs)\n",
    "\n",
    "# Filtri minimi\n",
    "df = df.dropna(subset=[LABEL_COL]).copy()\n",
    "df[LABEL_COL] = df[LABEL_COL].astype(str)\n",
    "print(df.shape)\n",
    "df.head(2)"
   ]
  },
  {
   "cell_type": "code",
   "execution_count": 2,
   "id": "2b9c87be",
   "metadata": {},
   "outputs": [],
   "source": [
    "SEED = 42\n",
    "\n",
    "import pandas as pd\n",
    "import numpy as np\n",
    "import matplotlib.pyplot as plt\n",
    "\n",
    "from sklearn.model_selection import train_test_split, StratifiedKFold, cross_val_score, GridSearchCV\n",
    "from sklearn.feature_extraction.text import TfidfVectorizer\n",
    "from sklearn.metrics import (\n",
    "    accuracy_score, precision_recall_fscore_support, classification_report,\n",
    "    confusion_matrix, ConfusionMatrixDisplay\n",
    ")\n",
    "from sklearn.linear_model import LogisticRegression\n",
    "from sklearn.svm import LinearSVC\n",
    "from sklearn.ensemble import RandomForestClassifier\n",
    "from sklearn.naive_bayes import GaussianNB\n",
    "from sklearn.tree import DecisionTreeClassifier\n",
    "from sklearn.neighbors import KNeighborsClassifier\n",
    "#import joblib\n",
    "\n",
    "plt.rcParams[\"figure.dpi\"] = 110\n"
   ]
  },
  {
   "cell_type": "code",
   "execution_count": 3,
   "id": "93ec1471",
   "metadata": {},
   "outputs": [],
   "source": [
    "# Assicura che la colonna state sia intera (0/1)\n",
    "df[\"state\"] = df[\"state\"].astype(int)\n",
    "\n",
    "X = df[\"clean\"].astype(str)\n",
    "y = df[\"state\"] "
   ]
  },
  {
   "cell_type": "code",
   "execution_count": 4,
   "id": "2c73bb67",
   "metadata": {},
   "outputs": [
    {
     "name": "stdout",
     "output_type": "stream",
     "text": [
      "Train: (35918,) Test: (8980,)\n",
      "Distribuzione y_train (%):\n",
      " state\n",
      "1    52.3\n",
      "0    47.7\n",
      "Name: proportion, dtype: float64\n",
      "y_train unique values: [np.int64(0), np.int64(1)]\n",
      "y_test  unique values: [np.int64(0), np.int64(1)]\n"
     ]
    }
   ],
   "source": [
    "X = df[\"clean\"]\n",
    "y = df[\"state\"]\n",
    "\n",
    "X_train, X_test, y_train, y_test = train_test_split(\n",
    "    X, y, test_size=0.2, random_state=SEED, stratify=y\n",
    ")\n",
    "\n",
    "print(\"Train:\", X_train.shape, \"Test:\", X_test.shape)\n",
    "print(\"Distribuzione y_train (%):\\n\", (y_train.value_counts(normalize=True)*100).round(1))\n",
    "print(\"y_train unique values:\", sorted(pd.Series(y_train).unique()))\n",
    "print(\"y_test  unique values:\", sorted(pd.Series(y_test).unique()))"
   ]
  },
  {
   "cell_type": "code",
   "execution_count": 5,
   "id": "3ccc45d3",
   "metadata": {},
   "outputs": [
    {
     "data": {
      "text/plain": [
       "((35918, 100000), (8980, 100000))"
      ]
     },
     "execution_count": 5,
     "metadata": {},
     "output_type": "execute_result"
    }
   ],
   "source": [
    "from sklearn.feature_extraction.text import TfidfVectorizer\n",
    "import numpy as np\n",
    "\n",
    "tfidf = TfidfVectorizer(\n",
    "    ngram_range=(1,2),\n",
    "    max_df=0.9,\n",
    "    min_df=5,             # alza un po’ il filtro sui rari\n",
    "    max_features=100_000, # limita il vocabolario per contenere memoria/tempo\n",
    "    dtype=np.float32      # dimezza la memoria vs float64\n",
    ")\n",
    "\n",
    "X_train_tfidf = tfidf.fit_transform(X_train)\n",
    "X_test_tfidf  = tfidf.transform(X_test)\n",
    "\n",
    "X_train_tfidf.shape, X_test_tfidf.shape\n"
   ]
  },
  {
   "cell_type": "code",
   "execution_count": 6,
   "id": "70c17215",
   "metadata": {},
   "outputs": [
    {
     "data": {
      "text/plain": [
       "((35918, 300), (8980, 300))"
      ]
     },
     "execution_count": 6,
     "metadata": {},
     "output_type": "execute_result"
    }
   ],
   "source": [
    "from sklearn.decomposition import TruncatedSVD\n",
    "from sklearn.preprocessing import StandardScaler\n",
    "\n",
    "SVD_COMPONENTS = 300  # puoi provare 200/300/500\n",
    "\n",
    "svd = TruncatedSVD(n_components=SVD_COMPONENTS, random_state=SEED)\n",
    "X_train_svd = svd.fit_transform(X_train_tfidf)  # denso ma compatto\n",
    "X_test_svd  = svd.transform(X_test_tfidf)\n",
    "\n",
    "# (opzionale ma utile per KNN/GaussianNB/Tree)\n",
    "scaler = StandardScaler()\n",
    "X_train_dense = scaler.fit_transform(X_train_svd)\n",
    "X_test_dense  = scaler.transform(X_test_svd)\n",
    "\n",
    "X_train_dense.shape, X_test_dense.shape\n"
   ]
  },
  {
   "cell_type": "code",
   "execution_count": 7,
   "id": "b529a140",
   "metadata": {},
   "outputs": [],
   "source": [
    "from sklearn.linear_model import LogisticRegression\n",
    "from sklearn.svm import LinearSVC\n",
    "from sklearn.ensemble import RandomForestClassifier\n",
    "from sklearn.naive_bayes import GaussianNB\n",
    "from sklearn.tree import DecisionTreeClassifier\n",
    "from sklearn.neighbors import KNeighborsClassifier\n",
    "\n",
    "models = {\n",
    "    \"LogReg\": LogisticRegression(max_iter=2000, random_state=SEED, class_weight=\"balanced\"),\n",
    "    \"LinearSVM\": LinearSVC(random_state=SEED, class_weight=\"balanced\"),\n",
    "    \"RandomForest\": RandomForestClassifier(n_estimators=300, random_state=SEED),\n",
    "    \"GaussianNB\": GaussianNB(),\n",
    "    \"DecisionTree\": DecisionTreeClassifier(random_state=SEED),\n",
    "    \"KNN\": KNeighborsClassifier(n_neighbors=5)\n",
    "}\n",
    "\n",
    "SPARSE_OK = {\"LogReg\", \"LinearSVM\"}   # questi vanno bene sul TF-IDF sparso\n"
   ]
  },
  {
   "cell_type": "code",
   "execution_count": 8,
   "id": "446993b1",
   "metadata": {},
   "outputs": [
    {
     "name": "stdout",
     "output_type": "stream",
     "text": [
      "\n",
      "=== LogReg ===\n",
      "\n",
      "=== LinearSVM ===\n",
      "\n",
      "=== RandomForest ===\n",
      "\n",
      "=== GaussianNB ===\n",
      "\n",
      "=== DecisionTree ===\n",
      "\n",
      "=== KNN ===\n"
     ]
    },
    {
     "data": {
      "application/vnd.microsoft.datawrangler.viewer.v0+json": {
       "columns": [
        {
         "name": "index",
         "rawType": "int64",
         "type": "integer"
        },
        {
         "name": "model",
         "rawType": "object",
         "type": "string"
        },
        {
         "name": "accuracy",
         "rawType": "float64",
         "type": "float"
        },
        {
         "name": "precision",
         "rawType": "float64",
         "type": "float"
        },
        {
         "name": "recall",
         "rawType": "float64",
         "type": "float"
        },
        {
         "name": "f1",
         "rawType": "float64",
         "type": "float"
        }
       ],
       "ref": "61c15f70-1bfa-4ccc-80fe-ef08075afaff",
       "rows": [
        [
         "0",
         "LinearSVM",
         "0.9966592427616926",
         "0.9959608843537415",
         "0.9976575809199318",
         "0.9968085106382979"
        ],
        [
         "1",
         "LogReg",
         "0.9887527839643653",
         "0.9918646970670092",
         "0.9865843270868825",
         "0.9892174655706203"
        ],
        [
         "2",
         "RandomForest",
         "0.971826280623608",
         "0.9757978153780252",
         "0.9701873935264055",
         "0.9729845168179392"
        ],
        [
         "3",
         "DecisionTree",
         "0.9462138084632516",
         "0.9385800541328336",
         "0.9599659284497445",
         "0.9491525423728814"
        ],
        [
         "4",
         "KNN",
         "0.8579064587973274",
         "0.8022269353128314",
         "0.9665672913117547",
         "0.8767626038246088"
        ],
        [
         "5",
         "GaussianNB",
         "0.7476614699331848",
         "0.7271028037383177",
         "0.8283645655877342",
         "0.7744375870993431"
        ]
       ],
       "shape": {
        "columns": 5,
        "rows": 6
       }
      },
      "text/html": [
       "<div>\n",
       "<style scoped>\n",
       "    .dataframe tbody tr th:only-of-type {\n",
       "        vertical-align: middle;\n",
       "    }\n",
       "\n",
       "    .dataframe tbody tr th {\n",
       "        vertical-align: top;\n",
       "    }\n",
       "\n",
       "    .dataframe thead th {\n",
       "        text-align: right;\n",
       "    }\n",
       "</style>\n",
       "<table border=\"1\" class=\"dataframe\">\n",
       "  <thead>\n",
       "    <tr style=\"text-align: right;\">\n",
       "      <th></th>\n",
       "      <th>model</th>\n",
       "      <th>accuracy</th>\n",
       "      <th>precision</th>\n",
       "      <th>recall</th>\n",
       "      <th>f1</th>\n",
       "    </tr>\n",
       "  </thead>\n",
       "  <tbody>\n",
       "    <tr>\n",
       "      <th>0</th>\n",
       "      <td>LinearSVM</td>\n",
       "      <td>0.996659</td>\n",
       "      <td>0.995961</td>\n",
       "      <td>0.997658</td>\n",
       "      <td>0.996809</td>\n",
       "    </tr>\n",
       "    <tr>\n",
       "      <th>1</th>\n",
       "      <td>LogReg</td>\n",
       "      <td>0.988753</td>\n",
       "      <td>0.991865</td>\n",
       "      <td>0.986584</td>\n",
       "      <td>0.989217</td>\n",
       "    </tr>\n",
       "    <tr>\n",
       "      <th>2</th>\n",
       "      <td>RandomForest</td>\n",
       "      <td>0.971826</td>\n",
       "      <td>0.975798</td>\n",
       "      <td>0.970187</td>\n",
       "      <td>0.972985</td>\n",
       "    </tr>\n",
       "    <tr>\n",
       "      <th>3</th>\n",
       "      <td>DecisionTree</td>\n",
       "      <td>0.946214</td>\n",
       "      <td>0.938580</td>\n",
       "      <td>0.959966</td>\n",
       "      <td>0.949153</td>\n",
       "    </tr>\n",
       "    <tr>\n",
       "      <th>4</th>\n",
       "      <td>KNN</td>\n",
       "      <td>0.857906</td>\n",
       "      <td>0.802227</td>\n",
       "      <td>0.966567</td>\n",
       "      <td>0.876763</td>\n",
       "    </tr>\n",
       "    <tr>\n",
       "      <th>5</th>\n",
       "      <td>GaussianNB</td>\n",
       "      <td>0.747661</td>\n",
       "      <td>0.727103</td>\n",
       "      <td>0.828365</td>\n",
       "      <td>0.774438</td>\n",
       "    </tr>\n",
       "  </tbody>\n",
       "</table>\n",
       "</div>"
      ],
      "text/plain": [
       "          model  accuracy  precision    recall        f1\n",
       "0     LinearSVM  0.996659   0.995961  0.997658  0.996809\n",
       "1        LogReg  0.988753   0.991865  0.986584  0.989217\n",
       "2  RandomForest  0.971826   0.975798  0.970187  0.972985\n",
       "3  DecisionTree  0.946214   0.938580  0.959966  0.949153\n",
       "4           KNN  0.857906   0.802227  0.966567  0.876763\n",
       "5    GaussianNB  0.747661   0.727103  0.828365  0.774438"
      ]
     },
     "metadata": {},
     "output_type": "display_data"
    },
    {
     "name": "stdout",
     "output_type": "stream",
     "text": [
      "\n",
      ">>> LinearSVM — Classification Report\n",
      "              precision    recall  f1-score   support\n",
      "\n",
      "           0      0.997     0.996     0.996      4284\n",
      "           1      0.996     0.998     0.997      4696\n",
      "\n",
      "    accuracy                          0.997      8980\n",
      "   macro avg      0.997     0.997     0.997      8980\n",
      "weighted avg      0.997     0.997     0.997      8980\n",
      "\n",
      "\n",
      ">>> LogReg — Classification Report\n",
      "              precision    recall  f1-score   support\n",
      "\n",
      "           0      0.985     0.991     0.988      4284\n",
      "           1      0.992     0.987     0.989      4696\n",
      "\n",
      "    accuracy                          0.989      8980\n",
      "   macro avg      0.989     0.989     0.989      8980\n",
      "weighted avg      0.989     0.989     0.989      8980\n",
      "\n",
      "\n",
      ">>> RandomForest — Classification Report\n",
      "              precision    recall  f1-score   support\n",
      "\n",
      "           0      0.968     0.974     0.971      4284\n",
      "           1      0.976     0.970     0.973      4696\n",
      "\n",
      "    accuracy                          0.972      8980\n",
      "   macro avg      0.972     0.972     0.972      8980\n",
      "weighted avg      0.972     0.972     0.972      8980\n",
      "\n",
      "\n",
      ">>> DecisionTree — Classification Report\n",
      "              precision    recall  f1-score   support\n",
      "\n",
      "           0      0.955     0.931     0.943      4284\n",
      "           1      0.939     0.960     0.949      4696\n",
      "\n",
      "    accuracy                          0.946      8980\n",
      "   macro avg      0.947     0.946     0.946      8980\n",
      "weighted avg      0.946     0.946     0.946      8980\n",
      "\n",
      "\n",
      ">>> KNN — Classification Report\n",
      "              precision    recall  f1-score   support\n",
      "\n",
      "           0      0.953     0.739     0.832      4284\n",
      "           1      0.802     0.967     0.877      4696\n",
      "\n",
      "    accuracy                          0.858      8980\n",
      "   macro avg      0.877     0.853     0.855      8980\n",
      "weighted avg      0.874     0.858     0.856      8980\n",
      "\n",
      "\n",
      ">>> GaussianNB — Classification Report\n",
      "              precision    recall  f1-score   support\n",
      "\n",
      "           0      0.778     0.659     0.714      4284\n",
      "           1      0.727     0.828     0.774      4696\n",
      "\n",
      "    accuracy                          0.748      8980\n",
      "   macro avg      0.753     0.744     0.744      8980\n",
      "weighted avg      0.751     0.748     0.745      8980\n",
      "\n"
     ]
    }
   ],
   "source": [
    "from sklearn.metrics import (\n",
    "    accuracy_score, precision_recall_fscore_support,\n",
    "    classification_report, confusion_matrix\n",
    ")\n",
    "import pandas as pd\n",
    "\n",
    "results, reports, conf_mats = [], {}, {}\n",
    "\n",
    "for name, model in models.items():\n",
    "    print(f\"\\n=== {name} ===\")\n",
    "    \n",
    "    if name in SPARSE_OK:\n",
    "        model.fit(X_train_tfidf, y_train)\n",
    "        y_pred = model.predict(X_test_tfidf)\n",
    "    else:\n",
    "        model.fit(X_train_dense, y_train)   # <-- usa il denso ridotto\n",
    "        y_pred = model.predict(X_test_dense)\n",
    "    \n",
    "    acc = accuracy_score(y_test, y_pred)\n",
    "    prec, rec, f1, _ = precision_recall_fscore_support(\n",
    "        y_test, y_pred, average=\"binary\", zero_division=0\n",
    "    )\n",
    "    results.append({\"model\": name, \"accuracy\": acc, \"precision\": prec, \"recall\": rec, \"f1\": f1})\n",
    "    reports[name] = classification_report(y_test, y_pred, digits=3)\n",
    "    conf_mats[name] = confusion_matrix(y_test, y_pred)\n",
    "\n",
    "res_df = pd.DataFrame(results).sort_values(\"f1\", ascending=False).reset_index(drop=True)\n",
    "display(res_df)\n",
    "\n",
    "for name in res_df[\"model\"]:\n",
    "    print(f\"\\n>>> {name} — Classification Report\")\n",
    "    print(reports[name])\n"
   ]
  },
  {
   "cell_type": "code",
   "execution_count": 22,
   "id": "15208516",
   "metadata": {},
   "outputs": [
    {
     "data": {
      "image/png": "[encoded data removed]",
      "text/plain": [
       "<Figure size 440x440 with 1 Axes>"
      ]
     },
     "metadata": {},
     "output_type": "display_data"
    }
   ],
   "source": [
    "from sklearn.metrics import ConfusionMatrixDisplay\n",
    "import matplotlib.pyplot as plt\n",
    "\n",
    "best_name = res_df.iloc[0][\"model\"]\n",
    "cm = conf_mats[best_name]\n",
    "disp = ConfusionMatrixDisplay(confusion_matrix=cm)\n",
    "fig, ax = plt.subplots(figsize=(4,4))\n",
    "disp.plot(ax=ax, colorbar=False)\n",
    "plt.title(f\"Confusion Matrix — {best_name}\")\n",
    "plt.tight_layout(); plt.show()\n"
   ]
  },
  {
   "cell_type": "code",
   "execution_count": 11,
   "id": "4d88bd0b",
   "metadata": {},
   "outputs": [
    {
     "name": "stdout",
     "output_type": "stream",
     "text": [
      "Train: (35918, 300) <class 'numpy.ndarray'>\n",
      "Test : (8980, 300) <class 'numpy.ndarray'>\n"
     ]
    }
   ],
   "source": [
    "import numpy as np\n",
    "\n",
    "print(\"Train:\", X_train_dense.shape, type(X_train_dense))\n",
    "print(\"Test :\", X_test_dense.shape, type(X_test_dense))\n",
    "\n",
    "# Se non sono già numpy arrays in float32:\n",
    "X_train_nn = np.asarray(X_train_dense, dtype=np.float32)\n",
    "X_test_nn  = np.asarray(X_test_dense, dtype=np.float32)\n",
    "\n",
    "# Etichette a 1D int\n",
    "y_train_nn = np.asarray(y_train).astype(int).ravel()\n",
    "y_test_nn  = np.asarray(y_test).astype(int).ravel()\n"
   ]
  },
  {
   "cell_type": "code",
   "execution_count": 12,
   "id": "729452f9",
   "metadata": {},
   "outputs": [
    {
     "data": {
      "text/html": [
       "<pre style=\"white-space:pre;overflow-x:auto;line-height:normal;font-family:Menlo,'DejaVu Sans Mono',consolas,'Courier New',monospace\"><span style=\"font-weight: bold\">Model: \"functional\"</span>\n",
       "</pre>\n"
      ],
      "text/plain": [
       "\u001b[1mModel: \"functional\"\u001b[0m\n"
      ]
     },
     "metadata": {},
     "output_type": "display_data"
    },
    {
     "data": {
      "text/html": [
       "<pre style=\"white-space:pre;overflow-x:auto;line-height:normal;font-family:Menlo,'DejaVu Sans Mono',consolas,'Courier New',monospace\">┏━━━━━━━━━━━━━━━━━━━━━━━━━━━━━━━━━┳━━━━━━━━━━━━━━━━━━━━━━━━┳━━━━━━━━━━━━━━━┓\n",
       "┃<span style=\"font-weight: bold\"> Layer (type)                    </span>┃<span style=\"font-weight: bold\"> Output Shape           </span>┃<span style=\"font-weight: bold\">       Param # </span>┃\n",
       "┡━━━━━━━━━━━━━━━━━━━━━━━━━━━━━━━━━╇━━━━━━━━━━━━━━━━━━━━━━━━╇━━━━━━━━━━━━━━━┩\n",
       "│ dense_features (<span style=\"color: #0087ff; text-decoration-color: #0087ff\">InputLayer</span>)     │ (<span style=\"color: #00d7ff; text-decoration-color: #00d7ff\">None</span>, <span style=\"color: #00af00; text-decoration-color: #00af00\">300</span>)            │             <span style=\"color: #00af00; text-decoration-color: #00af00\">0</span> │\n",
       "├─────────────────────────────────┼────────────────────────┼───────────────┤\n",
       "│ batch_normalization             │ (<span style=\"color: #00d7ff; text-decoration-color: #00d7ff\">None</span>, <span style=\"color: #00af00; text-decoration-color: #00af00\">300</span>)            │         <span style=\"color: #00af00; text-decoration-color: #00af00\">1,200</span> │\n",
       "│ (<span style=\"color: #0087ff; text-decoration-color: #0087ff\">BatchNormalization</span>)            │                        │               │\n",
       "├─────────────────────────────────┼────────────────────────┼───────────────┤\n",
       "│ dense (<span style=\"color: #0087ff; text-decoration-color: #0087ff\">Dense</span>)                   │ (<span style=\"color: #00d7ff; text-decoration-color: #00d7ff\">None</span>, <span style=\"color: #00af00; text-decoration-color: #00af00\">256</span>)            │        <span style=\"color: #00af00; text-decoration-color: #00af00\">77,056</span> │\n",
       "├─────────────────────────────────┼────────────────────────┼───────────────┤\n",
       "│ dropout (<span style=\"color: #0087ff; text-decoration-color: #0087ff\">Dropout</span>)               │ (<span style=\"color: #00d7ff; text-decoration-color: #00d7ff\">None</span>, <span style=\"color: #00af00; text-decoration-color: #00af00\">256</span>)            │             <span style=\"color: #00af00; text-decoration-color: #00af00\">0</span> │\n",
       "├─────────────────────────────────┼────────────────────────┼───────────────┤\n",
       "│ dense_1 (<span style=\"color: #0087ff; text-decoration-color: #0087ff\">Dense</span>)                 │ (<span style=\"color: #00d7ff; text-decoration-color: #00d7ff\">None</span>, <span style=\"color: #00af00; text-decoration-color: #00af00\">128</span>)            │        <span style=\"color: #00af00; text-decoration-color: #00af00\">32,896</span> │\n",
       "├─────────────────────────────────┼────────────────────────┼───────────────┤\n",
       "│ dropout_1 (<span style=\"color: #0087ff; text-decoration-color: #0087ff\">Dropout</span>)             │ (<span style=\"color: #00d7ff; text-decoration-color: #00d7ff\">None</span>, <span style=\"color: #00af00; text-decoration-color: #00af00\">128</span>)            │             <span style=\"color: #00af00; text-decoration-color: #00af00\">0</span> │\n",
       "├─────────────────────────────────┼────────────────────────┼───────────────┤\n",
       "│ prob_fake (<span style=\"color: #0087ff; text-decoration-color: #0087ff\">Dense</span>)               │ (<span style=\"color: #00d7ff; text-decoration-color: #00d7ff\">None</span>, <span style=\"color: #00af00; text-decoration-color: #00af00\">1</span>)              │           <span style=\"color: #00af00; text-decoration-color: #00af00\">129</span> │\n",
       "└─────────────────────────────────┴────────────────────────┴───────────────┘\n",
       "</pre>\n"
      ],
      "text/plain": [
       "┏━━━━━━━━━━━━━━━━━━━━━━━━━━━━━━━━━┳━━━━━━━━━━━━━━━━━━━━━━━━┳━━━━━━━━━━━━━━━┓\n",
       "┃\u001b[1m \u001b[0m\u001b[1mLayer (type)                   \u001b[0m\u001b[1m \u001b[0m┃\u001b[1m \u001b[0m\u001b[1mOutput Shape          \u001b[0m\u001b[1m \u001b[0m┃\u001b[1m \u001b[0m\u001b[1m      Param #\u001b[0m\u001b[1m \u001b[0m┃\n",
       "┡━━━━━━━━━━━━━━━━━━━━━━━━━━━━━━━━━╇━━━━━━━━━━━━━━━━━━━━━━━━╇━━━━━━━━━━━━━━━┩\n",
       "│ dense_features (\u001b[38;5;33mInputLayer\u001b[0m)     │ (\u001b[38;5;45mNone\u001b[0m, \u001b[38;5;34m300\u001b[0m)            │             \u001b[38;5;34m0\u001b[0m │\n",
       "├─────────────────────────────────┼────────────────────────┼───────────────┤\n",
       "│ batch_normalization             │ (\u001b[38;5;45mNone\u001b[0m, \u001b[38;5;34m300\u001b[0m)            │         \u001b[38;5;34m1,200\u001b[0m │\n",
       "│ (\u001b[38;5;33mBatchNormalization\u001b[0m)            │                        │               │\n",
       "├─────────────────────────────────┼────────────────────────┼───────────────┤\n",
       "│ dense (\u001b[38;5;33mDense\u001b[0m)                   │ (\u001b[38;5;45mNone\u001b[0m, \u001b[38;5;34m256\u001b[0m)            │        \u001b[38;5;34m77,056\u001b[0m │\n",
       "├─────────────────────────────────┼────────────────────────┼───────────────┤\n",
       "│ dropout (\u001b[38;5;33mDropout\u001b[0m)               │ (\u001b[38;5;45mNone\u001b[0m, \u001b[38;5;34m256\u001b[0m)            │             \u001b[38;5;34m0\u001b[0m │\n",
       "├─────────────────────────────────┼────────────────────────┼───────────────┤\n",
       "│ dense_1 (\u001b[38;5;33mDense\u001b[0m)                 │ (\u001b[38;5;45mNone\u001b[0m, \u001b[38;5;34m128\u001b[0m)            │        \u001b[38;5;34m32,896\u001b[0m │\n",
       "├─────────────────────────────────┼────────────────────────┼───────────────┤\n",
       "│ dropout_1 (\u001b[38;5;33mDropout\u001b[0m)             │ (\u001b[38;5;45mNone\u001b[0m, \u001b[38;5;34m128\u001b[0m)            │             \u001b[38;5;34m0\u001b[0m │\n",
       "├─────────────────────────────────┼────────────────────────┼───────────────┤\n",
       "│ prob_fake (\u001b[38;5;33mDense\u001b[0m)               │ (\u001b[38;5;45mNone\u001b[0m, \u001b[38;5;34m1\u001b[0m)              │           \u001b[38;5;34m129\u001b[0m │\n",
       "└─────────────────────────────────┴────────────────────────┴───────────────┘\n"
      ]
     },
     "metadata": {},
     "output_type": "display_data"
    },
    {
     "data": {
      "text/html": [
       "<pre style=\"white-space:pre;overflow-x:auto;line-height:normal;font-family:Menlo,'DejaVu Sans Mono',consolas,'Courier New',monospace\"><span style=\"font-weight: bold\"> Total params: </span><span style=\"color: #00af00; text-decoration-color: #00af00\">111,281</span> (434.69 KB)\n",
       "</pre>\n"
      ],
      "text/plain": [
       "\u001b[1m Total params: \u001b[0m\u001b[38;5;34m111,281\u001b[0m (434.69 KB)\n"
      ]
     },
     "metadata": {},
     "output_type": "display_data"
    },
    {
     "data": {
      "text/html": [
       "<pre style=\"white-space:pre;overflow-x:auto;line-height:normal;font-family:Menlo,'DejaVu Sans Mono',consolas,'Courier New',monospace\"><span style=\"font-weight: bold\"> Trainable params: </span><span style=\"color: #00af00; text-decoration-color: #00af00\">110,681</span> (432.35 KB)\n",
       "</pre>\n"
      ],
      "text/plain": [
       "\u001b[1m Trainable params: \u001b[0m\u001b[38;5;34m110,681\u001b[0m (432.35 KB)\n"
      ]
     },
     "metadata": {},
     "output_type": "display_data"
    },
    {
     "data": {
      "text/html": [
       "<pre style=\"white-space:pre;overflow-x:auto;line-height:normal;font-family:Menlo,'DejaVu Sans Mono',consolas,'Courier New',monospace\"><span style=\"font-weight: bold\"> Non-trainable params: </span><span style=\"color: #00af00; text-decoration-color: #00af00\">600</span> (2.34 KB)\n",
       "</pre>\n"
      ],
      "text/plain": [
       "\u001b[1m Non-trainable params: \u001b[0m\u001b[38;5;34m600\u001b[0m (2.34 KB)\n"
      ]
     },
     "metadata": {},
     "output_type": "display_data"
    }
   ],
   "source": [
    "import tensorflow as tf\n",
    "from tensorflow import keras\n",
    "from tensorflow.keras import layers\n",
    "\n",
    "input_dim = X_train_nn.shape[1]  # dovrebbe essere 300\n",
    "\n",
    "def build_mlp(input_dim, hidden=(256,128), dropout=0.3, l2=1e-4, lr=1e-3):\n",
    "    inputs = keras.Input(shape=(input_dim,), name=\"dense_features\")\n",
    "    x = layers.BatchNormalization()(inputs)          # aiuta con feature eterogenee\n",
    "    x = layers.Dense(hidden[0], activation=\"relu\",\n",
    "                     kernel_regularizer=keras.regularizers.l2(l2))(x)\n",
    "    x = layers.Dropout(dropout)(x)\n",
    "    x = layers.Dense(hidden[1], activation=\"relu\",\n",
    "                     kernel_regularizer=keras.regularizers.l2(l2))(x)\n",
    "    x = layers.Dropout(dropout)(x)\n",
    "    outputs = layers.Dense(1, activation=\"sigmoid\", name=\"prob_fake\")(x)\n",
    "    model = keras.Model(inputs, outputs)\n",
    "    model.compile(\n",
    "        optimizer=keras.optimizers.Adam(learning_rate=lr),\n",
    "        loss=\"binary_crossentropy\",\n",
    "        metrics=[keras.metrics.BinaryAccuracy(name=\"accuracy\")]\n",
    "    )\n",
    "    return model\n",
    "\n",
    "model = build_mlp(input_dim= input_dim)\n",
    "model.summary()\n"
   ]
  },
  {
   "cell_type": "code",
   "execution_count": 13,
   "id": "ad5dfe2d",
   "metadata": {},
   "outputs": [
    {
     "data": {
      "text/plain": [
       "{0: 1.04821105468978, 1: 0.956028746340165}"
      ]
     },
     "execution_count": 13,
     "metadata": {},
     "output_type": "execute_result"
    }
   ],
   "source": [
    "from sklearn.utils.class_weight import compute_class_weight\n",
    "\n",
    "classes = np.unique(y_train_nn)\n",
    "class_weights = compute_class_weight(class_weight=\"balanced\", classes=classes, y=y_train_nn)\n",
    "class_weight = {int(c): float(w) for c, w in zip(classes, class_weights)}\n",
    "class_weight\n"
   ]
  },
  {
   "cell_type": "code",
   "execution_count": 14,
   "id": "f21c7f41",
   "metadata": {},
   "outputs": [],
   "source": [
    "early = keras.callbacks.EarlyStopping(monitor=\"val_loss\", patience=3, restore_best_weights=True)\n",
    "reduce = keras.callbacks.ReduceLROnPlateau(monitor=\"val_loss\", factor=0.5, patience=2, min_lr=1e-6)\n"
   ]
  },
  {
   "cell_type": "code",
   "execution_count": 15,
   "id": "73563cf8",
   "metadata": {},
   "outputs": [
    {
     "name": "stdout",
     "output_type": "stream",
     "text": [
      "Epoch 1/25\n",
      "\u001b[1m127/127\u001b[0m \u001b[32m━━━━━━━━━━━━━━━━━━━━\u001b[0m\u001b[37m\u001b[0m \u001b[1m2s\u001b[0m 6ms/step - accuracy: 0.7439 - loss: 0.5249 - val_accuracy: 0.9822 - val_loss: 0.1026 - learning_rate: 0.0010\n",
      "Epoch 2/25\n",
      "\u001b[1m127/127\u001b[0m \u001b[32m━━━━━━━━━━━━━━━━━━━━\u001b[0m\u001b[37m\u001b[0m \u001b[1m1s\u001b[0m 5ms/step - accuracy: 0.9744 - loss: 0.1170 - val_accuracy: 0.9861 - val_loss: 0.0865 - learning_rate: 0.0010\n",
      "Epoch 3/25\n",
      "\u001b[1m127/127\u001b[0m \u001b[32m━━━━━━━━━━━━━━━━━━━━\u001b[0m\u001b[37m\u001b[0m \u001b[1m1s\u001b[0m 5ms/step - accuracy: 0.9863 - loss: 0.0863 - val_accuracy: 0.9855 - val_loss: 0.0833 - learning_rate: 0.0010\n",
      "Epoch 4/25\n",
      "\u001b[1m127/127\u001b[0m \u001b[32m━━━━━━━━━━━━━━━━━━━━\u001b[0m\u001b[37m\u001b[0m \u001b[1m1s\u001b[0m 5ms/step - accuracy: 0.9906 - loss: 0.0723 - val_accuracy: 0.9872 - val_loss: 0.0795 - learning_rate: 0.0010\n",
      "Epoch 5/25\n",
      "\u001b[1m127/127\u001b[0m \u001b[32m━━━━━━━━━━━━━━━━━━━━\u001b[0m\u001b[37m\u001b[0m \u001b[1m1s\u001b[0m 5ms/step - accuracy: 0.9909 - loss: 0.0654 - val_accuracy: 0.9905 - val_loss: 0.0730 - learning_rate: 0.0010\n",
      "Epoch 6/25\n",
      "\u001b[1m127/127\u001b[0m \u001b[32m━━━━━━━━━━━━━━━━━━━━\u001b[0m\u001b[37m\u001b[0m \u001b[1m1s\u001b[0m 5ms/step - accuracy: 0.9947 - loss: 0.0564 - val_accuracy: 0.9875 - val_loss: 0.0777 - learning_rate: 0.0010\n",
      "Epoch 7/25\n",
      "\u001b[1m127/127\u001b[0m \u001b[32m━━━━━━━━━━━━━━━━━━━━\u001b[0m\u001b[37m\u001b[0m \u001b[1m1s\u001b[0m 5ms/step - accuracy: 0.9951 - loss: 0.0537 - val_accuracy: 0.9886 - val_loss: 0.0732 - learning_rate: 0.0010\n",
      "Epoch 8/25\n",
      "\u001b[1m127/127\u001b[0m \u001b[32m━━━━━━━━━━━━━━━━━━━━\u001b[0m\u001b[37m\u001b[0m \u001b[1m1s\u001b[0m 5ms/step - accuracy: 0.9964 - loss: 0.0473 - val_accuracy: 0.9903 - val_loss: 0.0689 - learning_rate: 5.0000e-04\n",
      "Epoch 9/25\n",
      "\u001b[1m127/127\u001b[0m \u001b[32m━━━━━━━━━━━━━━━━━━━━\u001b[0m\u001b[37m\u001b[0m \u001b[1m1s\u001b[0m 5ms/step - accuracy: 0.9974 - loss: 0.0444 - val_accuracy: 0.9894 - val_loss: 0.0693 - learning_rate: 5.0000e-04\n",
      "Epoch 10/25\n",
      "\u001b[1m127/127\u001b[0m \u001b[32m━━━━━━━━━━━━━━━━━━━━\u001b[0m\u001b[37m\u001b[0m \u001b[1m1s\u001b[0m 5ms/step - accuracy: 0.9976 - loss: 0.0419 - val_accuracy: 0.9889 - val_loss: 0.0731 - learning_rate: 5.0000e-04\n",
      "Epoch 11/25\n",
      "\u001b[1m127/127\u001b[0m \u001b[32m━━━━━━━━━━━━━━━━━━━━\u001b[0m\u001b[37m\u001b[0m \u001b[1m1s\u001b[0m 5ms/step - accuracy: 0.9977 - loss: 0.0408 - val_accuracy: 0.9894 - val_loss: 0.0717 - learning_rate: 2.5000e-04\n"
     ]
    }
   ],
   "source": [
    "history = model.fit(\n",
    "    X_train_nn, y_train_nn,\n",
    "    validation_split=0.1,\n",
    "    epochs=25,\n",
    "    batch_size=256,\n",
    "    callbacks=[early, reduce],\n",
    "    class_weight=class_weight,   # togli questa riga se le classi sono già bilanciate\n",
    "    verbose=1\n",
    ")\n"
   ]
  },
  {
   "cell_type": "code",
   "execution_count": 16,
   "id": "868badfd",
   "metadata": {},
   "outputs": [
    {
     "name": "stdout",
     "output_type": "stream",
     "text": [
      "\u001b[1m281/281\u001b[0m \u001b[32m━━━━━━━━━━━━━━━━━━━━\u001b[0m\u001b[37m\u001b[0m \u001b[1m1s\u001b[0m 2ms/step\n",
      "              precision    recall  f1-score   support\n",
      "\n",
      "           0     0.9934    0.9897    0.9916      4284\n",
      "           1     0.9907    0.9940    0.9923      4696\n",
      "\n",
      "    accuracy                         0.9920      8980\n",
      "   macro avg     0.9921    0.9919    0.9920      8980\n",
      "weighted avg     0.9920    0.9920    0.9920      8980\n",
      "\n",
      "ROC-AUC: 0.999551563243128\n"
     ]
    },
    {
     "data": {
      "image/png": "[encoded data removed]",
      "text/plain": [
       "<Figure size 440x440 with 1 Axes>"
      ]
     },
     "metadata": {},
     "output_type": "display_data"
    }
   ],
   "source": [
    "from sklearn.metrics import classification_report, confusion_matrix, roc_auc_score, ConfusionMatrixDisplay\n",
    "import matplotlib.pyplot as plt\n",
    "\n",
    "y_proba = model.predict(X_test_nn).ravel()\n",
    "y_pred  = (y_proba >= 0.5).astype(int)\n",
    "\n",
    "print(classification_report(y_test_nn, y_pred, digits=4))\n",
    "print(\"ROC-AUC:\", roc_auc_score(y_test_nn, y_proba))\n",
    "\n",
    "cm = confusion_matrix(y_test_nn, y_pred)\n",
    "disp = ConfusionMatrixDisplay(confusion_matrix=cm)\n",
    "fig, ax = plt.subplots(figsize=(4,4))\n",
    "disp.plot(ax=ax, colorbar=False)\n",
    "plt.title(\"Confusion Matrix — Keras MLP (300-dense)\")\n",
    "plt.tight_layout(); plt.show()\n"
   ]
  },
  {
   "cell_type": "code",
   "execution_count": 17,
   "id": "c7ad6e1d",
   "metadata": {},
   "outputs": [
    {
     "data": {
      "image/png": "[encoded data removed]",
      "text/plain": [
       "<Figure size 1320x550 with 2 Axes>"
      ]
     },
     "metadata": {},
     "output_type": "display_data"
    }
   ],
   "source": [
    "import matplotlib.pyplot as plt\n",
    "\n",
    "plt.figure(figsize=(12, 5))\n",
    "\n",
    "# Accuracy\n",
    "plt.subplot(1, 2, 1)\n",
    "plt.plot(history.history['accuracy'], label='Train Accuracy')\n",
    "plt.plot(history.history['val_accuracy'], label='Validation Accuracy')\n",
    "plt.xlabel('Epochs')\n",
    "plt.ylabel('Accuracy')\n",
    "plt.title('Accuracy per Epoch')\n",
    "plt.legend()\n",
    "\n",
    "# Loss\n",
    "plt.subplot(1, 2, 2)\n",
    "plt.plot(history.history['loss'], label='Train Loss')\n",
    "plt.plot(history.history['val_loss'], label='Validation Loss')\n",
    "plt.xlabel('Epochs')\n",
    "plt.ylabel('Loss')\n",
    "plt.title('Loss per Epoch')\n",
    "plt.legend()\n",
    "\n",
    "plt.tight_layout()\n",
    "plt.show()\n"
   ]
  },
  {
   "cell_type": "markdown",
   "id": "2f4d3971",
   "metadata": {},
   "source": [
    "📈 Grafico di sinistra: Accuracy per Epoca\n",
    "\n",
    "Linea blu (train): parte bassa (~0.87) alla prima epoca, poi cresce molto rapidamente fino a sfiorare 1.00 (accuratezza quasi perfetta).\n",
    "\n",
    "Linea arancione (validation): parte già alta (~0.98), rimane stabile attorno a 0.985 senza grandi oscillazioni.\n",
    "\n",
    "👉 Interpretazione:\n",
    "\n",
    "La rete ha imparato molto in fretta: dopo 2–3 epoche era già oltre il 98% di accuratezza.\n",
    "\n",
    "La curva di validazione è sempre rimasta molto vicina a quella di training → non vediamo segni evidenti di overfitting.\n",
    "\n",
    "Il modello sembra stabile e generalizza bene.\n",
    "\n",
    "📉 Grafico di destra: Loss per Epoca\n",
    "\n",
    "Linea blu (train): scende velocemente da 0.33 a sotto 0.05 → il modello minimizza bene la loss sul training set.\n",
    "\n",
    "Linea arancione (validation): parte già bassa (~0.10), scende anch’essa e si stabilizza tra 0.07 e 0.06.\n",
    "\n",
    "👉 Interpretazione:\n",
    "\n",
    "La perdita di validazione rimane bassa e non risale → anche qui nessun segnale forte di overfitting.\n",
    "\n",
    "C’è una piccola differenza tra loss di train (molto bassa) e loss di validazione (leggermente più alta). Questo è normale: significa che il modello si adatta un po’ meglio ai dati che ha visto, ma resta robusto su quelli mai visti.\n",
    "\n",
    "🎓 Conclusione didattica\n",
    "\n",
    "Il modello ha una capacità predittiva molto alta (98–99% di accuratezza).\n",
    "\n",
    "L’allenamento si è stabilizzato presto: probabilmente già entro la 5ª epoca avevamo raggiunto la convergenza.\n",
    "\n",
    "Non emergono sintomi gravi di overfitting: la generalizzazione sembra ottima.\n",
    "\n",
    "Se fossimo in un progetto reale, ci porremmo due domande:\n",
    "\n",
    "I dati di test sono davvero rappresentativi? (accuracy così alta potrebbe significare che il compito è “facile” o che i dati hanno pattern molto chiari).\n",
    "\n",
    "Ha senso allenare oltre 10 epoche? Probabilmente no, perché non si guadagna nulla.\n",
    "\n",
    "👉 Da portare a casa per gli studenti:\n",
    "“Il modello ha imparato velocemente, raggiungendo alta accuratezza senza overfitting. Questo è un caso ideale, ma non sempre succede: spesso vediamo la validation accuracy calare mentre la training accuracy cresce, segnale che dobbiamo regolarizzare meglio o fermarci prima.”\n",
    "\n",
    "Vuoi che ti prepari anche il commento analogo ma sul grafico ROC/Precision-Recall dopo aver testato il modello, così puoi mostrare ai tuoi compagni un’analisi completa?"
   ]
  },
  {
   "cell_type": "code",
   "execution_count": 18,
   "id": "829e3ed5",
   "metadata": {},
   "outputs": [
    {
     "data": {
      "image/png": "[encoded data removed]",
      "text/plain": [
       "<Figure size 1320x550 with 2 Axes>"
      ]
     },
     "metadata": {},
     "output_type": "display_data"
    }
   ],
   "source": [
    "from sklearn.metrics import roc_curve, auc, precision_recall_curve, average_precision_score\n",
    "import matplotlib.pyplot as plt\n",
    "\n",
    "# Probabilità previste (già calcolate prima)\n",
    "# y_proba = model.predict(X_test_nn).ravel()\n",
    "\n",
    "# ROC curve\n",
    "fpr, tpr, _ = roc_curve(y_test_nn, y_proba)\n",
    "roc_auc = auc(fpr, tpr)\n",
    "\n",
    "# Precision-Recall curve\n",
    "precision, recall, _ = precision_recall_curve(y_test_nn, y_proba)\n",
    "ap = average_precision_score(y_test_nn, y_proba)\n",
    "\n",
    "plt.figure(figsize=(12,5))\n",
    "\n",
    "# --- ROC ---\n",
    "plt.subplot(1,2,1)\n",
    "plt.plot(fpr, tpr, label=f'ROC curve (AUC = {roc_auc:.3f})')\n",
    "plt.plot([0,1],[0,1],'k--')  # linea diagonale\n",
    "plt.xlabel('False Positive Rate')\n",
    "plt.ylabel('True Positive Rate')\n",
    "plt.title('ROC Curve')\n",
    "plt.legend()\n",
    "\n",
    "# --- Precision-Recall ---\n",
    "plt.subplot(1,2,2)\n",
    "plt.plot(recall, precision, label=f'AP = {ap:.3f}')\n",
    "plt.xlabel('Recall')\n",
    "plt.ylabel('Precision')\n",
    "plt.title('Precision-Recall Curve')\n",
    "plt.legend()\n",
    "\n",
    "plt.tight_layout()\n",
    "plt.show()\n"
   ]
  },
  {
   "cell_type": "markdown",
   "id": "34fb295f",
   "metadata": {},
   "source": [
    "📈 Curva ROC (a sinistra)\n",
    "\n",
    "L’asse x mostra il False Positive Rate (FPR), cioè la proporzione di “non-fake” classificati erroneamente come fake.\n",
    "\n",
    "L’asse y mostra il True Positive Rate (TPR), cioè la proporzione di fake correttamente identificati.\n",
    "\n",
    "La linea blu sale subito quasi verticalmente e poi rimane praticamente incollata a 1.0: questo significa che il modello ottiene un TPR altissimo già con un FPR bassissimo.\n",
    "\n",
    "L’AUC = 1.000 indica che il modello separa perfettamente le due classi nel test set.\n",
    "\n",
    "👉 Didatticamente: una ROC così è il caso ideale — il modello distingue completamente fake da non-fake.\n",
    "\n",
    "📉 Curva Precision-Recall (a destra)\n",
    "\n",
    "L’asse x è il Recall (quante fake news vengono catturate).\n",
    "\n",
    "L’asse y è la Precision (quante delle notizie etichettate come fake sono davvero fake).\n",
    "\n",
    "La curva blu resta praticamente piatta a 1.0, con AP (Average Precision) = 1.000: significa che il modello mantiene precisione perfetta qualunque sia il livello di recall.\n",
    "\n",
    "👉 Didatticamente: non solo il modello non si confonde quasi mai, ma riesce a catturare tutte le fake senza sacrificare la precisione.\n",
    "\n",
    "🎓 Conclusione didattica\n",
    "\n",
    "Questi grafici ci mostrano un modello che, sul dataset di test, ha prestazioni perfette o quasi perfette.\n",
    "\n",
    "Questo è rarissimo nei problemi reali: può voler dire due cose possibili:\n",
    "\n",
    "I dati hanno caratteristiche molto nette che rendono facile distinguere fake vs non-fake.\n",
    "\n",
    "Oppure i dati di train e test non sono completamente indipendenti (ad esempio testi simili compaiono in entrambi i set).\n",
    "\n",
    "👉 Messaggio agli studenti:\n",
    "“Quando vedete ROC e PR curve perfette, non fermatevi ad esultare. Chiedetevi sempre: il dataset è realistico? È rappresentativo del mondo reale? Potrebbe esserci data leakage? Questi grafici ci dicono che il modello ha imparato bene su questi dati, ma dobbiamo verificare se la stessa perfezione si mantiene su dati nuovi e più complessi.”"
   ]
  },
  {
   "cell_type": "code",
   "execution_count": 19,
   "id": "5db04932",
   "metadata": {},
   "outputs": [
    {
     "name": "stdout",
     "output_type": "stream",
     "text": [
      "Distribuzione TRAIN:\n",
      "0    17133\n",
      "1    18785\n",
      "Name: count, dtype: int64\n",
      "\n",
      "Distribuzione TEST:\n",
      "0    4284\n",
      "1    4696\n",
      "Name: count, dtype: int64\n",
      "\n",
      "Percentuali TRAIN:\n",
      "0    47.7\n",
      "1    52.3\n",
      "Name: count, dtype: float64\n",
      "\n",
      "Percentuali TEST:\n",
      "0    47.71\n",
      "1    52.29\n",
      "Name: count, dtype: float64\n"
     ]
    }
   ],
   "source": [
    "import numpy as np\n",
    "import pandas as pd\n",
    "\n",
    "# Distribuzione nel train\n",
    "train_counts = pd.Series(y_train_nn).value_counts().sort_index()\n",
    "print(\"Distribuzione TRAIN:\")\n",
    "print(train_counts)\n",
    "\n",
    "# Distribuzione nel test\n",
    "test_counts = pd.Series(y_test_nn).value_counts().sort_index()\n",
    "print(\"\\nDistribuzione TEST:\")\n",
    "print(test_counts)\n",
    "\n",
    "# Percentuali\n",
    "print(\"\\nPercentuali TRAIN:\")\n",
    "print((train_counts / train_counts.sum() * 100).round(2))\n",
    "\n",
    "print(\"\\nPercentuali TEST:\")\n",
    "print((test_counts / test_counts.sum() * 100).round(2))"
   ]
  },
  {
   "cell_type": "markdown",
   "id": "345d19af",
   "metadata": {},
   "source": [
    "“Abbiamo verificato che il dataset è ben bilanciato: ~48% notizie vere e ~52% fake, sia nel train che nel test. Questo elimina l’ipotesi che la performance perfetta del modello sia dovuta a uno sbilanciamento delle classi.\n",
    "\n",
    "Il modello quindi riesce a separare i due tipi di notizie in maniera praticamente perfetta su questo dataset. La domanda didattica che dobbiamo porci è: questo dataset rappresenta davvero la complessità delle fake news nel mondo reale?\n",
    "\n",
    "Se i testi di train e test sono molto simili (ad esempio copiati da stesse fonti, o con indicatori linguistici troppo evidenti), il rischio è che il modello non stia imparando la ‘natura’ della fake news, ma solo pattern superficiali. Ecco perché il passo successivo sarà testare il modello su dati completamente nuovi o da fonti diverse.”"
   ]
  },
  {
   "cell_type": "code",
   "execution_count": 20,
   "id": "a6729e63",
   "metadata": {},
   "outputs": [
    {
     "name": "stdout",
     "output_type": "stream",
     "text": [
      "Accuracy : 0.9919821826280624\n",
      "Precision: 0.9906621392190152\n",
      "Recall   : 0.9940374787052811\n",
      "F1       : 0.9923469387755102\n"
     ]
    }
   ],
   "source": [
    "from sklearn.metrics import accuracy_score, precision_score, recall_score, f1_score\n",
    "\n",
    "accuracy = accuracy_score(y_test_nn, y_pred)\n",
    "precision = precision_score(y_test_nn, y_pred)\n",
    "recall = recall_score(y_test_nn, y_pred)\n",
    "f1 = f1_score(y_test_nn, y_pred)\n",
    "\n",
    "print(\"Accuracy :\", accuracy)\n",
    "print(\"Precision:\", precision)\n",
    "print(\"Recall   :\", recall)\n",
    "print(\"F1       :\", f1)\n"
   ]
  },
  {
   "cell_type": "code",
   "execution_count": 21,
   "id": "b371a11a",
   "metadata": {},
   "outputs": [],
   "source": [
    "nn_results = {\n",
    "    \"model\": \"NeuralNetwork\",\n",
    "    \"accuracy\": accuracy,\n",
    "    \"precision\": precision,\n",
    "    \"recall\": recall,\n",
    "    \"f1\": f1\n",
    "}\n"
   ]
  },
  {
   "cell_type": "code",
   "execution_count": null,
   "id": "975c2d6e",
   "metadata": {},
   "outputs": [
    {
     "name": "stdout",
     "output_type": "stream",
     "text": [
      "           model  accuracy  precision    recall        f1\n",
      "0      LinearSVM  0.996659   0.995961  0.997658  0.996809\n",
      "1         LogReg  0.988753   0.991865  0.986584  0.989217\n",
      "2   RandomForest  0.971826   0.975798  0.970187  0.972985\n",
      "3   DecisionTree  0.946214   0.938580  0.959966  0.949153\n",
      "4            KNN  0.857906   0.802227  0.966567  0.876763\n",
      "5     GaussianNB  0.747661   0.727103  0.828365  0.774438\n",
      "6  NeuralNetwork  0.991982   0.990662  0.994037  0.992347\n"
     ]
    }
   ],
   "source": [
    "# Trasforma in DataFrame a una riga\n",
    "nn_df = pd.DataFrame([nn_results])\n",
    "\n",
    "# Concatena\n",
    "results_df = pd.concat([res_df, nn_df], ignore_index=True)\n",
    "\n",
    "# Visualizza\n",
    "print(results_df)\n"
   ]
  }
 ],
 "metadata": {
  "kernelspec": {
   "display_name": "AMBIENTE1",
   "language": "python",
   "name": "python3"
  },
  "language_info": {
   "codemirror_mode": {
    "name": "ipython",
    "version": 3
   },
   "file_extension": ".py",
   "mimetype": "text/x-python",
   "name": "python",
   "nbconvert_exporter": "python",
   "pygments_lexer": "ipython3",
   "version": "3.11.9"
  }
 },
 "nbformat": 4,
 "nbformat_minor": 5
}
