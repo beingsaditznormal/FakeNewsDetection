{
 "cells": [
  {
   "cell_type": "code",
   "execution_count": 6,
   "id": "a2033674",
   "metadata": {},
   "outputs": [],
   "source": [
    "import warnings\n",
    "warnings.filterwarnings(\"ignore\", category=UserWarning, module=\"tqdm\")\n"
   ]
  },
  {
   "cell_type": "code",
   "execution_count": 7,
   "id": "07cb7352",
   "metadata": {},
   "outputs": [
    {
     "name": "stderr",
     "output_type": "stream",
     "text": [
      "c:\\Users\\DAVIDEPEDRETTI\\miniconda3\\envs\\sbert-env\\lib\\site-packages\\tqdm\\auto.py:21: TqdmWarning: IProgress not found. Please update jupyter and ipywidgets. See https://ipywidgets.readthedocs.io/en/stable/user_install.html\n",
      "  from .autonotebook import tqdm as notebook_tqdm\n"
     ]
    }
   ],
   "source": [
    "# Se serve (una volta sola):\n",
    "# !pip install -q sentence-transformers scikit-learn matplotlib joblib\n",
    "\n",
    "import pandas as pd\n",
    "import numpy as np\n",
    "import matplotlib.pyplot as plt\n",
    "\n",
    "from sklearn.model_selection import train_test_split, StratifiedKFold, cross_val_score\n",
    "from sklearn.preprocessing import StandardScaler\n",
    "from sklearn.metrics import (\n",
    "    accuracy_score, precision_recall_fscore_support,\n",
    "    classification_report, confusion_matrix, ConfusionMatrixDisplay\n",
    ")\n",
    "\n",
    "from sklearn.linear_model import LogisticRegression\n",
    "from sklearn.svm import LinearSVC\n",
    "from sklearn.ensemble import RandomForestClassifier\n",
    "from sklearn.naive_bayes import GaussianNB\n",
    "from sklearn.tree import DecisionTreeClassifier\n",
    "from sklearn.neighbors import KNeighborsClassifier\n",
    "\n",
    "from sentence_transformers import SentenceTransformer\n",
    "#import joblib\n",
    "\n",
    "SEED = 42\n",
    "plt.rcParams[\"figure.dpi\"] = 110\n"
   ]
  },
  {
   "cell_type": "code",
   "execution_count": 8,
   "id": "e74ff6da",
   "metadata": {},
   "outputs": [
    {
     "name": "stdout",
     "output_type": "stream",
     "text": [
      "(44898, 6)\n"
     ]
    },
    {
     "data": {
      "application/vnd.microsoft.datawrangler.viewer.v0+json": {
       "columns": [
        {
         "name": "index",
         "rawType": "int64",
         "type": "integer"
        },
        {
         "name": "title",
         "rawType": "object",
         "type": "string"
        },
        {
         "name": "text",
         "rawType": "object",
         "type": "string"
        },
        {
         "name": "state",
         "rawType": "object",
         "type": "string"
        },
        {
         "name": "clean",
         "rawType": "object",
         "type": "string"
        },
        {
         "name": "tokens",
         "rawType": "object",
         "type": "unknown"
        },
        {
         "name": "lemmas",
         "rawType": "object",
         "type": "unknown"
        }
       ],
       "ref": "62c57299-1055-4edd-8a3e-897bae46818d",
       "rows": [
        [
         "0",
         " Donald Trump Sends Out Embarrassing New Year’s Eve Message; This is Disturbing",
         "Donald Trump just couldn t wish all Americans a Happy New Year and leave it at that. Instead, he had to give a shout out to his enemies, haters and  the very dishonest fake news media.  The former reality show star had just one job to do and he couldn t do it. As our Country rapidly grows stronger and smarter, I want to wish all of my friends, supporters, enemies, haters, and even the very dishonest Fake News Media, a Happy and Healthy New Year,  President Angry Pants tweeted.  2018 will be a great year for America! As our Country rapidly grows stronger and smarter, I want to wish all of my friends, supporters, enemies, haters, and even the very dishonest Fake News Media, a Happy and Healthy New Year. 2018 will be a great year for America!  Donald J. Trump (@realDonaldTrump) December 31, 2017Trump s tweet went down about as welll as you d expect.What kind of president sends a New Year s greeting like this despicable, petty, infantile gibberish? Only Trump! His lack of decency won t even allow him to rise above the gutter long enough to wish the American citizens a happy new year!  Bishop Talbert Swan (@TalbertSwan) December 31, 2017no one likes you  Calvin (@calvinstowell) December 31, 2017Your impeachment would make 2018 a great year for America, but I ll also accept regaining control of Congress.  Miranda Yaver (@mirandayaver) December 31, 2017Do you hear yourself talk? When you have to include that many people that hate you you have to wonder? Why do the they all hate me?  Alan Sandoval (@AlanSandoval13) December 31, 2017Who uses the word Haters in a New Years wish??  Marlene (@marlene399) December 31, 2017You can t just say happy new year?  Koren pollitt (@Korencarpenter) December 31, 2017Here s Trump s New Year s Eve tweet from 2016.Happy New Year to all, including to my many enemies and those who have fought me and lost so badly they just don t know what to do. Love!  Donald J. Trump (@realDonaldTrump) December 31, 2016This is nothing new for Trump. He s been doing this for years.Trump has directed messages to his  enemies  and  haters  for New Year s, Easter, Thanksgiving, and the anniversary of 9/11. pic.twitter.com/4FPAe2KypA  Daniel Dale (@ddale8) December 31, 2017Trump s holiday tweets are clearly not presidential.How long did he work at Hallmark before becoming President?  Steven Goodine (@SGoodine) December 31, 2017He s always been like this . . . the only difference is that in the last few years, his filter has been breaking down.  Roy Schulze (@thbthttt) December 31, 2017Who, apart from a teenager uses the term haters?  Wendy (@WendyWhistles) December 31, 2017he s a fucking 5 year old  Who Knows (@rainyday80) December 31, 2017So, to all the people who voted for this a hole thinking he would change once he got into power, you were wrong! 70-year-old men don t change and now he s a year older.Photo by Andrew Burton/Getty Images.",
         "1",
         "donald trump just couldn t wish all americans a happy new year and leave it at that. instead, he had to give a shout out to his enemies, haters and the very dishonest fake news media. the former reality show star had just one job to do and he couldn t do it. as our country rapidly grows stronger and smarter, i want to wish all of my friends, supporters, enemies, haters, and even the very dishonest fake news media, a happy and healthy new year, president angry pants tweeted. will be a great year for america! as our country rapidly grows stronger and smarter, i want to wish all of my friends, supporters, enemies, haters, and even the very dishonest fake news media, a happy and healthy new year. will be a great year for america! donald j. trump ( ) december , trump s tweet went down about as welll as you d expect.what kind of president sends a new year s greeting like this despicable, petty, infantile gibberish? only trump! his lack of decency won t even allow him to rise above the gutter long enough to wish the american citizens a happy new year! bishop talbert swan ( ) december , no one likes you calvin ( ) december , your impeachment would make a great year for america, but i ll also accept regaining control of congress. miranda yaver ( ) december , do you hear yourself talk? when you have to include that many people that hate you you have to wonder? why do the they all hate me? alan sandoval ( ) december , who uses the word haters in a new years wish?? marlene ( ) december , you can t just say happy new year? koren pollitt ( ) december , here s trump s new year s eve tweet from .happy new year to all, including to my many enemies and those who have fought me and lost so badly they just don t know what to do. love! donald j. trump ( ) december , this is nothing new for trump. he s been doing this for years.trump has directed messages to his enemies and haters for new year s, easter, thanksgiving, and the anniversary of / . pic.twitter.com/ fpae kypa daniel dale ( ) december , trump s holiday tweets are clearly not presidential.how long did he work at hallmark before becoming president? steven goodine ( ) december , he s always been like this . . . the only difference is that in the last few years, his filter has been breaking down. roy schulze ( ) december , who, apart from a teenager uses the term haters? wendy ( ) december , he s a fucking year old who knows ( ) december , so, to all the people who voted for this a hole thinking he would change once he got into power, you were wrong! -year-old men don t change and now he s a year older.photo by andrew burton/getty images.",
         "['donald', 'trump', 'wish', 'americans', 'happy', 'new', 'year', 'leave', 'instead', 'give', 'shout', 'enemies', 'haters', 'dishonest', 'fake', 'news', 'media', 'former', 'reality', 'show', 'star', 'one', 'job', 'country', 'rapidly', 'grows', 'stronger', 'smarter', 'want', 'wish', 'friends', 'supporters', 'enemies', 'haters', 'even', 'dishonest', 'fake', 'news', 'media', 'happy', 'healthy', 'new', 'year', 'president', 'angry', 'pants', 'tweeted', 'great', 'year', 'america', 'country', 'rapidly', 'grows', 'stronger', 'smarter', 'want', 'wish', 'friends', 'supporters', 'enemies', 'haters', 'even', 'dishonest', 'fake', 'news', 'media', 'happy', 'healthy', 'new', 'year', 'great', 'year', 'america', 'donald', 'trump', 'december', 'trump', 'tweet', 'went', 'welll', 'expect', 'kind', 'president', 'sends', 'new', 'year', 'greeting', 'like', 'despicable', 'petty', 'infantile', 'gibberish', 'trump', 'lack', 'decency', 'even', 'allow', 'rise', 'gutter', 'long', 'enough', 'wish', 'american', 'citizens', 'happy', 'new', 'year', 'bishop', 'talbert', 'swan', 'december', 'one', 'likes', 'calvin', 'december', 'impeachment', 'would', 'make', 'great', 'year', 'america', 'also', 'accept', 'regaining', 'control', 'congress', 'miranda', 'yaver', 'december', 'hear', 'talk', 'include', 'many', 'people', 'hate', 'wonder', 'hate', 'alan', 'sandoval', 'december', 'uses', 'word', 'haters', 'new', 'years', 'wish', 'marlene', 'december', 'say', 'happy', 'new', 'year', 'koren', 'pollitt', 'december', 'trump', 'new', 'year', 'eve', 'tweet', 'happy', 'new', 'year', 'including', 'many', 'enemies', 'fought', 'lost', 'badly', 'know', 'love', 'donald', 'trump', 'december', 'nothing', 'new', 'trump', 'years', 'trump', 'directed', 'messages', 'enemies', 'haters', 'new', 'year', 'easter', 'thanksgiving', 'anniversary', 'pic', 'twitter', 'com', 'fpae', 'kypa', 'daniel', 'dale', 'december', 'trump', 'holiday', 'tweets', 'clearly', 'not', 'presidential', 'long', 'work', 'hallmark', 'becoming', 'president', 'steven', 'goodine', 'december', 'always', 'like', 'difference', 'last', 'years', 'filter', 'breaking', 'roy', 'schulze', 'december', 'apart', 'teenager', 'uses', 'term', 'haters', 'wendy', 'december', 'fucking', 'year', 'old', 'knows', 'december', 'people', 'voted', 'hole', 'thinking', 'would', 'change', 'got', 'power', 'wrong', 'year', 'old', 'men', 'change', 'year', 'older', 'photo', 'andrew', 'burton', 'getty', 'images']",
         "['donald', 'trump', 'wish', 'american', 'happy', 'new', 'year', 'leave', 'instead', 'give', 'shout', 'enemy', 'hater', 'dishonest', 'fake', 'news', 'medium', 'former', 'reality', 'show', 'star', 'one', 'job', 'country', 'rapidly', 'grow', 'strong', 'smarter', 'want', 'wish', 'friend', 'supporter', 'enemies', 'hater', 'even', 'dishonest', 'fake', 'news', 'medium', 'happy', 'healthy', 'new', 'year', 'president', 'angry', 'pant', 'tweet', 'great', 'year', 'america', 'country', 'rapidly', 'grow', 'strong', 'smarter', 'want', 'wish', 'friend', 'supporter', 'enemies', 'hater', 'even', 'dishonest', 'fake', 'news', 'medium', 'happy', 'healthy', 'new', 'year', 'great', 'year', 'america', 'donald', 'trump', 'december', 'trump', 'tweet', 'go', 'welll', 'expect', 'kind', 'president', 'send', 'new', 'year', 'greet', 'like', 'despicable', 'petty', 'infantile', 'gibberish', 'trump', 'lack', 'decency', 'even', 'allow', 'rise', 'gutter', 'long', 'enough', 'wish', 'american', 'citizen', 'happy', 'new', 'year', 'bishop', 'talbert', 'swan', 'december', 'one', 'like', 'calvin', 'december', 'impeachment', 'would', 'make', 'great', 'year', 'america', 'also', 'accept', 'regain', 'control', 'congress', 'miranda', 'yaver', 'december', 'hear', 'talk', 'include', 'many', 'people', 'hate', 'wonder', 'hate', 'alan', 'sandoval', 'december', 'use', 'word', 'hater', 'new', 'year', 'wish', 'marlene', 'december', 'say', 'happy', 'new', 'year', 'koren', 'pollitt', 'december', 'trump', 'new', 'year', 'eve', 'tweet', 'happy', 'new', 'year', 'include', 'many', 'enemy', 'fight', 'lose', 'badly', 'know', 'love', 'donald', 'trump', 'december', 'nothing', 'new', 'trump', 'year', 'trump', 'direct', 'message', 'enemy', 'hater', 'new', 'year', 'easter', 'thanksgiving', 'anniversary', 'pic', 'twitter', 'com', 'fpae', 'kypa', 'daniel', 'dale', 'december', 'trump', 'holiday', 'tweet', 'clearly', 'not', 'presidential', 'long', 'work', 'hallmark', 'become', 'president', 'steven', 'goodine', 'december', 'always', 'like', 'difference', 'last', 'year', 'filter', 'break', 'roy', 'schulze', 'december', 'apart', 'teenager', 'uses', 'term', 'hater', 'wendy', 'december', 'fucking', 'year', 'old', 'know', 'december', 'people', 'vote', 'hole', 'thinking', 'would', 'change', 'get', 'power', 'wrong', 'year', 'old', 'men', 'change', 'year', 'older', 'photo', 'andrew', 'burton', 'getty', 'image']"
        ],
        [
         "1",
         " Drunk Bragging Trump Staffer Started Russian Collusion Investigation",
         "House Intelligence Committee Chairman Devin Nunes is going to have a bad day. He s been under the assumption, like many of us, that the Christopher Steele-dossier was what prompted the Russia investigation so he s been lashing out at the Department of Justice and the FBI in order to protect Trump. As it happens, the dossier is not what started the investigation, according to documents obtained by the New York Times.Former Trump campaign adviser George Papadopoulos was drunk in a wine bar when he revealed knowledge of Russian opposition research on Hillary Clinton.On top of that, Papadopoulos wasn t just a covfefe boy for Trump, as his administration has alleged. He had a much larger role, but none so damning as being a drunken fool in a wine bar. Coffee boys  don t help to arrange a New York meeting between Trump and President Abdel Fattah el-Sisi of Egypt two months before the election. It was known before that the former aide set up meetings with world leaders for Trump, but team Trump ran with him being merely a coffee boy.In May 2016, Papadopoulos revealed to Australian diplomat Alexander Downer that Russian officials were shopping around possible dirt on then-Democratic presidential nominee Hillary Clinton. Exactly how much Mr. Papadopoulos said that night at the Kensington Wine Rooms with the Australian, Alexander Downer, is unclear,  the report states.  But two months later, when leaked Democratic emails began appearing online, Australian officials passed the information about Mr. Papadopoulos to their American counterparts, according to four current and former American and foreign officials with direct knowledge of the Australians  role. Papadopoulos pleaded guilty to lying to the F.B.I. and is now a cooperating witness with Special Counsel Robert Mueller s team.This isn t a presidency. It s a badly scripted reality TV show.Photo by Win McNamee/Getty Images.",
         "1",
         "house intelligence committee chairman devin nunes is going to have a bad day. he s been under the assumption, like many of us, that the christopher steele-dossier was what prompted the russia investigation so he s been lashing out at the department of justice and the fbi in order to protect trump. as it happens, the dossier is not what started the investigation, according to documents obtained by the new york times.former trump campaign adviser george papadopoulos was drunk in a wine bar when he revealed knowledge of russian opposition research on hillary clinton.on top of that, papadopoulos wasn t just a covfefe boy for trump, as his administration has alleged. he had a much larger role, but none so damning as being a drunken fool in a wine bar. coffee boys don t help to arrange a new york meeting between trump and president abdel fattah el-sisi of egypt two months before the election. it was known before that the former aide set up meetings with world leaders for trump, but team trump ran with him being merely a coffee boy.in may , papadopoulos revealed to australian diplomat alexander downer that russian officials were shopping around possible dirt on then-democratic presidential nominee hillary clinton. exactly how much mr. papadopoulos said that night at the kensington wine rooms with the australian, alexander downer, is unclear, the report states. but two months later, when leaked democratic emails began appearing online, australian officials passed the information about mr. papadopoulos to their american counterparts, according to four current and former american and foreign officials with direct knowledge of the australians role. papadopoulos pleaded guilty to lying to the f.b.i. and is now a cooperating witness with special counsel robert mueller s team.this isn t a presidency. it s a badly scripted reality tv show.photo by win mcnamee/getty images.",
         "['house', 'intelligence', 'committee', 'chairman', 'devin', 'nunes', 'going', 'bad', 'day', 'assumption', 'like', 'many', 'christopher', 'steele', 'dossier', 'prompted', 'russia', 'investigation', 'lashing', 'department', 'justice', 'fbi', 'order', 'protect', 'trump', 'happens', 'dossier', 'not', 'started', 'investigation', 'according', 'documents', 'obtained', 'new', 'york', 'times', 'former', 'trump', 'campaign', 'adviser', 'george', 'papadopoulos', 'drunk', 'wine', 'bar', 'revealed', 'knowledge', 'russian', 'opposition', 'research', 'hillary', 'clinton', 'top', 'papadopoulos', 'covfefe', 'boy', 'trump', 'administration', 'alleged', 'much', 'larger', 'role', 'none', 'damning', 'drunken', 'fool', 'wine', 'bar', 'coffee', 'boys', 'help', 'arrange', 'new', 'york', 'meeting', 'trump', 'president', 'abdel', 'fattah', 'sisi', 'egypt', 'two', 'months', 'election', 'known', 'former', 'aide', 'set', 'meetings', 'world', 'leaders', 'trump', 'team', 'trump', 'ran', 'merely', 'coffee', 'boy', 'may', 'papadopoulos', 'revealed', 'australian', 'diplomat', 'alexander', 'downer', 'russian', 'officials', 'shopping', 'around', 'possible', 'dirt', 'democratic', 'presidential', 'nominee', 'hillary', 'clinton', 'exactly', 'much', 'papadopoulos', 'said', 'night', 'kensington', 'wine', 'rooms', 'australian', 'alexander', 'downer', 'unclear', 'report', 'states', 'two', 'months', 'later', 'leaked', 'democratic', 'emails', 'began', 'appearing', 'online', 'australian', 'officials', 'passed', 'information', 'papadopoulos', 'american', 'counterparts', 'according', 'four', 'current', 'former', 'american', 'foreign', 'officials', 'direct', 'knowledge', 'australians', 'role', 'papadopoulos', 'pleaded', 'guilty', 'lying', 'cooperating', 'witness', 'special', 'counsel', 'robert', 'mueller', 'team', 'presidency', 'badly', 'scripted', 'reality', 'show', 'photo', 'win', 'mcnamee', 'getty', 'images']",
         "['house', 'intelligence', 'committee', 'chairman', 'devin', 'nunes', 'go', 'bad', 'day', 'assumption', 'like', 'many', 'christopher', 'steele', 'dossier', 'prompt', 'russia', 'investigation', 'lash', 'department', 'justice', 'fbi', 'order', 'protect', 'trump', 'happens', 'dossier', 'not', 'start', 'investigation', 'accord', 'document', 'obtain', 'new', 'york', 'time', 'former', 'trump', 'campaign', 'adviser', 'george', 'papadopoulos', 'drunk', 'wine', 'bar', 'reveal', 'knowledge', 'russian', 'opposition', 'research', 'hillary', 'clinton', 'top', 'papadopoulos', 'covfefe', 'boy', 'trump', 'administration', 'allege', 'much', 'large', 'role', 'none', 'damn', 'drunken', 'fool', 'wine', 'bar', 'coffee', 'boys', 'help', 'arrange', 'new', 'york', 'meeting', 'trump', 'president', 'abdel', 'fattah', 'sisi', 'egypt', 'two', 'month', 'election', 'know', 'former', 'aide', 'set', 'meeting', 'world', 'leader', 'trump', 'team', 'trump', 'run', 'merely', 'coffee', 'boy', 'may', 'papadopoulos', 'revealed', 'australian', 'diplomat', 'alexander', 'downer', 'russian', 'official', 'shop', 'around', 'possible', 'dirt', 'democratic', 'presidential', 'nominee', 'hillary', 'clinton', 'exactly', 'much', 'papadopoulos', 'say', 'night', 'kensington', 'wine', 'room', 'australian', 'alexander', 'downer', 'unclear', 'report', 'state', 'two', 'month', 'later', 'leak', 'democratic', 'email', 'begin', 'appear', 'online', 'australian', 'official', 'pass', 'information', 'papadopoulos', 'american', 'counterpart', 'accord', 'four', 'current', 'former', 'american', 'foreign', 'official', 'direct', 'knowledge', 'australian', 'role', 'papadopoulos', 'plead', 'guilty', 'lie', 'cooperate', 'witness', 'special', 'counsel', 'robert', 'mueller', 'team', 'presidency', 'badly', 'script', 'reality', 'show', 'photo', 'win', 'mcnamee', 'getty', 'image']"
        ]
       ],
       "shape": {
        "columns": 6,
        "rows": 2
       }
      },
      "text/html": [
       "<div>\n",
       "<style scoped>\n",
       "    .dataframe tbody tr th:only-of-type {\n",
       "        vertical-align: middle;\n",
       "    }\n",
       "\n",
       "    .dataframe tbody tr th {\n",
       "        vertical-align: top;\n",
       "    }\n",
       "\n",
       "    .dataframe thead th {\n",
       "        text-align: right;\n",
       "    }\n",
       "</style>\n",
       "<table border=\"1\" class=\"dataframe\">\n",
       "  <thead>\n",
       "    <tr style=\"text-align: right;\">\n",
       "      <th></th>\n",
       "      <th>title</th>\n",
       "      <th>text</th>\n",
       "      <th>state</th>\n",
       "      <th>clean</th>\n",
       "      <th>tokens</th>\n",
       "      <th>lemmas</th>\n",
       "    </tr>\n",
       "  </thead>\n",
       "  <tbody>\n",
       "    <tr>\n",
       "      <th>0</th>\n",
       "      <td>Donald Trump Sends Out Embarrassing New Year’...</td>\n",
       "      <td>Donald Trump just couldn t wish all Americans ...</td>\n",
       "      <td>1</td>\n",
       "      <td>donald trump just couldn t wish all americans ...</td>\n",
       "      <td>[donald, trump, wish, americans, happy, new, y...</td>\n",
       "      <td>[donald, trump, wish, american, happy, new, ye...</td>\n",
       "    </tr>\n",
       "    <tr>\n",
       "      <th>1</th>\n",
       "      <td>Drunk Bragging Trump Staffer Started Russian ...</td>\n",
       "      <td>House Intelligence Committee Chairman Devin Nu...</td>\n",
       "      <td>1</td>\n",
       "      <td>house intelligence committee chairman devin nu...</td>\n",
       "      <td>[house, intelligence, committee, chairman, dev...</td>\n",
       "      <td>[house, intelligence, committee, chairman, dev...</td>\n",
       "    </tr>\n",
       "  </tbody>\n",
       "</table>\n",
       "</div>"
      ],
      "text/plain": [
       "                                               title  \\\n",
       "0   Donald Trump Sends Out Embarrassing New Year’...   \n",
       "1   Drunk Bragging Trump Staffer Started Russian ...   \n",
       "\n",
       "                                                text state  \\\n",
       "0  Donald Trump just couldn t wish all Americans ...     1   \n",
       "1  House Intelligence Committee Chairman Devin Nu...     1   \n",
       "\n",
       "                                               clean  \\\n",
       "0  donald trump just couldn t wish all americans ...   \n",
       "1  house intelligence committee chairman devin nu...   \n",
       "\n",
       "                                              tokens  \\\n",
       "0  [donald, trump, wish, americans, happy, new, y...   \n",
       "1  [house, intelligence, committee, chairman, dev...   \n",
       "\n",
       "                                              lemmas  \n",
       "0  [donald, trump, wish, american, happy, new, ye...  \n",
       "1  [house, intelligence, committee, chairman, dev...  "
      ]
     },
     "execution_count": 8,
     "metadata": {},
     "output_type": "execute_result"
    }
   ],
   "source": [
    "from pymongo import MongoClient\n",
    "import pandas as pd\n",
    "\n",
    "MONGO_URI = \"mongodb://localhost:27017/\"\n",
    "DB_NAME   = \"News\"\n",
    "COLL_NAME = \"rawData\"     # usa procData (contiene clean/tokens/lemmas)\n",
    "LABEL_COL = \"state\"      # oppure \"state\" se vuoi classificare lo state\n",
    "\n",
    "client = MongoClient(MONGO_URI)\n",
    "coll = client[DB_NAME][COLL_NAME]\n",
    "\n",
    "# Ignoro \"Unnamed: 0\" direttamente in projection\n",
    "FIELDS = {\n",
    "    \"_id\": 0, \"title\": 1, \"text\": 1, \"clean\": 1,\n",
    "    \"tokens\": 1, \"lemmas\": 1, LABEL_COL: 1\n",
    "}\n",
    "docs = list(coll.find({}, FIELDS))\n",
    "df = pd.DataFrame(docs)\n",
    "\n",
    "# Filtri minimi\n",
    "df = df.dropna(subset=[LABEL_COL]).copy()\n",
    "df[LABEL_COL] = df[LABEL_COL].astype(str)\n",
    "print(df.shape)\n",
    "df.head(2)\n"
   ]
  },
  {
   "cell_type": "code",
   "execution_count": 9,
   "id": "1c1c78b6",
   "metadata": {},
   "outputs": [
    {
     "name": "stdout",
     "output_type": "stream",
     "text": [
      "Embedding model: sentence-transformers/all-MiniLM-L6-v2 on cpu\n"
     ]
    }
   ],
   "source": [
    "# Opzioni di modelli di transformers diversi per esigenze diverse \n",
    "\n",
    "# MODEL_NAME = \"sentence-transformers/all-MiniLM-L6-v2\"        # 384d, molto veloce (CPU ok)\n",
    "# MODEL_NAME = \"BAAI/bge-small-en-v1.5\"                        # 384d, piccolo ma moderno\n",
    "# MODEL_NAME = \"sentence-transformers/all-mpnet-base-v2\"       # 768d, qualità alta (meglio con GPU)\n",
    "# MODEL_NAME = \"intfloat/e5-base-v2\"                           # 768d, moderno (GPU consigliata)\n",
    "# MODEL_NAME = \"BAAI/bge-base-en-v1.5\"                         # 768d, moderno (GPU consigliata)\n",
    "\n",
    "\n",
    "MODEL_NAME = \"sentence-transformers/all-MiniLM-L6-v2\"  # <-- default sicuro\n",
    "\n",
    "import torch\n",
    "from sentence_transformers import SentenceTransformer\n",
    "\n",
    "device = \"cuda\" if torch.cuda.is_available() else \"cpu\"\n",
    "embedder = SentenceTransformer(MODEL_NAME, device=device)\n",
    "\n",
    "# (Opzionale) limita la lunghezza se i testi sono lunghi:\n",
    "# embedder.max_seq_length = 256  # 256/384/512: più lungo = più costo, a volte migliore\n",
    "\n",
    "print(f\"Embedding model: {MODEL_NAME} on {device}\")\n"
   ]
  },
  {
   "cell_type": "code",
   "execution_count": 10,
   "id": "7c9bb4db",
   "metadata": {},
   "outputs": [
    {
     "name": "stderr",
     "output_type": "stream",
     "text": [
      "Batches: 100%|██████████| 351/351 [19:57<00:00,  3.41s/it]\n"
     ]
    },
    {
     "name": "stdout",
     "output_type": "stream",
     "text": [
      "Shape embedding: (44898, 384)  | Target shape: (44898,)\n"
     ]
    }
   ],
   "source": [
    "# Embed tutto il dataset in un'unica matrice\n",
    "X_emb = embedder.encode(\n",
    "    df[\"clean\"].tolist(),\n",
    "    batch_size=128,\n",
    "    show_progress_bar=True,\n",
    "    convert_to_numpy=True,\n",
    "    normalize_embeddings=True\n",
    ")\n",
    "\n",
    "y = df[\"state\"].astype(int).values\n",
    "\n",
    "print(\"Shape embedding:\", X_emb.shape, \" | Target shape:\", y.shape)\n"
   ]
  },
  {
   "cell_type": "code",
   "execution_count": 11,
   "id": "47becb87",
   "metadata": {},
   "outputs": [
    {
     "data": {
      "text/plain": [
       "((35918, 384), (8980, 384))"
      ]
     },
     "execution_count": 11,
     "metadata": {},
     "output_type": "execute_result"
    }
   ],
   "source": [
    "from sklearn.model_selection import train_test_split\n",
    "\n",
    "X_train_emb, X_test_emb, y_train, y_test = train_test_split(\n",
    "    X_emb, y, test_size=0.2, random_state=SEED, stratify=y\n",
    ")\n",
    "\n",
    "X_train_emb.shape, X_test_emb.shape\n"
   ]
  },
  {
   "cell_type": "code",
   "execution_count": null,
   "id": "1ed3cbc6",
   "metadata": {},
   "outputs": [
    {
     "name": "stdout",
     "output_type": "stream",
     "text": [
      "Done.\n"
     ]
    }
   ],
   "source": [
    "'''\n",
    "import numpy as np, math\n",
    "\n",
    "client = MongoClient(\"mongodb://localhost:27017/\")\n",
    "coll = client[\"News\"][\"features_transf\"]\n",
    "coll.delete_many({})\n",
    "\n",
    "X32 = X_emb.astype(np.float32); y_arr = np.asarray(y)\n",
    "CHUNK = 2000\n",
    "for i in range(0, len(y_arr), CHUNK):\n",
    "    a, b = i, min(i+CHUNK, len(y_arr))\n",
    "    coll.insert_one({\"idx\": i//CHUNK, \"X\": X32[a:b].tolist(), \"y\": y_arr[a:b].tolist()})\n",
    "coll.create_index(\"idx\")\n",
    "print(\"Done.\")\n",
    "'''"
   ]
  },
  {
   "cell_type": "code",
   "execution_count": 13,
   "id": "412f59bc",
   "metadata": {},
   "outputs": [
    {
     "name": "stdout",
     "output_type": "stream",
     "text": [
      "(44898, 384) (44898,)\n"
     ]
    }
   ],
   "source": [
    "import numpy as np\n",
    "from pymongo import MongoClient\n",
    "\n",
    "client = MongoClient(\"mongodb://localhost:27017/\")\n",
    "coll = client[\"News\"][\"features_transf\"]\n",
    "\n",
    "X_list, y_list = [], []\n",
    "for d in coll.find({}, {\"_id\":0}).sort(\"idx\", 1):\n",
    "    X_list.extend(d[\"X\"])\n",
    "    y_list.extend(d[\"y\"])\n",
    "X_rec = np.array(X_list, dtype=np.float32)\n",
    "y_rec = np.array(y_list)\n",
    "print(X_rec.shape, y_rec.shape)"
   ]
  },
  {
   "cell_type": "code",
   "execution_count": 14,
   "id": "6998b035",
   "metadata": {},
   "outputs": [
    {
     "data": {
      "text/plain": [
       "((35918, 384), (8980, 384))"
      ]
     },
     "execution_count": 14,
     "metadata": {},
     "output_type": "execute_result"
    }
   ],
   "source": [
    "from sklearn.model_selection import train_test_split\n",
    "\n",
    "X_train_emb, X_test_emb, y_train, y_test = train_test_split(\n",
    "    X_emb, y, test_size=0.2, random_state=SEED, stratify=y\n",
    ")\n",
    "\n",
    "X_train_emb.shape, X_test_emb.shape"
   ]
  },
  {
   "cell_type": "code",
   "execution_count": 15,
   "id": "bb1ee1c0",
   "metadata": {},
   "outputs": [
    {
     "data": {
      "text/plain": [
       "array([[-0.05373993, -0.01966593,  0.02369131, ..., -0.11858005,\n",
       "        -0.0891118 , -0.04372675],\n",
       "       [-0.02469663, -0.01788776,  0.04870337, ..., -0.08258857,\n",
       "         0.00426046,  0.11564673],\n",
       "       [ 0.0652147 , -0.02422116,  0.03621315, ..., -0.01041754,\n",
       "         0.10041754, -0.06307046],\n",
       "       ...,\n",
       "       [-0.05759527, -0.00147702, -0.01152975, ..., -0.04982142,\n",
       "        -0.00213465, -0.04494958],\n",
       "       [-0.05222053,  0.01802159,  0.02505019, ..., -0.05178549,\n",
       "        -0.03336233, -0.02565379],\n",
       "       [ 0.06124287, -0.01602727,  0.08506294, ..., -0.0320912 ,\n",
       "        -0.049518  ,  0.07359471]], shape=(35918, 384), dtype=float32)"
      ]
     },
     "execution_count": 15,
     "metadata": {},
     "output_type": "execute_result"
    }
   ],
   "source": [
    "X_train_emb"
   ]
  },
  {
   "cell_type": "code",
   "execution_count": 16,
   "id": "c789098e",
   "metadata": {},
   "outputs": [],
   "source": [
    "scaler = StandardScaler()\n",
    "X_train_scaled = scaler.fit_transform(X_train_emb)\n",
    "X_test_scaled  = scaler.transform(X_test_emb)\n"
   ]
  },
  {
   "cell_type": "code",
   "execution_count": 18,
   "id": "aa433279",
   "metadata": {},
   "outputs": [],
   "source": [
    "models = {\n",
    "    \"LogReg\": LogisticRegression(max_iter=2000, random_state=SEED, class_weight=\"balanced\"),\n",
    "    \"LinearSVM\": LinearSVC(random_state=SEED, class_weight=\"balanced\"),\n",
    "    \"RandomForest\": RandomForestClassifier(n_estimators=300, random_state=SEED),\n",
    "    \"GaussianNB\": GaussianNB(),\n",
    "    \"DecisionTree\": DecisionTreeClassifier(random_state=SEED),\n",
    "    \"KNN\": KNeighborsClassifier(n_neighbors=5)\n",
    "}\n"
   ]
  },
  {
   "cell_type": "code",
   "execution_count": 19,
   "id": "242233ed",
   "metadata": {},
   "outputs": [
    {
     "name": "stdout",
     "output_type": "stream",
     "text": [
      "\n",
      "=== LogReg ===\n",
      "\n",
      "=== LinearSVM ===\n",
      "\n",
      "=== RandomForest ===\n",
      "\n",
      "=== GaussianNB ===\n",
      "\n",
      "=== DecisionTree ===\n",
      "\n",
      "=== KNN ===\n"
     ]
    },
    {
     "data": {
      "application/vnd.microsoft.datawrangler.viewer.v0+json": {
       "columns": [
        {
         "name": "index",
         "rawType": "int64",
         "type": "integer"
        },
        {
         "name": "model",
         "rawType": "object",
         "type": "string"
        },
        {
         "name": "accuracy",
         "rawType": "float64",
         "type": "float"
        },
        {
         "name": "precision",
         "rawType": "float64",
         "type": "float"
        },
        {
         "name": "recall",
         "rawType": "float64",
         "type": "float"
        },
        {
         "name": "f1",
         "rawType": "float64",
         "type": "float"
        }
       ],
       "ref": "b58b30d8-6080-4cca-be9c-ae6938c0fe33",
       "rows": [
        [
         "0",
         "LogReg",
         "0.9700445434298441",
         "0.9722637081288671",
         "0.9704003407155025",
         "0.9713311307684109"
        ],
        [
         "1",
         "LinearSVM",
         "0.9698218262806236",
         "0.9722518676627535",
         "0.9699744463373083",
         "0.9711118217674022"
        ],
        [
         "2",
         "RandomForest",
         "0.9266146993318486",
         "0.9218390804597701",
         "0.9393100511073254",
         "0.9304925640755195"
        ],
        [
         "3",
         "KNN",
         "0.8952115812917595",
         "0.9321058688147296",
         "0.8624361158432708",
         "0.8959185930759872"
        ],
        [
         "4",
         "GaussianNB",
         "0.8691536748329621",
         "0.8769000214086919",
         "0.8722316865417377",
         "0.8745596242126614"
        ],
        [
         "5",
         "DecisionTree",
         "0.8304008908685969",
         "0.8203109226731274",
         "0.8652044293015332",
         "0.8421598093066639"
        ]
       ],
       "shape": {
        "columns": 5,
        "rows": 6
       }
      },
      "text/html": [
       "<div>\n",
       "<style scoped>\n",
       "    .dataframe tbody tr th:only-of-type {\n",
       "        vertical-align: middle;\n",
       "    }\n",
       "\n",
       "    .dataframe tbody tr th {\n",
       "        vertical-align: top;\n",
       "    }\n",
       "\n",
       "    .dataframe thead th {\n",
       "        text-align: right;\n",
       "    }\n",
       "</style>\n",
       "<table border=\"1\" class=\"dataframe\">\n",
       "  <thead>\n",
       "    <tr style=\"text-align: right;\">\n",
       "      <th></th>\n",
       "      <th>model</th>\n",
       "      <th>accuracy</th>\n",
       "      <th>precision</th>\n",
       "      <th>recall</th>\n",
       "      <th>f1</th>\n",
       "    </tr>\n",
       "  </thead>\n",
       "  <tbody>\n",
       "    <tr>\n",
       "      <th>0</th>\n",
       "      <td>LogReg</td>\n",
       "      <td>0.970045</td>\n",
       "      <td>0.972264</td>\n",
       "      <td>0.970400</td>\n",
       "      <td>0.971331</td>\n",
       "    </tr>\n",
       "    <tr>\n",
       "      <th>1</th>\n",
       "      <td>LinearSVM</td>\n",
       "      <td>0.969822</td>\n",
       "      <td>0.972252</td>\n",
       "      <td>0.969974</td>\n",
       "      <td>0.971112</td>\n",
       "    </tr>\n",
       "    <tr>\n",
       "      <th>2</th>\n",
       "      <td>RandomForest</td>\n",
       "      <td>0.926615</td>\n",
       "      <td>0.921839</td>\n",
       "      <td>0.939310</td>\n",
       "      <td>0.930493</td>\n",
       "    </tr>\n",
       "    <tr>\n",
       "      <th>3</th>\n",
       "      <td>KNN</td>\n",
       "      <td>0.895212</td>\n",
       "      <td>0.932106</td>\n",
       "      <td>0.862436</td>\n",
       "      <td>0.895919</td>\n",
       "    </tr>\n",
       "    <tr>\n",
       "      <th>4</th>\n",
       "      <td>GaussianNB</td>\n",
       "      <td>0.869154</td>\n",
       "      <td>0.876900</td>\n",
       "      <td>0.872232</td>\n",
       "      <td>0.874560</td>\n",
       "    </tr>\n",
       "    <tr>\n",
       "      <th>5</th>\n",
       "      <td>DecisionTree</td>\n",
       "      <td>0.830401</td>\n",
       "      <td>0.820311</td>\n",
       "      <td>0.865204</td>\n",
       "      <td>0.842160</td>\n",
       "    </tr>\n",
       "  </tbody>\n",
       "</table>\n",
       "</div>"
      ],
      "text/plain": [
       "          model  accuracy  precision    recall        f1\n",
       "0        LogReg  0.970045   0.972264  0.970400  0.971331\n",
       "1     LinearSVM  0.969822   0.972252  0.969974  0.971112\n",
       "2  RandomForest  0.926615   0.921839  0.939310  0.930493\n",
       "3           KNN  0.895212   0.932106  0.862436  0.895919\n",
       "4    GaussianNB  0.869154   0.876900  0.872232  0.874560\n",
       "5  DecisionTree  0.830401   0.820311  0.865204  0.842160"
      ]
     },
     "metadata": {},
     "output_type": "display_data"
    },
    {
     "name": "stdout",
     "output_type": "stream",
     "text": [
      "\n",
      ">>> LogReg — Classification Report\n",
      "              precision    recall  f1-score   support\n",
      "\n",
      "           0      0.968     0.970     0.969      4284\n",
      "           1      0.972     0.970     0.971      4696\n",
      "\n",
      "    accuracy                          0.970      8980\n",
      "   macro avg      0.970     0.970     0.970      8980\n",
      "weighted avg      0.970     0.970     0.970      8980\n",
      "\n",
      "\n",
      ">>> LinearSVM — Classification Report\n",
      "              precision    recall  f1-score   support\n",
      "\n",
      "           0      0.967     0.970     0.968      4284\n",
      "           1      0.972     0.970     0.971      4696\n",
      "\n",
      "    accuracy                          0.970      8980\n",
      "   macro avg      0.970     0.970     0.970      8980\n",
      "weighted avg      0.970     0.970     0.970      8980\n",
      "\n",
      "\n",
      ">>> RandomForest — Classification Report\n",
      "              precision    recall  f1-score   support\n",
      "\n",
      "           0      0.932     0.913     0.922      4284\n",
      "           1      0.922     0.939     0.930      4696\n",
      "\n",
      "    accuracy                          0.927      8980\n",
      "   macro avg      0.927     0.926     0.926      8980\n",
      "weighted avg      0.927     0.927     0.927      8980\n",
      "\n",
      "\n",
      ">>> KNN — Classification Report\n",
      "              precision    recall  f1-score   support\n",
      "\n",
      "           0      0.861     0.931     0.894      4284\n",
      "           1      0.932     0.862     0.896      4696\n",
      "\n",
      "    accuracy                          0.895      8980\n",
      "   macro avg      0.896     0.897     0.895      8980\n",
      "weighted avg      0.898     0.895     0.895      8980\n",
      "\n",
      "\n",
      ">>> GaussianNB — Classification Report\n",
      "              precision    recall  f1-score   support\n",
      "\n",
      "           0      0.861     0.866     0.863      4284\n",
      "           1      0.877     0.872     0.875      4696\n",
      "\n",
      "    accuracy                          0.869      8980\n",
      "   macro avg      0.869     0.869     0.869      8980\n",
      "weighted avg      0.869     0.869     0.869      8980\n",
      "\n",
      "\n",
      ">>> DecisionTree — Classification Report\n",
      "              precision    recall  f1-score   support\n",
      "\n",
      "           0      0.843     0.792     0.817      4284\n",
      "           1      0.820     0.865     0.842      4696\n",
      "\n",
      "    accuracy                          0.830      8980\n",
      "   macro avg      0.832     0.829     0.829      8980\n",
      "weighted avg      0.831     0.830     0.830      8980\n",
      "\n"
     ]
    }
   ],
   "source": [
    "USE_SCALED = True  # True per KNN/NB/Tree/Forest; False ok per SVM/LogReg\n",
    "\n",
    "Xtr = X_train_scaled if USE_SCALED else X_train_emb\n",
    "Xte = X_test_scaled  if USE_SCALED else X_test_emb\n",
    "\n",
    "results, reports, conf_mats = [], {}, {}\n",
    "\n",
    "for name, model in models.items():\n",
    "    print(f\"\\n=== {name} ===\")\n",
    "    model.fit(Xtr, y_train)\n",
    "    y_pred = model.predict(Xte)\n",
    "    \n",
    "    acc = accuracy_score(y_test, y_pred)\n",
    "    prec, rec, f1, _ = precision_recall_fscore_support(\n",
    "        y_test, y_pred, average=\"binary\", zero_division=0\n",
    "    )\n",
    "    results.append({\"model\": name, \"accuracy\": acc, \"precision\": prec, \"recall\": rec, \"f1\": f1})\n",
    "    reports[name] = classification_report(y_test, y_pred, digits=3)\n",
    "    conf_mats[name] = confusion_matrix(y_test, y_pred)\n",
    "\n",
    "res_df = pd.DataFrame(results).sort_values(\"f1\", ascending=False).reset_index(drop=True)\n",
    "display(res_df)\n",
    "\n",
    "for name in res_df[\"model\"]:\n",
    "    print(f\"\\n>>> {name} — Classification Report\")\n",
    "    print(reports[name])\n"
   ]
  },
  {
   "cell_type": "code",
   "execution_count": 20,
   "id": "2e15ad32",
   "metadata": {},
   "outputs": [
    {
     "data": {
      "image/png": "[encoded data removed]",
      "text/plain": [
       "<Figure size 440x440 with 1 Axes>"
      ]
     },
     "metadata": {},
     "output_type": "display_data"
    }
   ],
   "source": [
    "best_name = res_df.iloc[0][\"model\"]\n",
    "cm = conf_mats[best_name]\n",
    "disp = ConfusionMatrixDisplay(confusion_matrix=cm)\n",
    "fig, ax = plt.subplots(figsize=(4,4))\n",
    "disp.plot(ax=ax, colorbar=False)\n",
    "plt.title(f\"Confusion Matrix — {best_name}\")\n",
    "plt.tight_layout(); plt.show()\n"
   ]
  },
  {
   "cell_type": "code",
   "execution_count": 22,
   "id": "9799e4d3",
   "metadata": {},
   "outputs": [
    {
     "data": {
      "application/vnd.microsoft.datawrangler.viewer.v0+json": {
       "columns": [
        {
         "name": "index",
         "rawType": "int64",
         "type": "integer"
        },
        {
         "name": "model",
         "rawType": "object",
         "type": "string"
        },
        {
         "name": "accuracy",
         "rawType": "float64",
         "type": "float"
        },
        {
         "name": "precision",
         "rawType": "float64",
         "type": "float"
        },
        {
         "name": "recall",
         "rawType": "float64",
         "type": "float"
        },
        {
         "name": "f1",
         "rawType": "float64",
         "type": "float"
        }
       ],
       "ref": "5f8d6edf-22be-4ffb-9678-86850372c8b8",
       "rows": [
        [
         "0",
         "LogReg",
         "0.9700445434298441",
         "0.9722637081288671",
         "0.9704003407155025",
         "0.9713311307684109"
        ],
        [
         "1",
         "LinearSVM",
         "0.9698218262806236",
         "0.9722518676627535",
         "0.9699744463373083",
         "0.9711118217674022"
        ],
        [
         "2",
         "RandomForest",
         "0.9266146993318486",
         "0.9218390804597701",
         "0.9393100511073254",
         "0.9304925640755195"
        ],
        [
         "3",
         "KNN",
         "0.8952115812917595",
         "0.9321058688147296",
         "0.8624361158432708",
         "0.8959185930759872"
        ],
        [
         "4",
         "GaussianNB",
         "0.8691536748329621",
         "0.8769000214086919",
         "0.8722316865417377",
         "0.8745596242126614"
        ],
        [
         "5",
         "DecisionTree",
         "0.8304008908685969",
         "0.8203109226731274",
         "0.8652044293015332",
         "0.8421598093066639"
        ]
       ],
       "shape": {
        "columns": 5,
        "rows": 6
       }
      },
      "text/html": [
       "<div>\n",
       "<style scoped>\n",
       "    .dataframe tbody tr th:only-of-type {\n",
       "        vertical-align: middle;\n",
       "    }\n",
       "\n",
       "    .dataframe tbody tr th {\n",
       "        vertical-align: top;\n",
       "    }\n",
       "\n",
       "    .dataframe thead th {\n",
       "        text-align: right;\n",
       "    }\n",
       "</style>\n",
       "<table border=\"1\" class=\"dataframe\">\n",
       "  <thead>\n",
       "    <tr style=\"text-align: right;\">\n",
       "      <th></th>\n",
       "      <th>model</th>\n",
       "      <th>accuracy</th>\n",
       "      <th>precision</th>\n",
       "      <th>recall</th>\n",
       "      <th>f1</th>\n",
       "    </tr>\n",
       "  </thead>\n",
       "  <tbody>\n",
       "    <tr>\n",
       "      <th>0</th>\n",
       "      <td>LogReg</td>\n",
       "      <td>0.970045</td>\n",
       "      <td>0.972264</td>\n",
       "      <td>0.970400</td>\n",
       "      <td>0.971331</td>\n",
       "    </tr>\n",
       "    <tr>\n",
       "      <th>1</th>\n",
       "      <td>LinearSVM</td>\n",
       "      <td>0.969822</td>\n",
       "      <td>0.972252</td>\n",
       "      <td>0.969974</td>\n",
       "      <td>0.971112</td>\n",
       "    </tr>\n",
       "    <tr>\n",
       "      <th>2</th>\n",
       "      <td>RandomForest</td>\n",
       "      <td>0.926615</td>\n",
       "      <td>0.921839</td>\n",
       "      <td>0.939310</td>\n",
       "      <td>0.930493</td>\n",
       "    </tr>\n",
       "    <tr>\n",
       "      <th>3</th>\n",
       "      <td>KNN</td>\n",
       "      <td>0.895212</td>\n",
       "      <td>0.932106</td>\n",
       "      <td>0.862436</td>\n",
       "      <td>0.895919</td>\n",
       "    </tr>\n",
       "    <tr>\n",
       "      <th>4</th>\n",
       "      <td>GaussianNB</td>\n",
       "      <td>0.869154</td>\n",
       "      <td>0.876900</td>\n",
       "      <td>0.872232</td>\n",
       "      <td>0.874560</td>\n",
       "    </tr>\n",
       "    <tr>\n",
       "      <th>5</th>\n",
       "      <td>DecisionTree</td>\n",
       "      <td>0.830401</td>\n",
       "      <td>0.820311</td>\n",
       "      <td>0.865204</td>\n",
       "      <td>0.842160</td>\n",
       "    </tr>\n",
       "  </tbody>\n",
       "</table>\n",
       "</div>"
      ],
      "text/plain": [
       "          model  accuracy  precision    recall        f1\n",
       "0        LogReg  0.970045   0.972264  0.970400  0.971331\n",
       "1     LinearSVM  0.969822   0.972252  0.969974  0.971112\n",
       "2  RandomForest  0.926615   0.921839  0.939310  0.930493\n",
       "3           KNN  0.895212   0.932106  0.862436  0.895919\n",
       "4    GaussianNB  0.869154   0.876900  0.872232  0.874560\n",
       "5  DecisionTree  0.830401   0.820311  0.865204  0.842160"
      ]
     },
     "execution_count": 22,
     "metadata": {},
     "output_type": "execute_result"
    }
   ],
   "source": [
    "res_df"
   ]
  },
  {
   "cell_type": "code",
   "execution_count": null,
   "id": "3d19c718",
   "metadata": {},
   "outputs": [],
   "source": []
  }
 ],
 "metadata": {
  "kernelspec": {
   "display_name": "sbert-env",
   "language": "python",
   "name": "python3"
  },
  "language_info": {
   "codemirror_mode": {
    "name": "ipython",
    "version": 3
   },
   "file_extension": ".py",
   "mimetype": "text/x-python",
   "name": "python",
   "nbconvert_exporter": "python",
   "pygments_lexer": "ipython3",
   "version": "3.10.18"
  }
 },
 "nbformat": 4,
 "nbformat_minor": 5
}
