{
 "cells": [
  {
   "cell_type": "code",
   "execution_count": 1,
   "id": "d3a6c361",
   "metadata": {},
   "outputs": [
    {
     "name": "stdout",
     "output_type": "stream",
     "text": [
      "(44898, 6)\n"
     ]
    },
    {
     "data": {
      "application/vnd.microsoft.datawrangler.viewer.v0+json": {
       "columns": [
        {
         "name": "index",
         "rawType": "int64",
         "type": "integer"
        },
        {
         "name": "title",
         "rawType": "object",
         "type": "string"
        },
        {
         "name": "text",
         "rawType": "object",
         "type": "string"
        },
        {
         "name": "state",
         "rawType": "object",
         "type": "string"
        },
        {
         "name": "clean",
         "rawType": "object",
         "type": "string"
        },
        {
         "name": "tokens",
         "rawType": "object",
         "type": "string"
        },
        {
         "name": "lemmas",
         "rawType": "object",
         "type": "string"
        }
       ],
       "ref": "968a967e-8067-45cf-b44c-441dfa1357d3",
       "rows": [
        [
         "0",
         " Donald Trump Sends Out Embarrassing New Year’s Eve Message; This is Disturbing",
         "Donald Trump just couldn t wish all Americans a Happy New Year and leave it at that. Instead, he had to give a shout out to his enemies, haters and  the very dishonest fake news media.  The former reality show star had just one job to do and he couldn t do it. As our Country rapidly grows stronger and smarter, I want to wish all of my friends, supporters, enemies, haters, and even the very dishonest Fake News Media, a Happy and Healthy New Year,  President Angry Pants tweeted.  2018 will be a great year for America! As our Country rapidly grows stronger and smarter, I want to wish all of my friends, supporters, enemies, haters, and even the very dishonest Fake News Media, a Happy and Healthy New Year. 2018 will be a great year for America!  Donald J. Trump (@realDonaldTrump) December 31, 2017Trump s tweet went down about as welll as you d expect.What kind of president sends a New Year s greeting like this despicable, petty, infantile gibberish? Only Trump! His lack of decency won t even allow him to rise above the gutter long enough to wish the American citizens a happy new year!  Bishop Talbert Swan (@TalbertSwan) December 31, 2017no one likes you  Calvin (@calvinstowell) December 31, 2017Your impeachment would make 2018 a great year for America, but I ll also accept regaining control of Congress.  Miranda Yaver (@mirandayaver) December 31, 2017Do you hear yourself talk? When you have to include that many people that hate you you have to wonder? Why do the they all hate me?  Alan Sandoval (@AlanSandoval13) December 31, 2017Who uses the word Haters in a New Years wish??  Marlene (@marlene399) December 31, 2017You can t just say happy new year?  Koren pollitt (@Korencarpenter) December 31, 2017Here s Trump s New Year s Eve tweet from 2016.Happy New Year to all, including to my many enemies and those who have fought me and lost so badly they just don t know what to do. Love!  Donald J. Trump (@realDonaldTrump) December 31, 2016This is nothing new for Trump. He s been doing this for years.Trump has directed messages to his  enemies  and  haters  for New Year s, Easter, Thanksgiving, and the anniversary of 9/11. pic.twitter.com/4FPAe2KypA  Daniel Dale (@ddale8) December 31, 2017Trump s holiday tweets are clearly not presidential.How long did he work at Hallmark before becoming President?  Steven Goodine (@SGoodine) December 31, 2017He s always been like this . . . the only difference is that in the last few years, his filter has been breaking down.  Roy Schulze (@thbthttt) December 31, 2017Who, apart from a teenager uses the term haters?  Wendy (@WendyWhistles) December 31, 2017he s a fucking 5 year old  Who Knows (@rainyday80) December 31, 2017So, to all the people who voted for this a hole thinking he would change once he got into power, you were wrong! 70-year-old men don t change and now he s a year older.Photo by Andrew Burton/Getty Images.",
         "1",
         "donald trump just couldn t wish all americans a happy new year and leave it at that. instead, he had to give a shout out to his enemies, haters and the very dishonest fake news media. the former reality show star had just one job to do and he couldn t do it. as our country rapidly grows stronger and smarter, i want to wish all of my friends, supporters, enemies, haters, and even the very dishonest fake news media, a happy and healthy new year, president angry pants tweeted. will be a great year for america! as our country rapidly grows stronger and smarter, i want to wish all of my friends, supporters, enemies, haters, and even the very dishonest fake news media, a happy and healthy new year. will be a great year for america! donald j. trump ( ) december , trump s tweet went down about as welll as you d expect.what kind of president sends a new year s greeting like this despicable, petty, infantile gibberish? only trump! his lack of decency won t even allow him to rise above the gutter long enough to wish the american citizens a happy new year! bishop talbert swan ( ) december , no one likes you calvin ( ) december , your impeachment would make a great year for america, but i ll also accept regaining control of congress. miranda yaver ( ) december , do you hear yourself talk? when you have to include that many people that hate you you have to wonder? why do the they all hate me? alan sandoval ( ) december , who uses the word haters in a new years wish?? marlene ( ) december , you can t just say happy new year? koren pollitt ( ) december , here s trump s new year s eve tweet from .happy new year to all, including to my many enemies and those who have fought me and lost so badly they just don t know what to do. love! donald j. trump ( ) december , this is nothing new for trump. he s been doing this for years.trump has directed messages to his enemies and haters for new year s, easter, thanksgiving, and the anniversary of / . pic.twitter.com/ fpae kypa daniel dale ( ) december , trump s holiday tweets are clearly not presidential.how long did he work at hallmark before becoming president? steven goodine ( ) december , he s always been like this . . . the only difference is that in the last few years, his filter has been breaking down. roy schulze ( ) december , who, apart from a teenager uses the term haters? wendy ( ) december , he s a fucking year old who knows ( ) december , so, to all the people who voted for this a hole thinking he would change once he got into power, you were wrong! -year-old men don t change and now he s a year older.photo by andrew burton/getty images.",
         "['donald', 'trump', 'wish', 'americans', 'happy', 'new', 'year', 'leave', 'instead', 'give', 'shout', 'enemies', 'haters', 'dishonest', 'fake', 'news', 'media', 'former', 'reality', 'show', 'star', 'one', 'job', 'country', 'rapidly', 'grows', 'stronger', 'smarter', 'want', 'wish', 'friends', 'supporters', 'enemies', 'haters', 'even', 'dishonest', 'fake', 'news', 'media', 'happy', 'healthy', 'new', 'year', 'president', 'angry', 'pants', 'tweeted', 'great', 'year', 'america', 'country', 'rapidly', 'grows', 'stronger', 'smarter', 'want', 'wish', 'friends', 'supporters', 'enemies', 'haters', 'even', 'dishonest', 'fake', 'news', 'media', 'happy', 'healthy', 'new', 'year', 'great', 'year', 'america', 'donald', 'trump', 'december', 'trump', 'tweet', 'went', 'welll', 'expect', 'kind', 'president', 'sends', 'new', 'year', 'greeting', 'like', 'despicable', 'petty', 'infantile', 'gibberish', 'trump', 'lack', 'decency', 'even', 'allow', 'rise', 'gutter', 'long', 'enough', 'wish', 'american', 'citizens', 'happy', 'new', 'year', 'bishop', 'talbert', 'swan', 'december', 'one', 'likes', 'calvin', 'december', 'impeachment', 'would', 'make', 'great', 'year', 'america', 'also', 'accept', 'regaining', 'control', 'congress', 'miranda', 'yaver', 'december', 'hear', 'talk', 'include', 'many', 'people', 'hate', 'wonder', 'hate', 'alan', 'sandoval', 'december', 'uses', 'word', 'haters', 'new', 'years', 'wish', 'marlene', 'december', 'say', 'happy', 'new', 'year', 'koren', 'pollitt', 'december', 'trump', 'new', 'year', 'eve', 'tweet', 'happy', 'new', 'year', 'including', 'many', 'enemies', 'fought', 'lost', 'badly', 'know', 'love', 'donald', 'trump', 'december', 'nothing', 'new', 'trump', 'years', 'trump', 'directed', 'messages', 'enemies', 'haters', 'new', 'year', 'easter', 'thanksgiving', 'anniversary', 'pic', 'twitter', 'com', 'fpae', 'kypa', 'daniel', 'dale', 'december', 'trump', 'holiday', 'tweets', 'clearly', 'not', 'presidential', 'long', 'work', 'hallmark', 'becoming', 'president', 'steven', 'goodine', 'december', 'always', 'like', 'difference', 'last', 'years', 'filter', 'breaking', 'roy', 'schulze', 'december', 'apart', 'teenager', 'uses', 'term', 'haters', 'wendy', 'december', 'fucking', 'year', 'old', 'knows', 'december', 'people', 'voted', 'hole', 'thinking', 'would', 'change', 'got', 'power', 'wrong', 'year', 'old', 'men', 'change', 'year', 'older', 'photo', 'andrew', 'burton', 'getty', 'images']",
         "['donald', 'trump', 'wish', 'american', 'happy', 'new', 'year', 'leave', 'instead', 'give', 'shout', 'enemy', 'hater', 'dishonest', 'fake', 'news', 'medium', 'former', 'reality', 'show', 'star', 'one', 'job', 'country', 'rapidly', 'grow', 'strong', 'smarter', 'want', 'wish', 'friend', 'supporter', 'enemies', 'hater', 'even', 'dishonest', 'fake', 'news', 'medium', 'happy', 'healthy', 'new', 'year', 'president', 'angry', 'pant', 'tweet', 'great', 'year', 'america', 'country', 'rapidly', 'grow', 'strong', 'smarter', 'want', 'wish', 'friend', 'supporter', 'enemies', 'hater', 'even', 'dishonest', 'fake', 'news', 'medium', 'happy', 'healthy', 'new', 'year', 'great', 'year', 'america', 'donald', 'trump', 'december', 'trump', 'tweet', 'go', 'welll', 'expect', 'kind', 'president', 'send', 'new', 'year', 'greet', 'like', 'despicable', 'petty', 'infantile', 'gibberish', 'trump', 'lack', 'decency', 'even', 'allow', 'rise', 'gutter', 'long', 'enough', 'wish', 'american', 'citizen', 'happy', 'new', 'year', 'bishop', 'talbert', 'swan', 'december', 'one', 'like', 'calvin', 'december', 'impeachment', 'would', 'make', 'great', 'year', 'america', 'also', 'accept', 'regain', 'control', 'congress', 'miranda', 'yaver', 'december', 'hear', 'talk', 'include', 'many', 'people', 'hate', 'wonder', 'hate', 'alan', 'sandoval', 'december', 'use', 'word', 'hater', 'new', 'year', 'wish', 'marlene', 'december', 'say', 'happy', 'new', 'year', 'koren', 'pollitt', 'december', 'trump', 'new', 'year', 'eve', 'tweet', 'happy', 'new', 'year', 'include', 'many', 'enemy', 'fight', 'lose', 'badly', 'know', 'love', 'donald', 'trump', 'december', 'nothing', 'new', 'trump', 'year', 'trump', 'direct', 'message', 'enemy', 'hater', 'new', 'year', 'easter', 'thanksgiving', 'anniversary', 'pic', 'twitter', 'com', 'fpae', 'kypa', 'daniel', 'dale', 'december', 'trump', 'holiday', 'tweet', 'clearly', 'not', 'presidential', 'long', 'work', 'hallmark', 'become', 'president', 'steven', 'goodine', 'december', 'always', 'like', 'difference', 'last', 'year', 'filter', 'break', 'roy', 'schulze', 'december', 'apart', 'teenager', 'uses', 'term', 'hater', 'wendy', 'december', 'fucking', 'year', 'old', 'know', 'december', 'people', 'vote', 'hole', 'thinking', 'would', 'change', 'get', 'power', 'wrong', 'year', 'old', 'men', 'change', 'year', 'older', 'photo', 'andrew', 'burton', 'getty', 'image']"
        ],
        [
         "1",
         " Drunk Bragging Trump Staffer Started Russian Collusion Investigation",
         "House Intelligence Committee Chairman Devin Nunes is going to have a bad day. He s been under the assumption, like many of us, that the Christopher Steele-dossier was what prompted the Russia investigation so he s been lashing out at the Department of Justice and the FBI in order to protect Trump. As it happens, the dossier is not what started the investigation, according to documents obtained by the New York Times.Former Trump campaign adviser George Papadopoulos was drunk in a wine bar when he revealed knowledge of Russian opposition research on Hillary Clinton.On top of that, Papadopoulos wasn t just a covfefe boy for Trump, as his administration has alleged. He had a much larger role, but none so damning as being a drunken fool in a wine bar. Coffee boys  don t help to arrange a New York meeting between Trump and President Abdel Fattah el-Sisi of Egypt two months before the election. It was known before that the former aide set up meetings with world leaders for Trump, but team Trump ran with him being merely a coffee boy.In May 2016, Papadopoulos revealed to Australian diplomat Alexander Downer that Russian officials were shopping around possible dirt on then-Democratic presidential nominee Hillary Clinton. Exactly how much Mr. Papadopoulos said that night at the Kensington Wine Rooms with the Australian, Alexander Downer, is unclear,  the report states.  But two months later, when leaked Democratic emails began appearing online, Australian officials passed the information about Mr. Papadopoulos to their American counterparts, according to four current and former American and foreign officials with direct knowledge of the Australians  role. Papadopoulos pleaded guilty to lying to the F.B.I. and is now a cooperating witness with Special Counsel Robert Mueller s team.This isn t a presidency. It s a badly scripted reality TV show.Photo by Win McNamee/Getty Images.",
         "1",
         "house intelligence committee chairman devin nunes is going to have a bad day. he s been under the assumption, like many of us, that the christopher steele-dossier was what prompted the russia investigation so he s been lashing out at the department of justice and the fbi in order to protect trump. as it happens, the dossier is not what started the investigation, according to documents obtained by the new york times.former trump campaign adviser george papadopoulos was drunk in a wine bar when he revealed knowledge of russian opposition research on hillary clinton.on top of that, papadopoulos wasn t just a covfefe boy for trump, as his administration has alleged. he had a much larger role, but none so damning as being a drunken fool in a wine bar. coffee boys don t help to arrange a new york meeting between trump and president abdel fattah el-sisi of egypt two months before the election. it was known before that the former aide set up meetings with world leaders for trump, but team trump ran with him being merely a coffee boy.in may , papadopoulos revealed to australian diplomat alexander downer that russian officials were shopping around possible dirt on then-democratic presidential nominee hillary clinton. exactly how much mr. papadopoulos said that night at the kensington wine rooms with the australian, alexander downer, is unclear, the report states. but two months later, when leaked democratic emails began appearing online, australian officials passed the information about mr. papadopoulos to their american counterparts, according to four current and former american and foreign officials with direct knowledge of the australians role. papadopoulos pleaded guilty to lying to the f.b.i. and is now a cooperating witness with special counsel robert mueller s team.this isn t a presidency. it s a badly scripted reality tv show.photo by win mcnamee/getty images.",
         "['house', 'intelligence', 'committee', 'chairman', 'devin', 'nunes', 'going', 'bad', 'day', 'assumption', 'like', 'many', 'christopher', 'steele', 'dossier', 'prompted', 'russia', 'investigation', 'lashing', 'department', 'justice', 'fbi', 'order', 'protect', 'trump', 'happens', 'dossier', 'not', 'started', 'investigation', 'according', 'documents', 'obtained', 'new', 'york', 'times', 'former', 'trump', 'campaign', 'adviser', 'george', 'papadopoulos', 'drunk', 'wine', 'bar', 'revealed', 'knowledge', 'russian', 'opposition', 'research', 'hillary', 'clinton', 'top', 'papadopoulos', 'covfefe', 'boy', 'trump', 'administration', 'alleged', 'much', 'larger', 'role', 'none', 'damning', 'drunken', 'fool', 'wine', 'bar', 'coffee', 'boys', 'help', 'arrange', 'new', 'york', 'meeting', 'trump', 'president', 'abdel', 'fattah', 'sisi', 'egypt', 'two', 'months', 'election', 'known', 'former', 'aide', 'set', 'meetings', 'world', 'leaders', 'trump', 'team', 'trump', 'ran', 'merely', 'coffee', 'boy', 'may', 'papadopoulos', 'revealed', 'australian', 'diplomat', 'alexander', 'downer', 'russian', 'officials', 'shopping', 'around', 'possible', 'dirt', 'democratic', 'presidential', 'nominee', 'hillary', 'clinton', 'exactly', 'much', 'papadopoulos', 'said', 'night', 'kensington', 'wine', 'rooms', 'australian', 'alexander', 'downer', 'unclear', 'report', 'states', 'two', 'months', 'later', 'leaked', 'democratic', 'emails', 'began', 'appearing', 'online', 'australian', 'officials', 'passed', 'information', 'papadopoulos', 'american', 'counterparts', 'according', 'four', 'current', 'former', 'american', 'foreign', 'officials', 'direct', 'knowledge', 'australians', 'role', 'papadopoulos', 'pleaded', 'guilty', 'lying', 'cooperating', 'witness', 'special', 'counsel', 'robert', 'mueller', 'team', 'presidency', 'badly', 'scripted', 'reality', 'show', 'photo', 'win', 'mcnamee', 'getty', 'images']",
         "['house', 'intelligence', 'committee', 'chairman', 'devin', 'nunes', 'go', 'bad', 'day', 'assumption', 'like', 'many', 'christopher', 'steele', 'dossier', 'prompt', 'russia', 'investigation', 'lash', 'department', 'justice', 'fbi', 'order', 'protect', 'trump', 'happens', 'dossier', 'not', 'start', 'investigation', 'accord', 'document', 'obtain', 'new', 'york', 'time', 'former', 'trump', 'campaign', 'adviser', 'george', 'papadopoulos', 'drunk', 'wine', 'bar', 'reveal', 'knowledge', 'russian', 'opposition', 'research', 'hillary', 'clinton', 'top', 'papadopoulos', 'covfefe', 'boy', 'trump', 'administration', 'allege', 'much', 'large', 'role', 'none', 'damn', 'drunken', 'fool', 'wine', 'bar', 'coffee', 'boys', 'help', 'arrange', 'new', 'york', 'meeting', 'trump', 'president', 'abdel', 'fattah', 'sisi', 'egypt', 'two', 'month', 'election', 'know', 'former', 'aide', 'set', 'meeting', 'world', 'leader', 'trump', 'team', 'trump', 'run', 'merely', 'coffee', 'boy', 'may', 'papadopoulos', 'revealed', 'australian', 'diplomat', 'alexander', 'downer', 'russian', 'official', 'shop', 'around', 'possible', 'dirt', 'democratic', 'presidential', 'nominee', 'hillary', 'clinton', 'exactly', 'much', 'papadopoulos', 'say', 'night', 'kensington', 'wine', 'room', 'australian', 'alexander', 'downer', 'unclear', 'report', 'state', 'two', 'month', 'later', 'leak', 'democratic', 'email', 'begin', 'appear', 'online', 'australian', 'official', 'pass', 'information', 'papadopoulos', 'american', 'counterpart', 'accord', 'four', 'current', 'former', 'american', 'foreign', 'official', 'direct', 'knowledge', 'australian', 'role', 'papadopoulos', 'plead', 'guilty', 'lie', 'cooperate', 'witness', 'special', 'counsel', 'robert', 'mueller', 'team', 'presidency', 'badly', 'script', 'reality', 'show', 'photo', 'win', 'mcnamee', 'getty', 'image']"
        ]
       ],
       "shape": {
        "columns": 6,
        "rows": 2
       }
      },
      "text/html": [
       "<div>\n",
       "<style scoped>\n",
       "    .dataframe tbody tr th:only-of-type {\n",
       "        vertical-align: middle;\n",
       "    }\n",
       "\n",
       "    .dataframe tbody tr th {\n",
       "        vertical-align: top;\n",
       "    }\n",
       "\n",
       "    .dataframe thead th {\n",
       "        text-align: right;\n",
       "    }\n",
       "</style>\n",
       "<table border=\"1\" class=\"dataframe\">\n",
       "  <thead>\n",
       "    <tr style=\"text-align: right;\">\n",
       "      <th></th>\n",
       "      <th>title</th>\n",
       "      <th>text</th>\n",
       "      <th>state</th>\n",
       "      <th>clean</th>\n",
       "      <th>tokens</th>\n",
       "      <th>lemmas</th>\n",
       "    </tr>\n",
       "  </thead>\n",
       "  <tbody>\n",
       "    <tr>\n",
       "      <th>0</th>\n",
       "      <td>Donald Trump Sends Out Embarrassing New Year’...</td>\n",
       "      <td>Donald Trump just couldn t wish all Americans ...</td>\n",
       "      <td>1</td>\n",
       "      <td>donald trump just couldn t wish all americans ...</td>\n",
       "      <td>[donald, trump, wish, americans, happy, new, y...</td>\n",
       "      <td>[donald, trump, wish, american, happy, new, ye...</td>\n",
       "    </tr>\n",
       "    <tr>\n",
       "      <th>1</th>\n",
       "      <td>Drunk Bragging Trump Staffer Started Russian ...</td>\n",
       "      <td>House Intelligence Committee Chairman Devin Nu...</td>\n",
       "      <td>1</td>\n",
       "      <td>house intelligence committee chairman devin nu...</td>\n",
       "      <td>[house, intelligence, committee, chairman, dev...</td>\n",
       "      <td>[house, intelligence, committee, chairman, dev...</td>\n",
       "    </tr>\n",
       "  </tbody>\n",
       "</table>\n",
       "</div>"
      ],
      "text/plain": [
       "                                               title  \\\n",
       "0   Donald Trump Sends Out Embarrassing New Year’...   \n",
       "1   Drunk Bragging Trump Staffer Started Russian ...   \n",
       "\n",
       "                                                text state  \\\n",
       "0  Donald Trump just couldn t wish all Americans ...     1   \n",
       "1  House Intelligence Committee Chairman Devin Nu...     1   \n",
       "\n",
       "                                               clean  \\\n",
       "0  donald trump just couldn t wish all americans ...   \n",
       "1  house intelligence committee chairman devin nu...   \n",
       "\n",
       "                                              tokens  \\\n",
       "0  [donald, trump, wish, americans, happy, new, y...   \n",
       "1  [house, intelligence, committee, chairman, dev...   \n",
       "\n",
       "                                              lemmas  \n",
       "0  [donald, trump, wish, american, happy, new, ye...  \n",
       "1  [house, intelligence, committee, chairman, dev...  "
      ]
     },
     "execution_count": 1,
     "metadata": {},
     "output_type": "execute_result"
    }
   ],
   "source": [
    "from pymongo import MongoClient\n",
    "import pandas as pd\n",
    "\n",
    "MONGO_URI = \"mongodb://localhost:27017/\"\n",
    "DB_NAME   = \"News\"\n",
    "COLL_NAME = \"rawData\"     # usa procData (contiene clean/tokens/lemmas)\n",
    "LABEL_COL = \"state\"      # oppure \"state\" se vuoi classificare lo state\n",
    "\n",
    "client = MongoClient(MONGO_URI)\n",
    "coll = client[DB_NAME][COLL_NAME]\n",
    "\n",
    "# Ignoro \"Unnamed: 0\" direttamente in projection\n",
    "FIELDS = {\n",
    "    \"_id\": 0, \"title\": 1, \"text\": 1, \"clean\": 1,\n",
    "    \"tokens\": 1, \"lemmas\": 1, LABEL_COL: 1\n",
    "}\n",
    "docs = list(coll.find({}, FIELDS))\n",
    "df = pd.DataFrame(docs)\n",
    "\n",
    "# Filtri minimi\n",
    "df = df.dropna(subset=[LABEL_COL]).copy()\n",
    "df[LABEL_COL] = df[LABEL_COL].astype(str)\n",
    "print(df.shape)\n",
    "df.head(2)\n"
   ]
  },
  {
   "cell_type": "code",
   "execution_count": 2,
   "id": "fef0a685",
   "metadata": {},
   "outputs": [
    {
     "name": "stdout",
     "output_type": "stream",
     "text": [
      "Docs (con lemmi validi): 44182\n",
      "  state                                        tokens_used\n",
      "0     1  [donald, trump, wish, american, happy, new, ye...\n",
      "1     1  [house, intelligence, committee, chairman, dev...\n"
     ]
    }
   ],
   "source": [
    "import pandas as pd\n",
    "\n",
    "# 1) verifica presenza colonna\n",
    "if \"lemmas\" not in df.columns:\n",
    "    raise ValueError(\"Colonna 'lemmas' assente nel DataFrame. Assicurati di leggere da 'rawData'.\")\n",
    "\n",
    "# 2) tieni solo righe con lemmi non nulli\n",
    "df = df.dropna(subset=[\"lemmas\"]).copy()\n",
    "\n",
    "# 3) assicurati che ogni entry sia una lista non vuota\n",
    "df = df[df[\"lemmas\"].apply(lambda x: isinstance(x, list) and len(x) > 0)].reset_index(drop=True)\n",
    "\n",
    "# 4) usa direttamente i lemmi\n",
    "df[\"tokens_used\"] = df[\"lemmas\"]\n",
    "\n",
    "print(\"Docs (con lemmi validi):\", len(df))\n",
    "print(df[[LABEL_COL, \"tokens_used\"]].head(2))\n"
   ]
  },
  {
   "cell_type": "code",
   "execution_count": 3,
   "id": "0f84cf66",
   "metadata": {},
   "outputs": [
    {
     "name": "stdout",
     "output_type": "stream",
     "text": [
      "Vocabolario: 63899\n"
     ]
    }
   ],
   "source": [
    "from gensim.models import Word2Vec\n",
    "\n",
    "W2V_SIZE   = 100\n",
    "W2V_WINDOW = 5\n",
    "W2V_MIN    = 2\n",
    "W2V_SG     = 1    # skip-gram\n",
    "\n",
    "docs = df[\"tokens_used\"].tolist()\n",
    "\n",
    "w2v = Word2Vec(\n",
    "    sentences=docs,\n",
    "    vector_size=W2V_SIZE,\n",
    "    window=W2V_WINDOW,\n",
    "    min_count=W2V_MIN,\n",
    "    workers=4,\n",
    "    sg=W2V_SG\n",
    ")\n",
    "\n",
    "print(\"Vocabolario:\", len(w2v.wv))\n"
   ]
  },
  {
   "cell_type": "code",
   "execution_count": 4,
   "id": "1e2d227b",
   "metadata": {},
   "outputs": [
    {
     "name": "stdout",
     "output_type": "stream",
     "text": [
      "X shape: (44182, 100)\n",
      "y sample: ['1' '1' '1' '1' '1' '1' '1' '1' '1' '1']\n"
     ]
    }
   ],
   "source": [
    "import numpy as np\n",
    "\n",
    "def doc_vector(words, model):\n",
    "    \"\"\"Media dei vettori di un documento.\"\"\"\n",
    "    vecs = [model.wv[w] for w in words if w in model.wv]\n",
    "    if len(vecs) == 0:\n",
    "        return np.zeros(model.vector_size)\n",
    "    return np.mean(vecs, axis=0)\n",
    "\n",
    "X = np.vstack([doc_vector(doc, w2v) for doc in docs])\n",
    "y = df.loc[:len(X)-1, \"state\"].values  # etichetta\n",
    "\n",
    "print(\"X shape:\", X.shape)\n",
    "print(\"y sample:\", y[:10])\n"
   ]
  },
  {
   "cell_type": "code",
   "execution_count": 5,
   "id": "71a701a8",
   "metadata": {},
   "outputs": [
    {
     "data": {
      "text/plain": [
       "array([[-0.14576551,  0.20846634,  0.19916436, ...,  0.07032482,\n",
       "         0.04025758, -0.32057312],\n",
       "       [-0.07765286,  0.15813601,  0.34665048, ...,  0.03394436,\n",
       "        -0.00245274, -0.36184576],\n",
       "       [ 0.00100248,  0.08843064,  0.20083056, ...,  0.12334862,\n",
       "         0.02798297, -0.37150669],\n",
       "       ...,\n",
       "       [-0.19437018,  0.26075804,  0.26103425, ...,  0.01103982,\n",
       "         0.07664921, -0.36172029],\n",
       "       [-0.30282566,  0.25800672,  0.32357222, ..., -0.09570906,\n",
       "         0.13183808, -0.41898799],\n",
       "       [-0.33571106,  0.31191632,  0.28925517, ...,  0.01730149,\n",
       "         0.11054684, -0.40369469]])"
      ]
     },
     "execution_count": 5,
     "metadata": {},
     "output_type": "execute_result"
    }
   ],
   "source": [
    "X"
   ]
  },
  {
   "cell_type": "code",
   "execution_count": 6,
   "id": "3906d75d",
   "metadata": {},
   "outputs": [
    {
     "data": {
      "text/plain": [
       "array(['1', '1', '1', ..., '0', '0', '0'], dtype=object)"
      ]
     },
     "execution_count": 6,
     "metadata": {},
     "output_type": "execute_result"
    }
   ],
   "source": [
    "y"
   ]
  },
  {
   "cell_type": "code",
   "execution_count": 8,
   "id": "7269c4a0",
   "metadata": {},
   "outputs": [
    {
     "name": "stdout",
     "output_type": "stream",
     "text": [
      "\n",
      "== LogReg ==\n",
      "Accuracy: 0.9571 | Precision: 0.9570 | Recall: 0.9573 | F1-macro: 0.9571\n",
      "              precision    recall  f1-score   support\n",
      "\n",
      "           0       0.95      0.96      0.96      4283\n",
      "           1       0.96      0.95      0.96      4554\n",
      "\n",
      "    accuracy                           0.96      8837\n",
      "   macro avg       0.96      0.96      0.96      8837\n",
      "weighted avg       0.96      0.96      0.96      8837\n",
      "\n",
      "\n",
      "== LinearSVM ==\n",
      "Accuracy: 0.9578 | Precision: 0.9577 | Recall: 0.9578 | F1-macro: 0.9578\n",
      "              precision    recall  f1-score   support\n",
      "\n",
      "           0       0.95      0.96      0.96      4283\n",
      "           1       0.96      0.96      0.96      4554\n",
      "\n",
      "    accuracy                           0.96      8837\n",
      "   macro avg       0.96      0.96      0.96      8837\n",
      "weighted avg       0.96      0.96      0.96      8837\n",
      "\n",
      "\n",
      "== RandomForest ==\n",
      "Accuracy: 0.9614 | Precision: 0.9614 | Recall: 0.9614 | F1-macro: 0.9614\n",
      "              precision    recall  f1-score   support\n",
      "\n",
      "           0       0.96      0.96      0.96      4283\n",
      "           1       0.96      0.96      0.96      4554\n",
      "\n",
      "    accuracy                           0.96      8837\n",
      "   macro avg       0.96      0.96      0.96      8837\n",
      "weighted avg       0.96      0.96      0.96      8837\n",
      "\n",
      "\n",
      "== GaussianNB ==\n",
      "Accuracy: 0.9002 | Precision: 0.9001 | Recall: 0.9002 | F1-macro: 0.9001\n",
      "              precision    recall  f1-score   support\n",
      "\n",
      "           0       0.89      0.90      0.90      4283\n",
      "           1       0.91      0.90      0.90      4554\n",
      "\n",
      "    accuracy                           0.90      8837\n",
      "   macro avg       0.90      0.90      0.90      8837\n",
      "weighted avg       0.90      0.90      0.90      8837\n",
      "\n",
      "\n",
      "== DecisionTree ==\n",
      "Accuracy: 0.9165 | Precision: 0.9174 | Recall: 0.9158 | F1-macro: 0.9163\n",
      "              precision    recall  f1-score   support\n",
      "\n",
      "           0       0.93      0.89      0.91      4283\n",
      "           1       0.90      0.94      0.92      4554\n",
      "\n",
      "    accuracy                           0.92      8837\n",
      "   macro avg       0.92      0.92      0.92      8837\n",
      "weighted avg       0.92      0.92      0.92      8837\n",
      "\n",
      "\n",
      "== KNN ==\n",
      "Accuracy: 0.9381 | Precision: 0.9384 | Recall: 0.9387 | F1-macro: 0.9381\n",
      "              precision    recall  f1-score   support\n",
      "\n",
      "           0       0.92      0.96      0.94      4283\n",
      "           1       0.96      0.92      0.94      4554\n",
      "\n",
      "    accuracy                           0.94      8837\n",
      "   macro avg       0.94      0.94      0.94      8837\n",
      "weighted avg       0.94      0.94      0.94      8837\n",
      "\n",
      "\n",
      "=== Summary ===\n",
      "          model  accuracy  precision    recall        f1\n",
      "2  RandomForest  0.961412   0.961391  0.961359  0.961375\n",
      "1     LinearSVM  0.957791   0.957691  0.957845  0.957759\n",
      "0        LogReg  0.957112   0.956984  0.957277  0.957087\n",
      "5           KNN  0.938101   0.938387  0.938720  0.938097\n",
      "4  DecisionTree  0.916487   0.917366  0.915839  0.916285\n",
      "3    GaussianNB  0.900192   0.900058  0.900189  0.900116\n"
     ]
    }
   ],
   "source": [
    "from sklearn.model_selection import train_test_split\n",
    "from sklearn.linear_model import LogisticRegression\n",
    "from sklearn.svm import LinearSVC\n",
    "from sklearn.ensemble import RandomForestClassifier\n",
    "from sklearn.naive_bayes import GaussianNB\n",
    "from sklearn.metrics import accuracy_score, f1_score, precision_score, recall_score, classification_report\n",
    "from sklearn.neighbors import KNeighborsClassifier\n",
    "from sklearn.tree import DecisionTreeClassifier\n",
    "import pandas as pd\n",
    "\n",
    "X_train, X_test, y_train, y_test = train_test_split(\n",
    "    X, y, test_size=0.2, random_state=42, stratify=y\n",
    ")\n",
    "\n",
    "SEED = 42\n",
    "\n",
    "models = {\n",
    "    \"LogReg\": LogisticRegression(max_iter=2000, random_state=SEED),\n",
    "    \"LinearSVM\": LinearSVC(random_state=SEED),\n",
    "    \"RandomForest\": RandomForestClassifier(n_estimators=300, random_state=SEED),\n",
    "    \"GaussianNB\": GaussianNB(),\n",
    "    \"DecisionTree\": DecisionTreeClassifier(random_state=SEED),\n",
    "    \"KNN\": KNeighborsClassifier(n_neighbors=5)  # default k=5\n",
    "}\n",
    "\n",
    "scores = []\n",
    "preds = {}\n",
    "\n",
    "for name, clf in models.items():\n",
    "    clf.fit(X_train, y_train)\n",
    "    y_pred = clf.predict(X_test)\n",
    "    \n",
    "    acc = accuracy_score(y_test, y_pred)\n",
    "    f1  = f1_score(y_test, y_pred, average=\"macro\")\n",
    "    prec = precision_score(y_test, y_pred, average=\"macro\")\n",
    "    rec  = recall_score(y_test, y_pred, average=\"macro\")\n",
    "    \n",
    "    print(f\"\\n== {name} ==\")\n",
    "    print(f\"Accuracy: {acc:.4f} | Precision: {prec:.4f} | Recall: {rec:.4f} | F1-macro: {f1:.4f}\")\n",
    "    print(classification_report(y_test, y_pred))\n",
    "    \n",
    "    scores.append((name, acc, prec, rec, f1))\n",
    "    preds[name] = y_pred\n",
    "\n",
    "# Tabella riepilogativa\n",
    "df_scores = pd.DataFrame(scores, columns=[\"model\",\"accuracy\",\"precision\",\"recall\",\"f1\"])\n",
    "print(\"\\n=== Summary ===\")\n",
    "print(df_scores.sort_values(\"f1\", ascending=False))\n"
   ]
  },
  {
   "cell_type": "code",
   "execution_count": 9,
   "id": "23bae6ca",
   "metadata": {},
   "outputs": [
    {
     "data": {
      "application/vnd.microsoft.datawrangler.viewer.v0+json": {
       "columns": [
        {
         "name": "index",
         "rawType": "int64",
         "type": "integer"
        },
        {
         "name": "model",
         "rawType": "object",
         "type": "string"
        },
        {
         "name": "accuracy",
         "rawType": "float64",
         "type": "float"
        },
        {
         "name": "precision",
         "rawType": "float64",
         "type": "float"
        },
        {
         "name": "recall",
         "rawType": "float64",
         "type": "float"
        },
        {
         "name": "f1",
         "rawType": "float64",
         "type": "float"
        }
       ],
       "ref": "56fda3f9-15c3-4408-95a8-d58eae6380d7",
       "rows": [
        [
         "0",
         "LogReg",
         "0.957112142129682",
         "0.95698365398065",
         "0.9572767078350325",
         "0.9570874450055334"
        ],
        [
         "1",
         "LinearSVM",
         "0.9577911055788163",
         "0.9576905670898558",
         "0.9578451581771075",
         "0.9577589019255474"
        ],
        [
         "2",
         "RandomForest",
         "0.9614122439741994",
         "0.9613911972895806",
         "0.9613585529948502",
         "0.9613745664965567"
        ],
        [
         "3",
         "GaussianNB",
         "0.9001923729772547",
         "0.9000580796049357",
         "0.9001887332039906",
         "0.9001155979228359"
        ],
        [
         "4",
         "DecisionTree",
         "0.9164874957564785",
         "0.9173657708191889",
         "0.9158392285543104",
         "0.9162846462662757"
        ],
        [
         "5",
         "KNN",
         "0.938101165553921",
         "0.9383871402705855",
         "0.9387202328126507",
         "0.9380965869606144"
        ]
       ],
       "shape": {
        "columns": 5,
        "rows": 6
       }
      },
      "text/html": [
       "<div>\n",
       "<style scoped>\n",
       "    .dataframe tbody tr th:only-of-type {\n",
       "        vertical-align: middle;\n",
       "    }\n",
       "\n",
       "    .dataframe tbody tr th {\n",
       "        vertical-align: top;\n",
       "    }\n",
       "\n",
       "    .dataframe thead th {\n",
       "        text-align: right;\n",
       "    }\n",
       "</style>\n",
       "<table border=\"1\" class=\"dataframe\">\n",
       "  <thead>\n",
       "    <tr style=\"text-align: right;\">\n",
       "      <th></th>\n",
       "      <th>model</th>\n",
       "      <th>accuracy</th>\n",
       "      <th>precision</th>\n",
       "      <th>recall</th>\n",
       "      <th>f1</th>\n",
       "    </tr>\n",
       "  </thead>\n",
       "  <tbody>\n",
       "    <tr>\n",
       "      <th>0</th>\n",
       "      <td>LogReg</td>\n",
       "      <td>0.957112</td>\n",
       "      <td>0.956984</td>\n",
       "      <td>0.957277</td>\n",
       "      <td>0.957087</td>\n",
       "    </tr>\n",
       "    <tr>\n",
       "      <th>1</th>\n",
       "      <td>LinearSVM</td>\n",
       "      <td>0.957791</td>\n",
       "      <td>0.957691</td>\n",
       "      <td>0.957845</td>\n",
       "      <td>0.957759</td>\n",
       "    </tr>\n",
       "    <tr>\n",
       "      <th>2</th>\n",
       "      <td>RandomForest</td>\n",
       "      <td>0.961412</td>\n",
       "      <td>0.961391</td>\n",
       "      <td>0.961359</td>\n",
       "      <td>0.961375</td>\n",
       "    </tr>\n",
       "    <tr>\n",
       "      <th>3</th>\n",
       "      <td>GaussianNB</td>\n",
       "      <td>0.900192</td>\n",
       "      <td>0.900058</td>\n",
       "      <td>0.900189</td>\n",
       "      <td>0.900116</td>\n",
       "    </tr>\n",
       "    <tr>\n",
       "      <th>4</th>\n",
       "      <td>DecisionTree</td>\n",
       "      <td>0.916487</td>\n",
       "      <td>0.917366</td>\n",
       "      <td>0.915839</td>\n",
       "      <td>0.916285</td>\n",
       "    </tr>\n",
       "    <tr>\n",
       "      <th>5</th>\n",
       "      <td>KNN</td>\n",
       "      <td>0.938101</td>\n",
       "      <td>0.938387</td>\n",
       "      <td>0.938720</td>\n",
       "      <td>0.938097</td>\n",
       "    </tr>\n",
       "  </tbody>\n",
       "</table>\n",
       "</div>"
      ],
      "text/plain": [
       "          model  accuracy  precision    recall        f1\n",
       "0        LogReg  0.957112   0.956984  0.957277  0.957087\n",
       "1     LinearSVM  0.957791   0.957691  0.957845  0.957759\n",
       "2  RandomForest  0.961412   0.961391  0.961359  0.961375\n",
       "3    GaussianNB  0.900192   0.900058  0.900189  0.900116\n",
       "4  DecisionTree  0.916487   0.917366  0.915839  0.916285\n",
       "5           KNN  0.938101   0.938387  0.938720  0.938097"
      ]
     },
     "execution_count": 9,
     "metadata": {},
     "output_type": "execute_result"
    }
   ],
   "source": [
    "df_scores"
   ]
  },
  {
   "cell_type": "code",
   "execution_count": 10,
   "id": "dcf94770",
   "metadata": {},
   "outputs": [
    {
     "name": "stdout",
     "output_type": "stream",
     "text": [
      "Done.\n"
     ]
    }
   ],
   "source": [
    "\n",
    "from pymongo import MongoClient\n",
    "import numpy as np, math\n",
    "\n",
    "client = MongoClient(\"mongodb://localhost:27017/\")\n",
    "coll = client[\"News\"][\"features2_w2v\"]\n",
    "coll.delete_many({})\n",
    "\n",
    "X32 = X.astype(np.float32); y_arr = np.asarray(y)\n",
    "CHUNK = 2000\n",
    "for i in range(0, len(y_arr), CHUNK):\n",
    "    a, b = i, min(i+CHUNK, len(y_arr))\n",
    "    coll.insert_one({\"idx\": i//CHUNK, \"X\": X32[a:b].tolist(), \"y\": y_arr[a:b].tolist()})\n",
    "coll.create_index(\"idx\")\n",
    "print(\"Done.\")\n"
   ]
  },
  {
   "cell_type": "code",
   "execution_count": 11,
   "id": "fd302c30",
   "metadata": {},
   "outputs": [
    {
     "name": "stdout",
     "output_type": "stream",
     "text": [
      "(44182, 100) (44182,)\n"
     ]
    }
   ],
   "source": [
    "import numpy as np\n",
    "from pymongo import MongoClient\n",
    "\n",
    "client = MongoClient(\"mongodb://localhost:27017/\")\n",
    "coll = client[\"News\"][\"features2_w2v\"]\n",
    "\n",
    "X_list, y_list = [], []\n",
    "for d in coll.find({}, {\"_id\":0}).sort(\"idx\", 1):\n",
    "    X_list.extend(d[\"X\"])\n",
    "    y_list.extend(d[\"y\"])\n",
    "X_rec = np.array(X_list, dtype=np.float32)\n",
    "y_rec = np.array(y_list)\n",
    "print(X_rec.shape, y_rec.shape)"
   ]
  },
  {
   "cell_type": "code",
   "execution_count": 12,
   "id": "338701d3",
   "metadata": {},
   "outputs": [
    {
     "data": {
      "text/plain": [
       "array([[-0.14576551,  0.20846634,  0.19916436, ...,  0.07032482,\n",
       "         0.04025758, -0.32057312],\n",
       "       [-0.07765286,  0.15813601,  0.34665048, ...,  0.03394436,\n",
       "        -0.00245274, -0.36184576],\n",
       "       [ 0.00100248,  0.08843064,  0.20083056, ...,  0.12334862,\n",
       "         0.02798297, -0.3715067 ],\n",
       "       ...,\n",
       "       [-0.19437018,  0.26075804,  0.26103425, ...,  0.01103982,\n",
       "         0.07664921, -0.3617203 ],\n",
       "       [-0.30282566,  0.25800672,  0.32357222, ..., -0.09570906,\n",
       "         0.13183808, -0.418988  ],\n",
       "       [-0.33571106,  0.31191632,  0.28925517, ...,  0.01730149,\n",
       "         0.11054684, -0.4036947 ]], dtype=float32)"
      ]
     },
     "execution_count": 12,
     "metadata": {},
     "output_type": "execute_result"
    }
   ],
   "source": [
    "X_rec"
   ]
  }
 ],
 "metadata": {
  "kernelspec": {
   "display_name": "nlp_env",
   "language": "python",
   "name": "python3"
  },
  "language_info": {
   "codemirror_mode": {
    "name": "ipython",
    "version": 3
   },
   "file_extension": ".py",
   "mimetype": "text/x-python",
   "name": "python",
   "nbconvert_exporter": "python",
   "pygments_lexer": "ipython3",
   "version": "3.9.23"
  }
 },
 "nbformat": 4,
 "nbformat_minor": 5
}
